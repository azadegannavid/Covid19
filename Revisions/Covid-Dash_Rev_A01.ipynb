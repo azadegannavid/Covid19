{
 "cells": [
  {
   "cell_type": "markdown",
   "id": "dfff16c2",
   "metadata": {},
   "source": [
    "Navid Azadegan "
   ]
  },
  {
   "cell_type": "code",
   "execution_count": 1,
   "id": "5a9ca19f",
   "metadata": {},
   "outputs": [],
   "source": [
    "import pandas as pd\n",
    "import numpy as np\n",
    "import plotly\n",
    "import plotly.graph_objects as go\n",
    "from datetime import datetime\n",
    "pd.options.display.max_rows=100 #pd.set_option('display.max_rows', 500 )\n",
    "%matplotlib inline\n"
   ]
  },
  {
   "cell_type": "markdown",
   "id": "5c6f9181",
   "metadata": {},
   "source": [
    "Data Gathering"
   ]
  },
  {
   "cell_type": "code",
   "execution_count": 2,
   "id": "28c951fb",
   "metadata": {
    "scrolled": true
   },
   "outputs": [],
   "source": [
    "data_path1='file:///C:/Users/navid/covid/data/raw/COVID-19/csse_covid_19_data/csse_covid_19_time_series/time_series_covid19_confirmed_global.csv'\n",
    "data_path2='file:///C:/Users/navid/covid/data/raw/COVID-19/csse_covid_19_data/UID_ISO_FIPS_LookUp_Table.csv'\n",
    "data_path3='file:///C:/Users/navid/covid/data/raw2/COVID-19/data_tables/vaccine_data/global_data/time_series_covid19_vaccine_global.csv'\n",
    "pd_raw1=pd.read_csv(data_path1) #covid cases\n",
    "pd_raw2=pd.read_csv(data_path2) #Country Population\n",
    "pd_raw3=pd.read_csv(data_path3) #Vaccine data\n",
    "data_path4='C:/Users/navid/covid/data/processed/saved_covid.csv'#processed raw1"
   ]
  },
  {
   "cell_type": "markdown",
   "id": "6f3123f0",
   "metadata": {},
   "source": [
    "Data Preparation & Arragging"
   ]
  },
  {
   "cell_type": "code",
   "execution_count": 3,
   "id": "7f7406d4",
   "metadata": {
    "scrolled": true
   },
   "outputs": [],
   "source": [
    "pd_data_base=pd_raw3.rename(columns={'Country_Region':'country','People_fully_vaccinated':'vaccin','Date':'date'})\n",
    "pd_data_base=pd_data_base.drop(['Province_State','UID', 'Report_Date_String','Doses_admin','People_partially_vaccinated'], axis=1)\n",
    "pd_data_base=pd_data_base.dropna()\n",
    "pd_data_base['date']=pd_data_base.date.astype('datetime64[ns]')\n"
   ]
  },
  {
   "cell_type": "code",
   "execution_count": 4,
   "id": "bc1efcf3",
   "metadata": {},
   "outputs": [],
   "source": [
    "table = pd.pivot_table(pd_data_base, values='vaccin', index=['country'],\n",
    "                    columns=['date'], aggfunc=np.sum)"
   ]
  },
  {
   "cell_type": "code",
   "execution_count": 5,
   "id": "b2c1cf15",
   "metadata": {
    "scrolled": true
   },
   "outputs": [],
   "source": [
    "pd_raw3=table.reset_index()\n",
    "pd_raw3.to_csv(data_path4, index= False)\n",
    "#pd_raw3"
   ]
  },
  {
   "cell_type": "code",
   "execution_count": 6,
   "id": "78f13fab",
   "metadata": {},
   "outputs": [],
   "source": [
    "Time_indx=pd_raw1.columns[4:]\n",
    "Time_indx3=pd_raw3.columns[2:]"
   ]
  },
  {
   "cell_type": "code",
   "execution_count": 7,
   "id": "f51d45ff",
   "metadata": {},
   "outputs": [],
   "source": [
    "df_plot=pd.DataFrame({'date':Time_indx})\n",
    "df_plot3=pd.DataFrame({'date':Time_indx3})\n"
   ]
  },
  {
   "cell_type": "code",
   "execution_count": 8,
   "id": "21d73d43",
   "metadata": {},
   "outputs": [],
   "source": [
    "Country_list=['Iran',\n",
    "              'Germany',\n",
    "              'US','Italy']"
   ]
  },
  {
   "cell_type": "markdown",
   "id": "ef3784ec",
   "metadata": {},
   "source": [
    "------------------------------------------------------Ploting and Checking Data--------------------------------------------- "
   ]
  },
  {
   "cell_type": "code",
   "execution_count": 9,
   "id": "3dc4aae4",
   "metadata": {},
   "outputs": [],
   "source": [
    "for each in Country_list:\n",
    "    Country_Population=max(pd_raw2[pd_raw2['Country_Region']==each].Population)\n",
    "    df_plot[each]=np.array(pd_raw1[pd_raw1['Country/Region']==each].iloc[:,4::].sum(axis=0)/Country_Population)\n",
    "#df_plot.head()"
   ]
  },
  {
   "cell_type": "code",
   "execution_count": 10,
   "id": "8ea84c01",
   "metadata": {},
   "outputs": [],
   "source": [
    "df_plot['date']=df_plot.date.astype('datetime64[ns]')"
   ]
  },
  {
   "cell_type": "markdown",
   "id": "e4ce1ab9",
   "metadata": {},
   "source": [
    "\"Relative cases overtime of Covid infectors\" first view"
   ]
  },
  {
   "cell_type": "code",
   "execution_count": 11,
   "id": "91198f0f",
   "metadata": {},
   "outputs": [],
   "source": [
    "\n",
    "#df_plot.set_index('date').plot()"
   ]
  },
  {
   "cell_type": "markdown",
   "id": "1eb81e51",
   "metadata": {},
   "source": [
    "+++++++++++++++++++++++++++++++++++++++++++++++++++++++++++++++++++++++++"
   ]
  },
  {
   "cell_type": "code",
   "execution_count": 12,
   "id": "c3f035fc",
   "metadata": {},
   "outputs": [],
   "source": [
    "for each in Country_list:\n",
    "    Country_Population=max(pd_raw2[pd_raw2['Country_Region']==each].Population)\n",
    "    df_plot3[each]=np.array(pd_raw3[pd_raw3['country']==each].iloc[:,2::].sum(axis=0)*100/Country_Population)\n",
    "#df_plot3.head()  "
   ]
  },
  {
   "cell_type": "code",
   "execution_count": 13,
   "id": "c4a3d7d0",
   "metadata": {},
   "outputs": [],
   "source": [
    "df_plot3['date']=df_plot3.date.astype('datetime64[ns]')"
   ]
  },
  {
   "cell_type": "markdown",
   "id": "516e2ee0",
   "metadata": {},
   "source": [
    "\"Vaccination rate (percentage of the population) over time\" first view"
   ]
  },
  {
   "cell_type": "code",
   "execution_count": 14,
   "id": "77237d89",
   "metadata": {},
   "outputs": [],
   "source": [
    "#df_plot3.set_index('date').plot()"
   ]
  },
  {
   "cell_type": "markdown",
   "id": "87705904",
   "metadata": {},
   "source": [
    "-------------------------------------------------------------------------------Saving Data--------------------------------------------"
   ]
  },
  {
   "cell_type": "code",
   "execution_count": 15,
   "id": "ebe55124",
   "metadata": {
    "scrolled": true
   },
   "outputs": [],
   "source": [
    "##"
   ]
  },
  {
   "cell_type": "markdown",
   "id": "457341f1",
   "metadata": {},
   "source": [
    "------------------------------------------------------------------------------Ploting (5.2)"
   ]
  },
  {
   "cell_type": "code",
   "execution_count": 16,
   "id": "8efcf103",
   "metadata": {},
   "outputs": [
    {
     "ename": "NameError",
     "evalue": "name 'fig' is not defined",
     "output_type": "error",
     "traceback": [
      "\u001b[1;31m---------------------------------------------------------------------------\u001b[0m",
      "\u001b[1;31mNameError\u001b[0m                                 Traceback (most recent call last)",
      "Input \u001b[1;32mIn [16]\u001b[0m, in \u001b[0;36m<cell line: 8>\u001b[1;34m()\u001b[0m\n\u001b[0;32m      4\u001b[0m \u001b[38;5;66;03m#import dash_core_components as dcc\u001b[39;00m\n\u001b[0;32m      5\u001b[0m \u001b[38;5;66;03m#import dash_html_components as html\u001b[39;00m\n\u001b[0;32m      7\u001b[0m app \u001b[38;5;241m=\u001b[39m dash\u001b[38;5;241m.\u001b[39mDash()\n\u001b[0;32m      8\u001b[0m app\u001b[38;5;241m.\u001b[39mlayout \u001b[38;5;241m=\u001b[39m html\u001b[38;5;241m.\u001b[39mDiv([\n\u001b[0;32m      9\u001b[0m     html\u001b[38;5;241m.\u001b[39mLabel(\u001b[38;5;124m'\u001b[39m\u001b[38;5;124mMulti-Select Country\u001b[39m\u001b[38;5;124m'\u001b[39m),\n\u001b[0;32m     10\u001b[0m     dcc\u001b[38;5;241m.\u001b[39mDropdown(\n\u001b[0;32m     11\u001b[0m         \u001b[38;5;28mid\u001b[39m\u001b[38;5;241m=\u001b[39m\u001b[38;5;124m'\u001b[39m\u001b[38;5;124mcountry_drop_down\u001b[39m\u001b[38;5;124m'\u001b[39m,\n\u001b[0;32m     12\u001b[0m         options\u001b[38;5;241m=\u001b[39m[\n\u001b[0;32m     13\u001b[0m             {\u001b[38;5;124m'\u001b[39m\u001b[38;5;124mlabel\u001b[39m\u001b[38;5;124m'\u001b[39m: \u001b[38;5;124m'\u001b[39m\u001b[38;5;124mIran\u001b[39m\u001b[38;5;124m'\u001b[39m, \u001b[38;5;124m'\u001b[39m\u001b[38;5;124mvalue\u001b[39m\u001b[38;5;124m'\u001b[39m: \u001b[38;5;124m'\u001b[39m\u001b[38;5;124mIran\u001b[39m\u001b[38;5;124m'\u001b[39m},\n\u001b[0;32m     14\u001b[0m             {\u001b[38;5;124m'\u001b[39m\u001b[38;5;124mlabel\u001b[39m\u001b[38;5;124m'\u001b[39m: \u001b[38;5;124m'\u001b[39m\u001b[38;5;124mUS\u001b[39m\u001b[38;5;124m'\u001b[39m, \u001b[38;5;124m'\u001b[39m\u001b[38;5;124mvalue\u001b[39m\u001b[38;5;124m'\u001b[39m: \u001b[38;5;124m'\u001b[39m\u001b[38;5;124mUS\u001b[39m\u001b[38;5;124m'\u001b[39m},\n\u001b[0;32m     15\u001b[0m             {\u001b[38;5;124m'\u001b[39m\u001b[38;5;124mlabel\u001b[39m\u001b[38;5;124m'\u001b[39m: \u001b[38;5;124m'\u001b[39m\u001b[38;5;124mGermany\u001b[39m\u001b[38;5;124m'\u001b[39m, \u001b[38;5;124m'\u001b[39m\u001b[38;5;124mvalue\u001b[39m\u001b[38;5;124m'\u001b[39m: \u001b[38;5;124m'\u001b[39m\u001b[38;5;124mGermany\u001b[39m\u001b[38;5;124m'\u001b[39m},\n\u001b[0;32m     16\u001b[0m             {\u001b[38;5;124m'\u001b[39m\u001b[38;5;124mlabel\u001b[39m\u001b[38;5;124m'\u001b[39m: \u001b[38;5;124m'\u001b[39m\u001b[38;5;124mItaly\u001b[39m\u001b[38;5;124m'\u001b[39m, \u001b[38;5;124m'\u001b[39m\u001b[38;5;124mvalue\u001b[39m\u001b[38;5;124m'\u001b[39m: \u001b[38;5;124m'\u001b[39m\u001b[38;5;124mItaly\u001b[39m\u001b[38;5;124m'\u001b[39m}\n\u001b[0;32m     17\u001b[0m         ],\n\u001b[0;32m     18\u001b[0m         value\u001b[38;5;241m=\u001b[39m[\u001b[38;5;124m'\u001b[39m\u001b[38;5;124mUS\u001b[39m\u001b[38;5;124m'\u001b[39m, \u001b[38;5;124m'\u001b[39m\u001b[38;5;124mGermany\u001b[39m\u001b[38;5;124m'\u001b[39m],\n\u001b[0;32m     19\u001b[0m         multi\u001b[38;5;241m=\u001b[39m\u001b[38;5;28;01mTrue\u001b[39;00m\n\u001b[0;32m     20\u001b[0m     ),\n\u001b[0;32m     21\u001b[0m \n\u001b[0;32m     22\u001b[0m \n\u001b[1;32m---> 23\u001b[0m     dcc\u001b[38;5;241m.\u001b[39mGraph(figure\u001b[38;5;241m=\u001b[39m\u001b[43mfig\u001b[49m, \u001b[38;5;28mid\u001b[39m\u001b[38;5;241m=\u001b[39m\u001b[38;5;124m'\u001b[39m\u001b[38;5;124mmain_window_slope\u001b[39m\u001b[38;5;124m'\u001b[39m)\n\u001b[0;32m     24\u001b[0m ])\n",
      "\u001b[1;31mNameError\u001b[0m: name 'fig' is not defined"
     ]
    }
   ],
   "source": [
    "import dash\n",
    "from dash import dcc\n",
    "from dash import html\n",
    "#import dash_core_components as dcc\n",
    "#import dash_html_components as html\n",
    "\n",
    "app = dash.Dash()\n",
    "app.layout = html.Div([\n",
    "    html.Label('Multi-Select Country'),\n",
    "    dcc.Dropdown(\n",
    "        id='country_drop_down',\n",
    "        options=[\n",
    "            {'label': 'Iran', 'value': 'Iran'},\n",
    "            {'label': 'US', 'value': 'US'},\n",
    "            {'label': 'Germany', 'value': 'Germany'},\n",
    "            {'label': 'Italy', 'value': 'Italy'}\n",
    "        ],\n",
    "        value=['US', 'Germany'],\n",
    "        multi=True\n",
    "    ),\n",
    "\n",
    "\n",
    "    dcc.Graph(figure=fig, id='main_window_slope')\n",
    "])"
   ]
  },
  {
   "cell_type": "code",
   "execution_count": null,
   "id": "9d90d941",
   "metadata": {},
   "outputs": [],
   "source": [
    "from dash.dependencies import Input, Output\n",
    "\n",
    "@app.callback(\n",
    "    Output('main_window_slope', 'figure'),\n",
    "    [Input('country_drop_down', 'value')])\n",
    "def update_figure(country_list):\n",
    "\n",
    "    traces = []\n",
    "    for each in country_list:\n",
    "        traces.append(dict(x=df_plot.date,\n",
    "                           y=df_plot[each],\n",
    "                          mode='markers+lines',\n",
    "                          opacity=0.9,\n",
    "                           line_width=2,\n",
    "                          marker_size=4,\n",
    "                          name=each))\n",
    "\n",
    "\n",
    "\n",
    "    return {\n",
    "            'data': traces,\n",
    "            'layout':dict (\n",
    "                     width=1200,\n",
    "                     height=700\n",
    "                     #, title=\" Vaccinated percent(Source: John Hopkins csse) monitored by Navid Azadegan (Mtr : 421820) \"\n",
    "                     , title=\" Covid Cases Confirmed(Source: John Hopkins csse) monitored by Navid Azadegan (Mtr : 421820)\"\n",
    "                     , xaxis_title=\"Time\"\n",
    "                     , yaxis_title=\"Vaccin Dose (Source: John Hopkins csse)\")\n",
    "                     \n",
    "                         \n",
    "                               \n",
    "           \n",
    "     }"
   ]
  },
  {
   "cell_type": "code",
   "execution_count": null,
   "id": "5515f47e",
   "metadata": {},
   "outputs": [],
   "source": [
    "app.run_server(debug=True, use_reloader=False)"
   ]
  },
  {
   "cell_type": "code",
   "execution_count": null,
   "id": "91c31728",
   "metadata": {},
   "outputs": [],
   "source": []
  },
  {
   "cell_type": "code",
   "execution_count": null,
   "id": "0b19d11a",
   "metadata": {},
   "outputs": [],
   "source": []
  },
  {
   "cell_type": "code",
   "execution_count": null,
   "id": "4db69051",
   "metadata": {},
   "outputs": [],
   "source": []
  }
 ],
 "metadata": {
  "kernelspec": {
   "display_name": "Python 3 (ipykernel)",
   "language": "python",
   "name": "python3"
  },
  "language_info": {
   "codemirror_mode": {
    "name": "ipython",
    "version": 3
   },
   "file_extension": ".py",
   "mimetype": "text/x-python",
   "name": "python",
   "nbconvert_exporter": "python",
   "pygments_lexer": "ipython3",
   "version": "3.9.12"
  }
 },
 "nbformat": 4,
 "nbformat_minor": 5
}
