{
 "cells": [
  {
   "cell_type": "code",
   "execution_count": 1,
   "id": "60b8d8ea",
   "metadata": {},
   "outputs": [],
   "source": [
    "import pandas as pd\n",
    "import numpy as np\n",
    "\n",
    "from datetime import datetime\n",
    "def store_relational_JH_data():\n",
    "    ''' Transformes the COVID data in a relational data set\n",
    "    '''\n",
    "data_path1='file:///C:/Users/navid/covid/data/raw/COVID-19/csse_covid_19_data/csse_covid_19_time_series/time_series_covid19_confirmed_global.csv'\n",
    "pd_raw=pd.read_csv(data_path1)\n",
    "pdb=pd_raw.rename(columns={'Country/Region':'country',\n",
    "                      'Province/State':'state'})\n",
    "pdb['state']=pdb['state'].fillna('no')\n",
    "pdb=pdb.drop(['Lat','Long'],axis=1)\n",
    "prm=pdb.set_index(['state','country']) \\\n",
    "                                .T                              \\\n",
    "                                .stack(level=[0,1])             \\\n",
    "                                .reset_index()                  \\\n",
    "                                .rename(columns={'level_0':'date',\n",
    "                                                   0:'confirmed'},\n",
    "                                                  )\n",
    "prm['date']=prm.date.astype('datetime64[ns]')\n",
    "prm.to_csv('C:/Users/navid/covid/data/processed/COVID_relational_confirmed.csv',sep=';',index=False)\n",
    "\n",
    "if __name__ == '__main__':\n",
    "\n",
    "    store_relational_JH_data()"
   ]
  },
  {
   "cell_type": "markdown",
   "id": "dfff16c2",
   "metadata": {},
   "source": [
    "Navid Azadegan "
   ]
  },
  {
   "cell_type": "code",
   "execution_count": 2,
   "id": "5a9ca19f",
   "metadata": {},
   "outputs": [],
   "source": [
    "import pandas as pd\n",
    "import numpy as np\n",
    "import plotly\n",
    "import plotly.graph_objects as go\n",
    "from datetime import datetime\n",
    "pd.options.display.max_rows=8 #pd.set_option('display.max_rows', 500 )\n",
    "%matplotlib inline\n"
   ]
  },
  {
   "cell_type": "markdown",
   "id": "5c6f9181",
   "metadata": {},
   "source": [
    "Data Gathering"
   ]
  },
  {
   "cell_type": "code",
   "execution_count": 3,
   "id": "28c951fb",
   "metadata": {
    "scrolled": true
   },
   "outputs": [],
   "source": [
    "data_path1='file:///C:/Users/navid/covid/data/raw/COVID-19/csse_covid_19_data/csse_covid_19_time_series/time_series_covid19_confirmed_global.csv'\n",
    "data_path2='file:///C:/Users/navid/covid/data/raw/COVID-19/csse_covid_19_data/UID_ISO_FIPS_LookUp_Table.csv'\n",
    "data_path3='file:///C:/Users/navid/covid/data/raw2/COVID-19/data_tables/vaccine_data/global_data/time_series_covid19_vaccine_global.csv'\n",
    "pd_raw1=pd.read_csv(data_path1) #covid cases\n",
    "pd_raw2=pd.read_csv(data_path2) #Country Population\n",
    "pd_raw3=pd.read_csv(data_path3) #Vaccine data\n"
   ]
  },
  {
   "cell_type": "code",
   "execution_count": 4,
   "id": "c19ee84b",
   "metadata": {},
   "outputs": [
    {
     "data": {
      "text/html": [
       "<div>\n",
       "<style scoped>\n",
       "    .dataframe tbody tr th:only-of-type {\n",
       "        vertical-align: middle;\n",
       "    }\n",
       "\n",
       "    .dataframe tbody tr th {\n",
       "        vertical-align: top;\n",
       "    }\n",
       "\n",
       "    .dataframe thead th {\n",
       "        text-align: right;\n",
       "    }\n",
       "</style>\n",
       "<table border=\"1\" class=\"dataframe\">\n",
       "  <thead>\n",
       "    <tr style=\"text-align: right;\">\n",
       "      <th></th>\n",
       "      <th>UID</th>\n",
       "      <th>iso2</th>\n",
       "      <th>iso3</th>\n",
       "      <th>code3</th>\n",
       "      <th>FIPS</th>\n",
       "      <th>Admin2</th>\n",
       "      <th>Province_State</th>\n",
       "      <th>Country_Region</th>\n",
       "      <th>Lat</th>\n",
       "      <th>Long_</th>\n",
       "      <th>Combined_Key</th>\n",
       "      <th>Population</th>\n",
       "    </tr>\n",
       "  </thead>\n",
       "  <tbody>\n",
       "    <tr>\n",
       "      <th>0</th>\n",
       "      <td>4</td>\n",
       "      <td>AF</td>\n",
       "      <td>AFG</td>\n",
       "      <td>4.0</td>\n",
       "      <td>NaN</td>\n",
       "      <td>NaN</td>\n",
       "      <td>NaN</td>\n",
       "      <td>Afghanistan</td>\n",
       "      <td>33.939110</td>\n",
       "      <td>67.709953</td>\n",
       "      <td>Afghanistan</td>\n",
       "      <td>38928341.0</td>\n",
       "    </tr>\n",
       "    <tr>\n",
       "      <th>1</th>\n",
       "      <td>8</td>\n",
       "      <td>AL</td>\n",
       "      <td>ALB</td>\n",
       "      <td>8.0</td>\n",
       "      <td>NaN</td>\n",
       "      <td>NaN</td>\n",
       "      <td>NaN</td>\n",
       "      <td>Albania</td>\n",
       "      <td>41.153300</td>\n",
       "      <td>20.168300</td>\n",
       "      <td>Albania</td>\n",
       "      <td>2877800.0</td>\n",
       "    </tr>\n",
       "    <tr>\n",
       "      <th>2</th>\n",
       "      <td>10</td>\n",
       "      <td>AQ</td>\n",
       "      <td>ATA</td>\n",
       "      <td>10.0</td>\n",
       "      <td>NaN</td>\n",
       "      <td>NaN</td>\n",
       "      <td>NaN</td>\n",
       "      <td>Antarctica</td>\n",
       "      <td>-71.949900</td>\n",
       "      <td>23.347000</td>\n",
       "      <td>Antarctica</td>\n",
       "      <td>NaN</td>\n",
       "    </tr>\n",
       "    <tr>\n",
       "      <th>3</th>\n",
       "      <td>12</td>\n",
       "      <td>DZ</td>\n",
       "      <td>DZA</td>\n",
       "      <td>12.0</td>\n",
       "      <td>NaN</td>\n",
       "      <td>NaN</td>\n",
       "      <td>NaN</td>\n",
       "      <td>Algeria</td>\n",
       "      <td>28.033900</td>\n",
       "      <td>1.659600</td>\n",
       "      <td>Algeria</td>\n",
       "      <td>43851043.0</td>\n",
       "    </tr>\n",
       "    <tr>\n",
       "      <th>...</th>\n",
       "      <td>...</td>\n",
       "      <td>...</td>\n",
       "      <td>...</td>\n",
       "      <td>...</td>\n",
       "      <td>...</td>\n",
       "      <td>...</td>\n",
       "      <td>...</td>\n",
       "      <td>...</td>\n",
       "      <td>...</td>\n",
       "      <td>...</td>\n",
       "      <td>...</td>\n",
       "      <td>...</td>\n",
       "    </tr>\n",
       "    <tr>\n",
       "      <th>4313</th>\n",
       "      <td>84056039</td>\n",
       "      <td>US</td>\n",
       "      <td>USA</td>\n",
       "      <td>840.0</td>\n",
       "      <td>56039.0</td>\n",
       "      <td>Teton</td>\n",
       "      <td>Wyoming</td>\n",
       "      <td>US</td>\n",
       "      <td>43.935225</td>\n",
       "      <td>-110.589080</td>\n",
       "      <td>Teton, Wyoming, US</td>\n",
       "      <td>23464.0</td>\n",
       "    </tr>\n",
       "    <tr>\n",
       "      <th>4314</th>\n",
       "      <td>84056041</td>\n",
       "      <td>US</td>\n",
       "      <td>USA</td>\n",
       "      <td>840.0</td>\n",
       "      <td>56041.0</td>\n",
       "      <td>Uinta</td>\n",
       "      <td>Wyoming</td>\n",
       "      <td>US</td>\n",
       "      <td>41.287818</td>\n",
       "      <td>-110.547578</td>\n",
       "      <td>Uinta, Wyoming, US</td>\n",
       "      <td>20226.0</td>\n",
       "    </tr>\n",
       "    <tr>\n",
       "      <th>4315</th>\n",
       "      <td>84056043</td>\n",
       "      <td>US</td>\n",
       "      <td>USA</td>\n",
       "      <td>840.0</td>\n",
       "      <td>56043.0</td>\n",
       "      <td>Washakie</td>\n",
       "      <td>Wyoming</td>\n",
       "      <td>US</td>\n",
       "      <td>43.904516</td>\n",
       "      <td>-107.680187</td>\n",
       "      <td>Washakie, Wyoming, US</td>\n",
       "      <td>7805.0</td>\n",
       "    </tr>\n",
       "    <tr>\n",
       "      <th>4316</th>\n",
       "      <td>84056045</td>\n",
       "      <td>US</td>\n",
       "      <td>USA</td>\n",
       "      <td>840.0</td>\n",
       "      <td>56045.0</td>\n",
       "      <td>Weston</td>\n",
       "      <td>Wyoming</td>\n",
       "      <td>US</td>\n",
       "      <td>43.839612</td>\n",
       "      <td>-104.567488</td>\n",
       "      <td>Weston, Wyoming, US</td>\n",
       "      <td>6927.0</td>\n",
       "    </tr>\n",
       "  </tbody>\n",
       "</table>\n",
       "<p>4317 rows × 12 columns</p>\n",
       "</div>"
      ],
      "text/plain": [
       "           UID iso2 iso3  code3     FIPS    Admin2 Province_State  \\\n",
       "0            4   AF  AFG    4.0      NaN       NaN            NaN   \n",
       "1            8   AL  ALB    8.0      NaN       NaN            NaN   \n",
       "2           10   AQ  ATA   10.0      NaN       NaN            NaN   \n",
       "3           12   DZ  DZA   12.0      NaN       NaN            NaN   \n",
       "...        ...  ...  ...    ...      ...       ...            ...   \n",
       "4313  84056039   US  USA  840.0  56039.0     Teton        Wyoming   \n",
       "4314  84056041   US  USA  840.0  56041.0     Uinta        Wyoming   \n",
       "4315  84056043   US  USA  840.0  56043.0  Washakie        Wyoming   \n",
       "4316  84056045   US  USA  840.0  56045.0    Weston        Wyoming   \n",
       "\n",
       "     Country_Region        Lat       Long_           Combined_Key  Population  \n",
       "0       Afghanistan  33.939110   67.709953            Afghanistan  38928341.0  \n",
       "1           Albania  41.153300   20.168300                Albania   2877800.0  \n",
       "2        Antarctica -71.949900   23.347000             Antarctica         NaN  \n",
       "3           Algeria  28.033900    1.659600                Algeria  43851043.0  \n",
       "...             ...        ...         ...                    ...         ...  \n",
       "4313             US  43.935225 -110.589080     Teton, Wyoming, US     23464.0  \n",
       "4314             US  41.287818 -110.547578     Uinta, Wyoming, US     20226.0  \n",
       "4315             US  43.904516 -107.680187  Washakie, Wyoming, US      7805.0  \n",
       "4316             US  43.839612 -104.567488    Weston, Wyoming, US      6927.0  \n",
       "\n",
       "[4317 rows x 12 columns]"
      ]
     },
     "execution_count": 4,
     "metadata": {},
     "output_type": "execute_result"
    }
   ],
   "source": [
    "pd_raw2"
   ]
  },
  {
   "cell_type": "code",
   "execution_count": 5,
   "id": "29c92adf",
   "metadata": {},
   "outputs": [
    {
     "data": {
      "text/plain": [
       "pandas.core.frame.DataFrame"
      ]
     },
     "execution_count": 5,
     "metadata": {},
     "output_type": "execute_result"
    }
   ],
   "source": [
    "#type(pd_raw2)\n",
    "df = pd.DataFrame(pd_raw2)\n",
    "type(df)"
   ]
  },
  {
   "cell_type": "code",
   "execution_count": 6,
   "id": "ad748695",
   "metadata": {},
   "outputs": [
    {
     "data": {
      "text/plain": [
       "0       False\n",
       "1       False\n",
       "2       False\n",
       "3       False\n",
       "        ...  \n",
       "4313     True\n",
       "4314     True\n",
       "4315     True\n",
       "4316     True\n",
       "Name: Province_State, Length: 4317, dtype: bool"
      ]
     },
     "execution_count": 6,
     "metadata": {},
     "output_type": "execute_result"
    }
   ],
   "source": [
    "df['Province_State'].isnull()\n",
    "df['Province_State'].notnull() "
   ]
  },
  {
   "cell_type": "markdown",
   "id": "6f3123f0",
   "metadata": {},
   "source": [
    "Data Preparation & Arragging"
   ]
  },
  {
   "cell_type": "code",
   "execution_count": 7,
   "id": "7f7406d4",
   "metadata": {
    "scrolled": true
   },
   "outputs": [],
   "source": [
    "pd_data_base=pd_raw3.rename(columns={'Country_Region':'country','People_fully_vaccinated':'vaccin','Date':'date'})\n",
    "pd_data_base=pd_data_base.drop(['Province_State','UID', 'Report_Date_String','Doses_admin','People_partially_vaccinated'], axis=1)\n",
    "pd_data_base=pd_data_base.dropna()\n",
    "pd_data_base['date']=pd_data_base.date.astype('datetime64[ns]')\n"
   ]
  },
  {
   "cell_type": "code",
   "execution_count": 8,
   "id": "bc1efcf3",
   "metadata": {},
   "outputs": [],
   "source": [
    "table = pd.pivot_table(pd_data_base, values='vaccin', index=['country'],\n",
    "                    columns=['date'], aggfunc=np.sum)"
   ]
  },
  {
   "cell_type": "code",
   "execution_count": 9,
   "id": "b2c1cf15",
   "metadata": {
    "scrolled": true
   },
   "outputs": [],
   "source": [
    "pd_raw3=table.reset_index()\n",
    "\n",
    "#pd_raw3"
   ]
  },
  {
   "cell_type": "code",
   "execution_count": 10,
   "id": "78f13fab",
   "metadata": {},
   "outputs": [],
   "source": [
    "Time_indx=pd_raw1.columns[4:]\n",
    "Time_indx3=pd_raw3.columns[2:]"
   ]
  },
  {
   "cell_type": "code",
   "execution_count": 11,
   "id": "f51d45ff",
   "metadata": {},
   "outputs": [],
   "source": [
    "df_plot=pd.DataFrame({'date':Time_indx})\n",
    "df_plot3=pd.DataFrame({'date':Time_indx3})\n"
   ]
  },
  {
   "cell_type": "code",
   "execution_count": 12,
   "id": "21d73d43",
   "metadata": {},
   "outputs": [],
   "source": [
    "pd_raw2.Population=pd_raw2.Population.fillna(1)\n",
    "Country_list=pd_raw2.Country_Region.unique()\n",
    "\n"
   ]
  },
  {
   "cell_type": "markdown",
   "id": "ef3784ec",
   "metadata": {},
   "source": [
    "------------------------------------------------------Ploting and Checking Data--------------------------------------------- "
   ]
  },
  {
   "cell_type": "code",
   "execution_count": null,
   "id": "3dc4aae4",
   "metadata": {
    "scrolled": false
   },
   "outputs": [],
   "source": [
    "for each in Country_list:\n",
    "    Country_Population=max(pd_raw2[pd_raw2['Country_Region']==each].Population)\n",
    "    df_plot[each]=np.array(pd_raw1[pd_raw1['Country/Region']==each].iloc[:,4::].sum(axis=0)/Country_Population)\n",
    "#df_plot.head()"
   ]
  },
  {
   "cell_type": "code",
   "execution_count": 14,
   "id": "8ea84c01",
   "metadata": {},
   "outputs": [],
   "source": [
    "df_plot['date']=df_plot.date.astype('datetime64[ns]')"
   ]
  },
  {
   "cell_type": "markdown",
   "id": "e4ce1ab9",
   "metadata": {},
   "source": [
    "\"Relative cases overtime of Covid infectors\" first view"
   ]
  },
  {
   "cell_type": "code",
   "execution_count": 15,
   "id": "91198f0f",
   "metadata": {},
   "outputs": [],
   "source": [
    "\n",
    "#df_plot.set_index('date').plot()"
   ]
  },
  {
   "cell_type": "code",
   "execution_count": null,
   "id": "c3f035fc",
   "metadata": {},
   "outputs": [],
   "source": [
    "for each in Country_list:\n",
    "    Country_Population=max(pd_raw2[pd_raw2['Country_Region']==each].Population)\n",
    "    df_plot3[each]=np.array(pd_raw3[pd_raw3['country']==each].iloc[:,2::].sum(axis=0)/Country_Population)\n",
    "#df_plot3.head()  "
   ]
  },
  {
   "cell_type": "code",
   "execution_count": 17,
   "id": "c4a3d7d0",
   "metadata": {},
   "outputs": [],
   "source": [
    "df_plot3['date']=df_plot3.date.astype('datetime64[ns]')"
   ]
  },
  {
   "cell_type": "markdown",
   "id": "516e2ee0",
   "metadata": {},
   "source": [
    "\"Vaccination rate (percentage of the population) over time\" first view"
   ]
  },
  {
   "cell_type": "code",
   "execution_count": 18,
   "id": "77237d89",
   "metadata": {},
   "outputs": [],
   "source": [
    "#df_plot3.set_index('date').plot()"
   ]
  },
  {
   "cell_type": "markdown",
   "id": "87705904",
   "metadata": {},
   "source": [
    "-------------------------------------------------------------------------------Saving Data--------------------------------------------"
   ]
  },
  {
   "cell_type": "code",
   "execution_count": 19,
   "id": "ebe55124",
   "metadata": {
    "scrolled": true
   },
   "outputs": [],
   "source": [
    "data_path4='C:/Users/navid/covid/data/processed/saved_covid.csv'#processed raw1\n",
    "pd_raw3.to_csv(data_path4, index= False)"
   ]
  },
  {
   "cell_type": "markdown",
   "id": "457341f1",
   "metadata": {},
   "source": [
    "------------------------------------------------------------------------------Ploting (5.2)"
   ]
  },
  {
   "cell_type": "code",
   "execution_count": 20,
   "id": "8efcf103",
   "metadata": {},
   "outputs": [],
   "source": [
    "import dash\n",
    "from dash import dcc\n",
    "from dash import html\n",
    "fig=go.Figure()\n",
    "#import dash_core_components as dcc\n",
    "#import dash_html_components as html\n",
    "\n",
    "app = dash.Dash()\n",
    "app.layout = html.Div([\n",
    "    html.Label('Multi-Select Country'),\n",
    "    dcc.Dropdown(\n",
    "        id='country_drop_down',\n",
    "        options=[{'label': each, 'value': each} for each in Country_list],\n",
    "                    \n",
    "        value=['US', 'Germany'],\n",
    "        multi=True\n",
    "    ),\n",
    "\n",
    "\n",
    "    dcc.Graph(figure=fig, id='main_window_slope')\n",
    "])"
   ]
  },
  {
   "cell_type": "code",
   "execution_count": 21,
   "id": "9d90d941",
   "metadata": {},
   "outputs": [],
   "source": [
    "from dash.dependencies import Input, Output\n",
    "\n",
    "@app.callback(\n",
    "    Output('main_window_slope', 'figure'),\n",
    "    [Input('country_drop_down', 'value')])\n",
    "def update_figure(country_list):\n",
    "\n",
    "    traces = []\n",
    "    for each in country_list:\n",
    "        traces.append(dict(x=df_plot.date,\n",
    "                           y=df_plot[each],\n",
    "                          mode='markers+lines',\n",
    "                          opacity=0.9,\n",
    "                           line_width=2,\n",
    "                          marker_size=4,\n",
    "                          name=each))\n",
    "\n",
    "\n",
    "\n",
    "    return {\n",
    "            'data': traces,\n",
    "            'layout':dict (\n",
    "                     width=1200,\n",
    "                     height=700\n",
    "                     , xaxis_title=\"Time\"\n",
    "                     , yaxis_title=\"Vaccin Dose (Source: John Hopkins csse)\")\n",
    "                     \n",
    "                       \n",
    "                               \n",
    "           \n",
    "     }\n",
    "# title=\"--- (Source: John Hopkins csse) monitored by Navid Azadegan (Mtr : 421820) ---\""
   ]
  },
  {
   "cell_type": "code",
   "execution_count": null,
   "id": "5515f47e",
   "metadata": {},
   "outputs": [
    {
     "name": "stdout",
     "output_type": "stream",
     "text": [
      "Dash is running on http://127.0.0.1:8050/\n",
      "\n",
      " * Serving Flask app \"__main__\" (lazy loading)\n",
      " * Environment: production\n",
      "\u001b[31m   WARNING: This is a development server. Do not use it in a production deployment.\u001b[0m\n",
      "\u001b[2m   Use a production WSGI server instead.\u001b[0m\n",
      " * Debug mode: on\n"
     ]
    }
   ],
   "source": [
    "app.run_server(debug=True, use_reloader=False)"
   ]
  },
  {
   "cell_type": "code",
   "execution_count": null,
   "id": "91c31728",
   "metadata": {},
   "outputs": [],
   "source": []
  },
  {
   "cell_type": "code",
   "execution_count": null,
   "id": "0b19d11a",
   "metadata": {},
   "outputs": [],
   "source": []
  },
  {
   "cell_type": "code",
   "execution_count": null,
   "id": "4db69051",
   "metadata": {},
   "outputs": [],
   "source": []
  }
 ],
 "metadata": {
  "kernelspec": {
   "display_name": "Python 3 (ipykernel)",
   "language": "python",
   "name": "python3"
  },
  "language_info": {
   "codemirror_mode": {
    "name": "ipython",
    "version": 3
   },
   "file_extension": ".py",
   "mimetype": "text/x-python",
   "name": "python",
   "nbconvert_exporter": "python",
   "pygments_lexer": "ipython3",
   "version": "3.9.12"
  }
 },
 "nbformat": 4,
 "nbformat_minor": 5
}
