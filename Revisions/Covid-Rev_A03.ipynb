{
 "cells": [
  {
   "cell_type": "markdown",
   "id": "dfff16c2",
   "metadata": {},
   "source": [
    "Navid Azadegan "
   ]
  },
  {
   "cell_type": "code",
   "execution_count": 50,
   "id": "5a9ca19f",
   "metadata": {},
   "outputs": [],
   "source": [
    "import pandas as pd\n",
    "import numpy as np\n",
    "from datetime import datetime\n",
    "import plotly\n",
    "\n",
    "pd.options.display.max_rows=500 #pd.set_option('display.max_rows', 500 )\n",
    "\n",
    "%matplotlib inline\n"
   ]
  },
  {
   "cell_type": "markdown",
   "id": "5c6f9181",
   "metadata": {},
   "source": [
    "Data Gathering"
   ]
  },
  {
   "cell_type": "code",
   "execution_count": 51,
   "id": "28c951fb",
   "metadata": {
    "scrolled": true
   },
   "outputs": [],
   "source": [
    "data_path1='file:///C:/Users/navid/covid/data/raw/COVID-19/csse_covid_19_data/csse_covid_19_time_series/time_series_covid19_confirmed_global.csv'\n",
    "data_path2='file:///C:/Users/navid/covid/data/raw/COVID-19/csse_covid_19_data/UID_ISO_FIPS_LookUp_Table.csv'\n",
    "data_path3='file:///C:/Users/navid/covid/data/raw2/COVID-19/data_tables/vaccine_data/global_data/time_series_covid19_vaccine_doses_admin_global.csv'\n",
    "pd_raw1=pd.read_csv(data_path1) #covid cases\n",
    "pd_raw2=pd.read_csv(data_path2) #Country Population\n",
    "pd_raw3=pd.read_csv(data_path3) #Vaccine data\n",
    "data_path4='C:/Users/navid/covid/data/processed/saved_covid.csv'#processed raw1"
   ]
  },
  {
   "cell_type": "markdown",
   "id": "6f3123f0",
   "metadata": {},
   "source": [
    "Data Preparation"
   ]
  },
  {
   "cell_type": "code",
   "execution_count": 52,
   "id": "78f13fab",
   "metadata": {},
   "outputs": [],
   "source": [
    "Time_indx=pd_raw1.columns[4:]\n",
    "Time_indx3=pd_raw3.columns[12:]"
   ]
  },
  {
   "cell_type": "code",
   "execution_count": 53,
   "id": "f51d45ff",
   "metadata": {},
   "outputs": [],
   "source": [
    "df_plot=pd.DataFrame({'data':Time_indx})\n",
    "df_plot3=pd.DataFrame({'data':Time_indx3})\n",
    "\n",
    "\n",
    "#df_plot3.head()\n",
    "#pd_raw['Country/Region'].unique()\n",
    "#df_plot3"
   ]
  },
  {
   "cell_type": "code",
   "execution_count": 54,
   "id": "21d73d43",
   "metadata": {},
   "outputs": [],
   "source": [
    "Country_list=['Iran',\n",
    "              'Germany',\n",
    "              'US']"
   ]
  },
  {
   "cell_type": "code",
   "execution_count": 55,
   "id": "c3f035fc",
   "metadata": {},
   "outputs": [],
   "source": [
    "for each in Country_list:\n",
    "   df_plot3[each]=np.array(pd_raw3[pd_raw3['Country_Region']==each].iloc[:,12::].sum(axis=0))"
   ]
  },
  {
   "cell_type": "code",
   "execution_count": 56,
   "id": "3dc4aae4",
   "metadata": {},
   "outputs": [],
   "source": [
    "for each in Country_list:\n",
    "    Country_Population=max(pd_raw2[pd_raw2['Country_Region']==each].Population)\n",
    "    df_plot[each]=np.array(pd_raw1[pd_raw1['Country/Region']==each].iloc[:,4::].sum(axis=0)/Country_Population)\n",
    "  "
   ]
  },
  {
   "cell_type": "code",
   "execution_count": 57,
   "id": "72ef9d19",
   "metadata": {},
   "outputs": [
    {
     "data": {
      "text/html": [
       "<div>\n",
       "<style scoped>\n",
       "    .dataframe tbody tr th:only-of-type {\n",
       "        vertical-align: middle;\n",
       "    }\n",
       "\n",
       "    .dataframe tbody tr th {\n",
       "        vertical-align: top;\n",
       "    }\n",
       "\n",
       "    .dataframe thead th {\n",
       "        text-align: right;\n",
       "    }\n",
       "</style>\n",
       "<table border=\"1\" class=\"dataframe\">\n",
       "  <thead>\n",
       "    <tr style=\"text-align: right;\">\n",
       "      <th></th>\n",
       "      <th>data</th>\n",
       "      <th>Iran</th>\n",
       "      <th>Germany</th>\n",
       "      <th>US</th>\n",
       "    </tr>\n",
       "  </thead>\n",
       "  <tbody>\n",
       "    <tr>\n",
       "      <th>0</th>\n",
       "      <td>1/22/20</td>\n",
       "      <td>0.0</td>\n",
       "      <td>0.0</td>\n",
       "      <td>3.035212e-09</td>\n",
       "    </tr>\n",
       "    <tr>\n",
       "      <th>1</th>\n",
       "      <td>1/23/20</td>\n",
       "      <td>0.0</td>\n",
       "      <td>0.0</td>\n",
       "      <td>3.035212e-09</td>\n",
       "    </tr>\n",
       "    <tr>\n",
       "      <th>2</th>\n",
       "      <td>1/24/20</td>\n",
       "      <td>0.0</td>\n",
       "      <td>0.0</td>\n",
       "      <td>6.070424e-09</td>\n",
       "    </tr>\n",
       "    <tr>\n",
       "      <th>3</th>\n",
       "      <td>1/25/20</td>\n",
       "      <td>0.0</td>\n",
       "      <td>0.0</td>\n",
       "      <td>6.070424e-09</td>\n",
       "    </tr>\n",
       "    <tr>\n",
       "      <th>4</th>\n",
       "      <td>1/26/20</td>\n",
       "      <td>0.0</td>\n",
       "      <td>0.0</td>\n",
       "      <td>1.517606e-08</td>\n",
       "    </tr>\n",
       "  </tbody>\n",
       "</table>\n",
       "</div>"
      ],
      "text/plain": [
       "      data  Iran  Germany            US\n",
       "0  1/22/20   0.0      0.0  3.035212e-09\n",
       "1  1/23/20   0.0      0.0  3.035212e-09\n",
       "2  1/24/20   0.0      0.0  6.070424e-09\n",
       "3  1/25/20   0.0      0.0  6.070424e-09\n",
       "4  1/26/20   0.0      0.0  1.517606e-08"
      ]
     },
     "execution_count": 57,
     "metadata": {},
     "output_type": "execute_result"
    }
   ],
   "source": [
    "df_plot.head()"
   ]
  },
  {
   "cell_type": "code",
   "execution_count": 58,
   "id": "91198f0f",
   "metadata": {},
   "outputs": [
    {
     "data": {
      "text/plain": [
       "<AxesSubplot:xlabel='data'>"
      ]
     },
     "execution_count": 58,
     "metadata": {},
     "output_type": "execute_result"
    },
    {
     "data": {
      "image/png": "[encoded data removed]",
      "text/plain": [
       "<Figure size 432x288 with 1 Axes>"
      ]
     },
     "metadata": {
      "needs_background": "light"
     },
     "output_type": "display_data"
    }
   ],
   "source": [
    "\n",
    "df_plot.set_index('data').plot()"
   ]
  },
  {
   "cell_type": "code",
   "execution_count": 59,
   "id": "723f0cb0",
   "metadata": {},
   "outputs": [],
   "source": [
    "df_plot3['data']=df_plot3.data.astype('datetime64[ns]')"
   ]
  },
  {
   "cell_type": "code",
   "execution_count": 60,
   "id": "c3388aff",
   "metadata": {},
   "outputs": [
    {
     "data": {
      "text/html": [
       "<div>\n",
       "<style scoped>\n",
       "    .dataframe tbody tr th:only-of-type {\n",
       "        vertical-align: middle;\n",
       "    }\n",
       "\n",
       "    .dataframe tbody tr th {\n",
       "        vertical-align: top;\n",
       "    }\n",
       "\n",
       "    .dataframe thead th {\n",
       "        text-align: right;\n",
       "    }\n",
       "</style>\n",
       "<table border=\"1\" class=\"dataframe\">\n",
       "  <thead>\n",
       "    <tr style=\"text-align: right;\">\n",
       "      <th></th>\n",
       "      <th>data</th>\n",
       "      <th>Iran</th>\n",
       "      <th>Germany</th>\n",
       "      <th>US</th>\n",
       "    </tr>\n",
       "  </thead>\n",
       "  <tbody>\n",
       "    <tr>\n",
       "      <th>0</th>\n",
       "      <td>2020-12-12</td>\n",
       "      <td>0.0</td>\n",
       "      <td>0.0</td>\n",
       "      <td>0.0</td>\n",
       "    </tr>\n",
       "    <tr>\n",
       "      <th>1</th>\n",
       "      <td>2020-12-13</td>\n",
       "      <td>0.0</td>\n",
       "      <td>0.0</td>\n",
       "      <td>0.0</td>\n",
       "    </tr>\n",
       "    <tr>\n",
       "      <th>2</th>\n",
       "      <td>2020-12-14</td>\n",
       "      <td>0.0</td>\n",
       "      <td>0.0</td>\n",
       "      <td>50.0</td>\n",
       "    </tr>\n",
       "    <tr>\n",
       "      <th>3</th>\n",
       "      <td>2020-12-15</td>\n",
       "      <td>0.0</td>\n",
       "      <td>0.0</td>\n",
       "      <td>1058.0</td>\n",
       "    </tr>\n",
       "    <tr>\n",
       "      <th>4</th>\n",
       "      <td>2020-12-16</td>\n",
       "      <td>0.0</td>\n",
       "      <td>0.0</td>\n",
       "      <td>12835.0</td>\n",
       "    </tr>\n",
       "  </tbody>\n",
       "</table>\n",
       "</div>"
      ],
      "text/plain": [
       "        data  Iran  Germany       US\n",
       "0 2020-12-12   0.0      0.0      0.0\n",
       "1 2020-12-13   0.0      0.0      0.0\n",
       "2 2020-12-14   0.0      0.0     50.0\n",
       "3 2020-12-15   0.0      0.0   1058.0\n",
       "4 2020-12-16   0.0      0.0  12835.0"
      ]
     },
     "execution_count": 60,
     "metadata": {},
     "output_type": "execute_result"
    }
   ],
   "source": [
    "df_plot3.head()"
   ]
  },
  {
   "cell_type": "code",
   "execution_count": 61,
   "id": "bb44b644",
   "metadata": {},
   "outputs": [
    {
     "data": {
      "text/plain": [
       "<AxesSubplot:xlabel='data'>"
      ]
     },
     "execution_count": 61,
     "metadata": {},
     "output_type": "execute_result"
    },
    {
     "data": {
      "image/png": "[encoded data removed]",
      "text/plain": [
       "<Figure size 432x288 with 1 Axes>"
      ]
     },
     "metadata": {
      "needs_background": "light"
     },
     "output_type": "display_data"
    }
   ],
   "source": [
    "df_plot3.set_index('data').plot()"
   ]
  },
  {
   "cell_type": "markdown",
   "id": "13aaa719",
   "metadata": {},
   "source": [
    "Data Type (4.2)"
   ]
  },
  {
   "cell_type": "code",
   "execution_count": 62,
   "id": "94425390",
   "metadata": {},
   "outputs": [
    {
     "data": {
      "text/plain": [
       "datetime.datetime(2020, 1, 22, 0, 0)"
      ]
     },
     "execution_count": 62,
     "metadata": {},
     "output_type": "execute_result"
    }
   ],
   "source": [
    "datetime.strptime(df_plot.data[0],\"%m/%d/%y\")"
   ]
  },
  {
   "cell_type": "code",
   "execution_count": 63,
   "id": "279e5882",
   "metadata": {},
   "outputs": [],
   "source": [
    "time_idx=[datetime.strptime( each,\"%m/%d/%y\") for each in df_plot.data]\n"
   ]
  },
  {
   "cell_type": "code",
   "execution_count": 64,
   "id": "1676e186",
   "metadata": {},
   "outputs": [],
   "source": [
    "time_str=[each.strftime('%Y-%m-%d') for each in time_idx] \n"
   ]
  },
  {
   "cell_type": "code",
   "execution_count": 65,
   "id": "3dcf9151",
   "metadata": {},
   "outputs": [],
   "source": [
    "df_plot['data']=time_idx"
   ]
  },
  {
   "cell_type": "code",
   "execution_count": 66,
   "id": "fc0eaa6c",
   "metadata": {
    "scrolled": false
   },
   "outputs": [
    {
     "data": {
      "text/html": [
       "<div>\n",
       "<style scoped>\n",
       "    .dataframe tbody tr th:only-of-type {\n",
       "        vertical-align: middle;\n",
       "    }\n",
       "\n",
       "    .dataframe tbody tr th {\n",
       "        vertical-align: top;\n",
       "    }\n",
       "\n",
       "    .dataframe thead th {\n",
       "        text-align: right;\n",
       "    }\n",
       "</style>\n",
       "<table border=\"1\" class=\"dataframe\">\n",
       "  <thead>\n",
       "    <tr style=\"text-align: right;\">\n",
       "      <th></th>\n",
       "      <th>data</th>\n",
       "      <th>Iran</th>\n",
       "      <th>Germany</th>\n",
       "      <th>US</th>\n",
       "    </tr>\n",
       "  </thead>\n",
       "  <tbody>\n",
       "    <tr>\n",
       "      <th>0</th>\n",
       "      <td>2020-01-22</td>\n",
       "      <td>0.0</td>\n",
       "      <td>0.0</td>\n",
       "      <td>3.035212e-09</td>\n",
       "    </tr>\n",
       "    <tr>\n",
       "      <th>1</th>\n",
       "      <td>2020-01-23</td>\n",
       "      <td>0.0</td>\n",
       "      <td>0.0</td>\n",
       "      <td>3.035212e-09</td>\n",
       "    </tr>\n",
       "    <tr>\n",
       "      <th>2</th>\n",
       "      <td>2020-01-24</td>\n",
       "      <td>0.0</td>\n",
       "      <td>0.0</td>\n",
       "      <td>6.070424e-09</td>\n",
       "    </tr>\n",
       "    <tr>\n",
       "      <th>3</th>\n",
       "      <td>2020-01-25</td>\n",
       "      <td>0.0</td>\n",
       "      <td>0.0</td>\n",
       "      <td>6.070424e-09</td>\n",
       "    </tr>\n",
       "    <tr>\n",
       "      <th>4</th>\n",
       "      <td>2020-01-26</td>\n",
       "      <td>0.0</td>\n",
       "      <td>0.0</td>\n",
       "      <td>1.517606e-08</td>\n",
       "    </tr>\n",
       "  </tbody>\n",
       "</table>\n",
       "</div>"
      ],
      "text/plain": [
       "        data  Iran  Germany            US\n",
       "0 2020-01-22   0.0      0.0  3.035212e-09\n",
       "1 2020-01-23   0.0      0.0  3.035212e-09\n",
       "2 2020-01-24   0.0      0.0  6.070424e-09\n",
       "3 2020-01-25   0.0      0.0  6.070424e-09\n",
       "4 2020-01-26   0.0      0.0  1.517606e-08"
      ]
     },
     "execution_count": 66,
     "metadata": {},
     "output_type": "execute_result"
    }
   ],
   "source": [
    "df_plot.head()"
   ]
  },
  {
   "cell_type": "markdown",
   "id": "87705904",
   "metadata": {},
   "source": [
    "-------------------------------------------------------------------------------Saving Data--------------------------------------------"
   ]
  },
  {
   "cell_type": "code",
   "execution_count": 67,
   "id": "2d316b4a",
   "metadata": {},
   "outputs": [],
   "source": [
    "df_plot.to_csv(data_path4, index= False)"
   ]
  },
  {
   "cell_type": "markdown",
   "id": "5e4fe371",
   "metadata": {},
   "source": [
    "Data Arragging (5.1)"
   ]
  },
  {
   "cell_type": "code",
   "execution_count": 68,
   "id": "dd30af2d",
   "metadata": {},
   "outputs": [],
   "source": [
    "pd_data_base=pd_raw1.rename(columns={'Country/Region':'country','Province/State':'state'})\n",
    "pd_data_base=pd_data_base.drop(['Lat', 'Long'], axis=1)"
   ]
  },
  {
   "cell_type": "code",
   "execution_count": 69,
   "id": "86a81b04",
   "metadata": {},
   "outputs": [],
   "source": [
    "#pd_data_base"
   ]
  },
  {
   "cell_type": "code",
   "execution_count": 70,
   "id": "9b72ba0d",
   "metadata": {},
   "outputs": [],
   "source": [
    "pd_data_base.set_index(['state','country'])\n",
    "pd_data_base.set_index(['state','country']).T\n",
    "test_pd=pd_data_base.set_index(['state','country']).T"
   ]
  },
  {
   "cell_type": "code",
   "execution_count": 71,
   "id": "a83c833b",
   "metadata": {},
   "outputs": [],
   "source": [
    "#test_pd.columns"
   ]
  },
  {
   "cell_type": "code",
   "execution_count": 72,
   "id": "4ef62e38",
   "metadata": {},
   "outputs": [
    {
     "data": {
      "text/plain": [
       "         state              country    \n",
       "1/22/20  NaN                Afghanistan         0.0\n",
       "                            Albania             0.0\n",
       "                            Algeria             0.0\n",
       "                            Andorra             0.0\n",
       "                            Angola              0.0\n",
       "                                             ...   \n",
       "5/14/22  Western Australia  Australia      548467.0\n",
       "         Xinjiang           China            1008.0\n",
       "         Yukon              Canada           4318.0\n",
       "         Yunnan             China            2127.0\n",
       "         Zhejiang           China            3130.0\n",
       "Length: 240540, dtype: float64"
      ]
     },
     "execution_count": 72,
     "metadata": {},
     "output_type": "execute_result"
    }
   ],
   "source": [
    "test_pd.stack(level=(0,1))"
   ]
  },
  {
   "cell_type": "code",
   "execution_count": 73,
   "id": "7c69f6b6",
   "metadata": {},
   "outputs": [],
   "source": [
    "pd_relational_model=test_pd.stack(level=(0,1)).reset_index()"
   ]
  },
  {
   "cell_type": "code",
   "execution_count": 74,
   "id": "e55ff71f",
   "metadata": {},
   "outputs": [],
   "source": [
    "#pd_relational_model"
   ]
  },
  {
   "cell_type": "code",
   "execution_count": 75,
   "id": "6fff63aa",
   "metadata": {},
   "outputs": [],
   "source": [
    "pd_relational_model=pd_relational_model.rename(columns={'level_0':'date', 0:'confirmed'})"
   ]
  },
  {
   "cell_type": "code",
   "execution_count": 76,
   "id": "ec95c899",
   "metadata": {},
   "outputs": [
    {
     "data": {
      "text/html": [
       "<div>\n",
       "<style scoped>\n",
       "    .dataframe tbody tr th:only-of-type {\n",
       "        vertical-align: middle;\n",
       "    }\n",
       "\n",
       "    .dataframe tbody tr th {\n",
       "        vertical-align: top;\n",
       "    }\n",
       "\n",
       "    .dataframe thead th {\n",
       "        text-align: right;\n",
       "    }\n",
       "</style>\n",
       "<table border=\"1\" class=\"dataframe\">\n",
       "  <thead>\n",
       "    <tr style=\"text-align: right;\">\n",
       "      <th></th>\n",
       "      <th>date</th>\n",
       "      <th>state</th>\n",
       "      <th>country</th>\n",
       "      <th>confirmed</th>\n",
       "    </tr>\n",
       "  </thead>\n",
       "  <tbody>\n",
       "    <tr>\n",
       "      <th>0</th>\n",
       "      <td>1/22/20</td>\n",
       "      <td>NaN</td>\n",
       "      <td>Afghanistan</td>\n",
       "      <td>0.0</td>\n",
       "    </tr>\n",
       "    <tr>\n",
       "      <th>1</th>\n",
       "      <td>1/22/20</td>\n",
       "      <td>NaN</td>\n",
       "      <td>Albania</td>\n",
       "      <td>0.0</td>\n",
       "    </tr>\n",
       "    <tr>\n",
       "      <th>2</th>\n",
       "      <td>1/22/20</td>\n",
       "      <td>NaN</td>\n",
       "      <td>Algeria</td>\n",
       "      <td>0.0</td>\n",
       "    </tr>\n",
       "    <tr>\n",
       "      <th>3</th>\n",
       "      <td>1/22/20</td>\n",
       "      <td>NaN</td>\n",
       "      <td>Andorra</td>\n",
       "      <td>0.0</td>\n",
       "    </tr>\n",
       "    <tr>\n",
       "      <th>4</th>\n",
       "      <td>1/22/20</td>\n",
       "      <td>NaN</td>\n",
       "      <td>Angola</td>\n",
       "      <td>0.0</td>\n",
       "    </tr>\n",
       "    <tr>\n",
       "      <th>...</th>\n",
       "      <td>...</td>\n",
       "      <td>...</td>\n",
       "      <td>...</td>\n",
       "      <td>...</td>\n",
       "    </tr>\n",
       "    <tr>\n",
       "      <th>240535</th>\n",
       "      <td>5/14/22</td>\n",
       "      <td>Western Australia</td>\n",
       "      <td>Australia</td>\n",
       "      <td>548467.0</td>\n",
       "    </tr>\n",
       "    <tr>\n",
       "      <th>240536</th>\n",
       "      <td>5/14/22</td>\n",
       "      <td>Xinjiang</td>\n",
       "      <td>China</td>\n",
       "      <td>1008.0</td>\n",
       "    </tr>\n",
       "    <tr>\n",
       "      <th>240537</th>\n",
       "      <td>5/14/22</td>\n",
       "      <td>Yukon</td>\n",
       "      <td>Canada</td>\n",
       "      <td>4318.0</td>\n",
       "    </tr>\n",
       "    <tr>\n",
       "      <th>240538</th>\n",
       "      <td>5/14/22</td>\n",
       "      <td>Yunnan</td>\n",
       "      <td>China</td>\n",
       "      <td>2127.0</td>\n",
       "    </tr>\n",
       "    <tr>\n",
       "      <th>240539</th>\n",
       "      <td>5/14/22</td>\n",
       "      <td>Zhejiang</td>\n",
       "      <td>China</td>\n",
       "      <td>3130.0</td>\n",
       "    </tr>\n",
       "  </tbody>\n",
       "</table>\n",
       "<p>240540 rows × 4 columns</p>\n",
       "</div>"
      ],
      "text/plain": [
       "           date              state      country  confirmed\n",
       "0       1/22/20                NaN  Afghanistan        0.0\n",
       "1       1/22/20                NaN      Albania        0.0\n",
       "2       1/22/20                NaN      Algeria        0.0\n",
       "3       1/22/20                NaN      Andorra        0.0\n",
       "4       1/22/20                NaN       Angola        0.0\n",
       "...         ...                ...          ...        ...\n",
       "240535  5/14/22  Western Australia    Australia   548467.0\n",
       "240536  5/14/22           Xinjiang        China     1008.0\n",
       "240537  5/14/22              Yukon       Canada     4318.0\n",
       "240538  5/14/22             Yunnan        China     2127.0\n",
       "240539  5/14/22           Zhejiang        China     3130.0\n",
       "\n",
       "[240540 rows x 4 columns]"
      ]
     },
     "execution_count": 76,
     "metadata": {},
     "output_type": "execute_result"
    }
   ],
   "source": [
    "pd_relational_model"
   ]
  },
  {
   "cell_type": "code",
   "execution_count": 77,
   "id": "e72af5f0",
   "metadata": {},
   "outputs": [
    {
     "data": {
      "text/plain": [
       "date          object\n",
       "state         object\n",
       "country       object\n",
       "confirmed    float64\n",
       "dtype: object"
      ]
     },
     "execution_count": 77,
     "metadata": {},
     "output_type": "execute_result"
    }
   ],
   "source": [
    "pd_relational_model.dtypes"
   ]
  },
  {
   "cell_type": "code",
   "execution_count": 78,
   "id": "93a26779",
   "metadata": {},
   "outputs": [],
   "source": [
    "pd_relational_model['date']=pd_relational_model.date.astype('datetime64[ns]')"
   ]
  },
  {
   "cell_type": "code",
   "execution_count": 79,
   "id": "4af85928",
   "metadata": {},
   "outputs": [
    {
     "data": {
      "text/plain": [
       "date         datetime64[ns]\n",
       "state                object\n",
       "country              object\n",
       "confirmed           float64\n",
       "dtype: object"
      ]
     },
     "execution_count": 79,
     "metadata": {},
     "output_type": "execute_result"
    }
   ],
   "source": [
    "pd_relational_model.dtypes"
   ]
  },
  {
   "cell_type": "markdown",
   "id": "13f29d59",
   "metadata": {},
   "source": [
    "---------------------------------------------------------------------------------processed data saved"
   ]
  },
  {
   "cell_type": "code",
   "execution_count": 80,
   "id": "44232c7b",
   "metadata": {},
   "outputs": [],
   "source": [
    "pd_relational_model.to_csv('C:/Users/navid/covid/data/processed/covid_confirmed.csv',index=False)"
   ]
  },
  {
   "cell_type": "code",
   "execution_count": 81,
   "id": "0c533678",
   "metadata": {},
   "outputs": [
    {
     "data": {
      "text/plain": [
       "data       datetime64[ns]\n",
       "Iran              float64\n",
       "Germany           float64\n",
       "US                float64\n",
       "dtype: object"
      ]
     },
     "execution_count": 81,
     "metadata": {},
     "output_type": "execute_result"
    }
   ],
   "source": [
    "df_plot3.dtypes  #Vaccine Doses"
   ]
  },
  {
   "cell_type": "code",
   "execution_count": 82,
   "id": "ebe55124",
   "metadata": {},
   "outputs": [
    {
     "data": {
      "text/plain": [
       "data       datetime64[ns]\n",
       "Iran              float64\n",
       "Germany           float64\n",
       "US                float64\n",
       "dtype: object"
      ]
     },
     "execution_count": 82,
     "metadata": {},
     "output_type": "execute_result"
    }
   ],
   "source": [
    "df_plot.dtypes #Relative Covid Cases"
   ]
  },
  {
   "cell_type": "markdown",
   "id": "457341f1",
   "metadata": {},
   "source": [
    "------------------------------------------------------------------------------Ploting (5.2)"
   ]
  },
  {
   "cell_type": "code",
   "execution_count": 83,
   "id": "ce03f5e9",
   "metadata": {
    "scrolled": true
   },
   "outputs": [],
   "source": [
    "#import plotly.express as px\n",
    "#fig = px.scatter(x=[1, 2 , 3 , 4 , 5], y=[0, 1, 4, 9, 16])\n",
    "#fig.show()"
   ]
  },
  {
   "cell_type": "code",
   "execution_count": 84,
   "id": "fd95e7d9",
   "metadata": {},
   "outputs": [
    {
     "data": {
      "text/plain": [
       "'5.6.0'"
      ]
     },
     "execution_count": 84,
     "metadata": {},
     "output_type": "execute_result"
    }
   ],
   "source": [
    "plotly.__version__"
   ]
  },
  {
   "cell_type": "code",
   "execution_count": 85,
   "id": "c4a3d7d0",
   "metadata": {},
   "outputs": [],
   "source": [
    "import plotly.graph_objects as go"
   ]
  },
  {
   "cell_type": "code",
   "execution_count": 86,
   "id": "0235b9c3",
   "metadata": {},
   "outputs": [],
   "source": [
    "fig=go.Figure()"
   ]
  },
  {
   "cell_type": "code",
   "execution_count": 87,
   "id": "b0e23997",
   "metadata": {},
   "outputs": [
    {
     "ename": "ValueError",
     "evalue": "Can't locate a browser with key in ('chrome', 'google-chrome')",
     "output_type": "error",
     "traceback": [
      "\u001b[1;31m---------------------------------------------------------------------------\u001b[0m",
      "\u001b[1;31mValueError\u001b[0m                                Traceback (most recent call last)",
      "File \u001b[1;32m~\\anaconda3\\lib\\site-packages\\IPython\\core\\formatters.py:921\u001b[0m, in \u001b[0;36mIPythonDisplayFormatter.__call__\u001b[1;34m(self, obj)\u001b[0m\n\u001b[0;32m    919\u001b[0m method \u001b[38;5;241m=\u001b[39m get_real_method(obj, \u001b[38;5;28mself\u001b[39m\u001b[38;5;241m.\u001b[39mprint_method)\n\u001b[0;32m    920\u001b[0m \u001b[38;5;28;01mif\u001b[39;00m method \u001b[38;5;129;01mis\u001b[39;00m \u001b[38;5;129;01mnot\u001b[39;00m \u001b[38;5;28;01mNone\u001b[39;00m:\n\u001b[1;32m--> 921\u001b[0m     \u001b[43mmethod\u001b[49m\u001b[43m(\u001b[49m\u001b[43m)\u001b[49m\n\u001b[0;32m    922\u001b[0m     \u001b[38;5;28;01mreturn\u001b[39;00m \u001b[38;5;28;01mTrue\u001b[39;00m\n",
      "File \u001b[1;32m~\\anaconda3\\lib\\site-packages\\plotly\\basedatatypes.py:844\u001b[0m, in \u001b[0;36mBaseFigure._ipython_display_\u001b[1;34m(self)\u001b[0m\n\u001b[0;32m    841\u001b[0m \u001b[38;5;28;01mimport\u001b[39;00m \u001b[38;5;21;01mplotly\u001b[39;00m\u001b[38;5;21;01m.\u001b[39;00m\u001b[38;5;21;01mio\u001b[39;00m \u001b[38;5;28;01mas\u001b[39;00m \u001b[38;5;21;01mpio\u001b[39;00m\n\u001b[0;32m    843\u001b[0m \u001b[38;5;28;01mif\u001b[39;00m pio\u001b[38;5;241m.\u001b[39mrenderers\u001b[38;5;241m.\u001b[39mrender_on_display \u001b[38;5;129;01mand\u001b[39;00m pio\u001b[38;5;241m.\u001b[39mrenderers\u001b[38;5;241m.\u001b[39mdefault:\n\u001b[1;32m--> 844\u001b[0m     \u001b[43mpio\u001b[49m\u001b[38;5;241;43m.\u001b[39;49m\u001b[43mshow\u001b[49m\u001b[43m(\u001b[49m\u001b[38;5;28;43mself\u001b[39;49m\u001b[43m)\u001b[49m\n\u001b[0;32m    845\u001b[0m \u001b[38;5;28;01melse\u001b[39;00m:\n\u001b[0;32m    846\u001b[0m     \u001b[38;5;28mprint\u001b[39m(\u001b[38;5;28mrepr\u001b[39m(\u001b[38;5;28mself\u001b[39m))\n",
      "File \u001b[1;32m~\\anaconda3\\lib\\site-packages\\plotly\\io\\_renderers.py:404\u001b[0m, in \u001b[0;36mshow\u001b[1;34m(fig, renderer, validate, **kwargs)\u001b[0m\n\u001b[0;32m    401\u001b[0m     ipython_display\u001b[38;5;241m.\u001b[39mdisplay(bundle, raw\u001b[38;5;241m=\u001b[39m\u001b[38;5;28;01mTrue\u001b[39;00m)\n\u001b[0;32m    403\u001b[0m \u001b[38;5;66;03m# external renderers\u001b[39;00m\n\u001b[1;32m--> 404\u001b[0m renderers\u001b[38;5;241m.\u001b[39m_perform_external_rendering(fig_dict, renderers_string\u001b[38;5;241m=\u001b[39mrenderer, \u001b[38;5;241m*\u001b[39m\u001b[38;5;241m*\u001b[39mkwargs)\n",
      "File \u001b[1;32m~\\anaconda3\\lib\\site-packages\\plotly\\io\\_renderers.py:341\u001b[0m, in \u001b[0;36mRenderersConfig._perform_external_rendering\u001b[1;34m(self, fig_dict, renderers_string, **kwargs)\u001b[0m\n\u001b[0;32m    338\u001b[0m     \u001b[38;5;28;01mif\u001b[39;00m \u001b[38;5;28mhasattr\u001b[39m(renderer, k):\n\u001b[0;32m    339\u001b[0m         \u001b[38;5;28msetattr\u001b[39m(renderer, k, v)\n\u001b[1;32m--> 341\u001b[0m \u001b[43mrenderer\u001b[49m\u001b[38;5;241;43m.\u001b[39;49m\u001b[43mrender\u001b[49m\u001b[43m(\u001b[49m\u001b[43mfig_dict\u001b[49m\u001b[43m)\u001b[49m\n",
      "File \u001b[1;32m~\\anaconda3\\lib\\site-packages\\plotly\\io\\_base_renderers.py:760\u001b[0m, in \u001b[0;36mBrowserRenderer.render\u001b[1;34m(self, fig_dict)\u001b[0m\n\u001b[0;32m    745\u001b[0m \u001b[38;5;28;01mfrom\u001b[39;00m \u001b[38;5;21;01mplotly\u001b[39;00m\u001b[38;5;21;01m.\u001b[39;00m\u001b[38;5;21;01mio\u001b[39;00m \u001b[38;5;28;01mimport\u001b[39;00m to_html\n\u001b[0;32m    747\u001b[0m html \u001b[38;5;241m=\u001b[39m to_html(\n\u001b[0;32m    748\u001b[0m     fig_dict,\n\u001b[0;32m    749\u001b[0m     config\u001b[38;5;241m=\u001b[39m\u001b[38;5;28mself\u001b[39m\u001b[38;5;241m.\u001b[39mconfig,\n\u001b[1;32m   (...)\u001b[0m\n\u001b[0;32m    758\u001b[0m     validate\u001b[38;5;241m=\u001b[39m\u001b[38;5;28;01mFalse\u001b[39;00m,\n\u001b[0;32m    759\u001b[0m )\n\u001b[1;32m--> 760\u001b[0m \u001b[43mopen_html_in_browser\u001b[49m\u001b[43m(\u001b[49m\u001b[43mhtml\u001b[49m\u001b[43m,\u001b[49m\u001b[43m \u001b[49m\u001b[38;5;28;43mself\u001b[39;49m\u001b[38;5;241;43m.\u001b[39;49m\u001b[43musing\u001b[49m\u001b[43m,\u001b[49m\u001b[43m \u001b[49m\u001b[38;5;28;43mself\u001b[39;49m\u001b[38;5;241;43m.\u001b[39;49m\u001b[43mnew\u001b[49m\u001b[43m,\u001b[49m\u001b[43m \u001b[49m\u001b[38;5;28;43mself\u001b[39;49m\u001b[38;5;241;43m.\u001b[39;49m\u001b[43mautoraise\u001b[49m\u001b[43m)\u001b[49m\n",
      "File \u001b[1;32m~\\anaconda3\\lib\\site-packages\\plotly\\io\\_base_renderers.py:688\u001b[0m, in \u001b[0;36mopen_html_in_browser\u001b[1;34m(html, using, new, autoraise)\u001b[0m\n\u001b[0;32m    685\u001b[0m             \u001b[38;5;28;01mpass\u001b[39;00m\n\u001b[0;32m    687\u001b[0m     \u001b[38;5;28;01mif\u001b[39;00m browser \u001b[38;5;129;01mis\u001b[39;00m \u001b[38;5;28;01mNone\u001b[39;00m:\n\u001b[1;32m--> 688\u001b[0m         \u001b[38;5;28;01mraise\u001b[39;00m \u001b[38;5;167;01mValueError\u001b[39;00m(\u001b[38;5;124m\"\u001b[39m\u001b[38;5;124mCan\u001b[39m\u001b[38;5;124m'\u001b[39m\u001b[38;5;124mt locate a browser with key in \u001b[39m\u001b[38;5;124m\"\u001b[39m \u001b[38;5;241m+\u001b[39m \u001b[38;5;28mstr\u001b[39m(using))\n\u001b[0;32m    690\u001b[0m \u001b[38;5;28;01mclass\u001b[39;00m \u001b[38;5;21;01mOneShotRequestHandler\u001b[39;00m(BaseHTTPRequestHandler):\n\u001b[0;32m    691\u001b[0m     \u001b[38;5;28;01mdef\u001b[39;00m \u001b[38;5;21mdo_GET\u001b[39m(\u001b[38;5;28mself\u001b[39m):\n",
      "\u001b[1;31mValueError\u001b[0m: Can't locate a browser with key in ('chrome', 'google-chrome')"
     ]
    },
    {
     "data": {
      "text/html": [
       "<div>                        <script type=\"text/javascript\">window.PlotlyConfig = {MathJaxConfig: 'local'};</script>\n",
       "        <script src=\"https://cdn.plot.ly/plotly-2.9.0.min.js\"></script>                <div id=\"42405403-4bb7-42ac-abab-b9aa1cf7d317\" class=\"plotly-graph-div\" style=\"height:600px; width:1000px;\"></div>            <script type=\"text/javascript\">                                    window.PLOTLYENV=window.PLOTLYENV || {};                                    if (document.getElementById(\"42405403-4bb7-42ac-abab-b9aa1cf7d317\")) {                    Plotly.newPlot(                        \"42405403-4bb7-42ac-abab-b9aa1cf7d317\",                        [{\"mode\":\"markers+lines\",\"name\":\"Iran\",\"x\":[\"2020-01-22T00:00:00\",\"2020-01-23T00:00:00\",\"2020-01-24T00:00:00\",\"2020-01-25T00:00:00\",\"2020-01-26T00:00:00\",\"2020-01-27T00:00:00\",\"2020-01-28T00:00:00\",\"2020-01-29T00:00:00\",\"2020-01-30T00:00:00\",\"2020-01-31T00:00:00\",\"2020-02-01T00:00:00\",\"2020-02-02T00:00:00\",\"2020-02-03T00:00:00\",\"2020-02-04T00:00:00\",\"2020-02-05T00:00:00\",\"2020-02-06T00:00:00\",\"2020-02-07T00:00:00\",\"2020-02-08T00:00:00\",\"2020-02-09T00:00:00\",\"2020-02-10T00:00:00\",\"2020-02-11T00:00:00\",\"2020-02-12T00:00:00\",\"2020-02-13T00:00:00\",\"2020-02-14T00:00:00\",\"2020-02-15T00:00:00\",\"2020-02-16T00:00:00\",\"2020-02-17T00:00:00\",\"2020-02-18T00:00:00\",\"2020-02-19T00:00:00\",\"2020-02-20T00:00:00\",\"2020-02-21T00:00:00\",\"2020-02-22T00:00:00\",\"2020-02-23T00:00:00\",\"2020-02-24T00:00:00\",\"2020-02-25T00:00:00\",\"2020-02-26T00:00:00\",\"2020-02-27T00:00:00\",\"2020-02-28T00:00:00\",\"2020-02-29T00:00:00\",\"2020-03-01T00:00:00\",\"2020-03-02T00:00:00\",\"2020-03-03T00:00:00\",\"2020-03-04T00:00:00\",\"2020-03-05T00:00:00\",\"2020-03-06T00:00:00\",\"2020-03-07T00:00:00\",\"2020-03-08T00:00:00\",\"2020-03-09T00:00:00\",\"2020-03-10T00:00:00\",\"2020-03-11T00:00:00\",\"2020-03-12T00:00:00\",\"2020-03-13T00:00:00\",\"2020-03-14T00:00:00\",\"2020-03-15T00:00:00\",\"2020-03-16T00:00:00\",\"2020-03-17T00:00:00\",\"2020-03-18T00:00:00\",\"2020-03-19T00:00:00\",\"2020-03-20T00:00:00\",\"2020-03-21T00:00:00\",\"2020-03-22T00:00:00\",\"2020-03-23T00:00:00\",\"2020-03-24T00:00:00\",\"2020-03-25T00:00:00\",\"2020-03-26T00:00:00\",\"2020-03-27T00:00:00\",\"2020-03-28T00:00:00\",\"2020-03-29T00:00:00\",\"2020-03-30T00:00:00\",\"2020-03-31T00:00:00\",\"2020-04-01T00:00:00\",\"2020-04-02T00:00:00\",\"2020-04-03T00:00:00\",\"2020-04-04T00:00:00\",\"2020-04-05T00:00:00\",\"2020-04-06T00:00:00\",\"2020-04-07T00:00:00\",\"2020-04-08T00:00:00\",\"2020-04-09T00:00:00\",\"2020-04-10T00:00:00\",\"2020-04-11T00:00:00\",\"2020-04-12T00:00:00\",\"2020-04-13T00:00:00\",\"2020-04-14T00:00:00\",\"2020-04-15T00:00:00\",\"2020-04-16T00:00:00\",\"2020-04-17T00:00:00\",\"2020-04-18T00:00:00\",\"2020-04-19T00:00:00\",\"2020-04-20T00:00:00\",\"2020-04-21T00:00:00\",\"2020-04-22T00:00:00\",\"2020-04-23T00:00:00\",\"2020-04-24T00:00:00\",\"2020-04-25T00:00:00\",\"2020-04-26T00:00:00\",\"2020-04-27T00:00:00\",\"2020-04-28T00:00:00\",\"2020-04-29T00:00:00\",\"2020-04-30T00:00:00\",\"2020-05-01T00:00:00\",\"2020-05-02T00:00:00\",\"2020-05-03T00:00:00\",\"2020-05-04T00:00:00\",\"2020-05-05T00:00:00\",\"2020-05-06T00:00:00\",\"2020-05-07T00:00:00\",\"2020-05-08T00:00:00\",\"2020-05-09T00:00:00\",\"2020-05-10T00:00:00\",\"2020-05-11T00:00:00\",\"2020-05-12T00:00:00\",\"2020-05-13T00:00:00\",\"2020-05-14T00:00:00\",\"2020-05-15T00:00:00\",\"2020-05-16T00:00:00\",\"2020-05-17T00:00:00\",\"2020-05-18T00:00:00\",\"2020-05-19T00:00:00\",\"2020-05-20T00:00:00\",\"2020-05-21T00:00:00\",\"2020-05-22T00:00:00\",\"2020-05-23T00:00:00\",\"2020-05-24T00:00:00\",\"2020-05-25T00:00:00\",\"2020-05-26T00:00:00\",\"2020-05-27T00:00:00\",\"2020-05-28T00:00:00\",\"2020-05-29T00:00:00\",\"2020-05-30T00:00:00\",\"2020-05-31T00:00:00\",\"2020-06-01T00:00:00\",\"2020-06-02T00:00:00\",\"2020-06-03T00:00:00\",\"2020-06-04T00:00:00\",\"2020-06-05T00:00:00\",\"2020-06-06T00:00:00\",\"2020-06-07T00:00:00\",\"2020-06-08T00:00:00\",\"2020-06-09T00:00:00\",\"2020-06-10T00:00:00\",\"2020-06-11T00:00:00\",\"2020-06-12T00:00:00\",\"2020-06-13T00:00:00\",\"2020-06-14T00:00:00\",\"2020-06-15T00:00:00\",\"2020-06-16T00:00:00\",\"2020-06-17T00:00:00\",\"2020-06-18T00:00:00\",\"2020-06-19T00:00:00\",\"2020-06-20T00:00:00\",\"2020-06-21T00:00:00\",\"2020-06-22T00:00:00\",\"2020-06-23T00:00:00\",\"2020-06-24T00:00:00\",\"2020-06-25T00:00:00\",\"2020-06-26T00:00:00\",\"2020-06-27T00:00:00\",\"2020-06-28T00:00:00\",\"2020-06-29T00:00:00\",\"2020-06-30T00:00:00\",\"2020-07-01T00:00:00\",\"2020-07-02T00:00:00\",\"2020-07-03T00:00:00\",\"2020-07-04T00:00:00\",\"2020-07-05T00:00:00\",\"2020-07-06T00:00:00\",\"2020-07-07T00:00:00\",\"2020-07-08T00:00:00\",\"2020-07-09T00:00:00\",\"2020-07-10T00:00:00\",\"2020-07-11T00:00:00\",\"2020-07-12T00:00:00\",\"2020-07-13T00:00:00\",\"2020-07-14T00:00:00\",\"2020-07-15T00:00:00\",\"2020-07-16T00:00:00\",\"2020-07-17T00:00:00\",\"2020-07-18T00:00:00\",\"2020-07-19T00:00:00\",\"2020-07-20T00:00:00\",\"2020-07-21T00:00:00\",\"2020-07-22T00:00:00\",\"2020-07-23T00:00:00\",\"2020-07-24T00:00:00\",\"2020-07-25T00:00:00\",\"2020-07-26T00:00:00\",\"2020-07-27T00:00:00\",\"2020-07-28T00:00:00\",\"2020-07-29T00:00:00\",\"2020-07-30T00:00:00\",\"2020-07-31T00:00:00\",\"2020-08-01T00:00:00\",\"2020-08-02T00:00:00\",\"2020-08-03T00:00:00\",\"2020-08-04T00:00:00\",\"2020-08-05T00:00:00\",\"2020-08-06T00:00:00\",\"2020-08-07T00:00:00\",\"2020-08-08T00:00:00\",\"2020-08-09T00:00:00\",\"2020-08-10T00:00:00\",\"2020-08-11T00:00:00\",\"2020-08-12T00:00:00\",\"2020-08-13T00:00:00\",\"2020-08-14T00:00:00\",\"2020-08-15T00:00:00\",\"2020-08-16T00:00:00\",\"2020-08-17T00:00:00\",\"2020-08-18T00:00:00\",\"2020-08-19T00:00:00\",\"2020-08-20T00:00:00\",\"2020-08-21T00:00:00\",\"2020-08-22T00:00:00\",\"2020-08-23T00:00:00\",\"2020-08-24T00:00:00\",\"2020-08-25T00:00:00\",\"2020-08-26T00:00:00\",\"2020-08-27T00:00:00\",\"2020-08-28T00:00:00\",\"2020-08-29T00:00:00\",\"2020-08-30T00:00:00\",\"2020-08-31T00:00:00\",\"2020-09-01T00:00:00\",\"2020-09-02T00:00:00\",\"2020-09-03T00:00:00\",\"2020-09-04T00:00:00\",\"2020-09-05T00:00:00\",\"2020-09-06T00:00:00\",\"2020-09-07T00:00:00\",\"2020-09-08T00:00:00\",\"2020-09-09T00:00:00\",\"2020-09-10T00:00:00\",\"2020-09-11T00:00:00\",\"2020-09-12T00:00:00\",\"2020-09-13T00:00:00\",\"2020-09-14T00:00:00\",\"2020-09-15T00:00:00\",\"2020-09-16T00:00:00\",\"2020-09-17T00:00:00\",\"2020-09-18T00:00:00\",\"2020-09-19T00:00:00\",\"2020-09-20T00:00:00\",\"2020-09-21T00:00:00\",\"2020-09-22T00:00:00\",\"2020-09-23T00:00:00\",\"2020-09-24T00:00:00\",\"2020-09-25T00:00:00\",\"2020-09-26T00:00:00\",\"2020-09-27T00:00:00\",\"2020-09-28T00:00:00\",\"2020-09-29T00:00:00\",\"2020-09-30T00:00:00\",\"2020-10-01T00:00:00\",\"2020-10-02T00:00:00\",\"2020-10-03T00:00:00\",\"2020-10-04T00:00:00\",\"2020-10-05T00:00:00\",\"2020-10-06T00:00:00\",\"2020-10-07T00:00:00\",\"2020-10-08T00:00:00\",\"2020-10-09T00:00:00\",\"2020-10-10T00:00:00\",\"2020-10-11T00:00:00\",\"2020-10-12T00:00:00\",\"2020-10-13T00:00:00\",\"2020-10-14T00:00:00\",\"2020-10-15T00:00:00\",\"2020-10-16T00:00:00\",\"2020-10-17T00:00:00\",\"2020-10-18T00:00:00\",\"2020-10-19T00:00:00\",\"2020-10-20T00:00:00\",\"2020-10-21T00:00:00\",\"2020-10-22T00:00:00\",\"2020-10-23T00:00:00\",\"2020-10-24T00:00:00\",\"2020-10-25T00:00:00\",\"2020-10-26T00:00:00\",\"2020-10-27T00:00:00\",\"2020-10-28T00:00:00\",\"2020-10-29T00:00:00\",\"2020-10-30T00:00:00\",\"2020-10-31T00:00:00\",\"2020-11-01T00:00:00\",\"2020-11-02T00:00:00\",\"2020-11-03T00:00:00\",\"2020-11-04T00:00:00\",\"2020-11-05T00:00:00\",\"2020-11-06T00:00:00\",\"2020-11-07T00:00:00\",\"2020-11-08T00:00:00\",\"2020-11-09T00:00:00\",\"2020-11-10T00:00:00\",\"2020-11-11T00:00:00\",\"2020-11-12T00:00:00\",\"2020-11-13T00:00:00\",\"2020-11-14T00:00:00\",\"2020-11-15T00:00:00\",\"2020-11-16T00:00:00\",\"2020-11-17T00:00:00\",\"2020-11-18T00:00:00\",\"2020-11-19T00:00:00\",\"2020-11-20T00:00:00\",\"2020-11-21T00:00:00\",\"2020-11-22T00:00:00\",\"2020-11-23T00:00:00\",\"2020-11-24T00:00:00\",\"2020-11-25T00:00:00\",\"2020-11-26T00:00:00\",\"2020-11-27T00:00:00\",\"2020-11-28T00:00:00\",\"2020-11-29T00:00:00\",\"2020-11-30T00:00:00\",\"2020-12-01T00:00:00\",\"2020-12-02T00:00:00\",\"2020-12-03T00:00:00\",\"2020-12-04T00:00:00\",\"2020-12-05T00:00:00\",\"2020-12-06T00:00:00\",\"2020-12-07T00:00:00\",\"2020-12-08T00:00:00\",\"2020-12-09T00:00:00\",\"2020-12-10T00:00:00\",\"2020-12-11T00:00:00\",\"2020-12-12T00:00:00\",\"2020-12-13T00:00:00\",\"2020-12-14T00:00:00\",\"2020-12-15T00:00:00\",\"2020-12-16T00:00:00\",\"2020-12-17T00:00:00\",\"2020-12-18T00:00:00\",\"2020-12-19T00:00:00\",\"2020-12-20T00:00:00\",\"2020-12-21T00:00:00\",\"2020-12-22T00:00:00\",\"2020-12-23T00:00:00\",\"2020-12-24T00:00:00\",\"2020-12-25T00:00:00\",\"2020-12-26T00:00:00\",\"2020-12-27T00:00:00\",\"2020-12-28T00:00:00\",\"2020-12-29T00:00:00\",\"2020-12-30T00:00:00\",\"2020-12-31T00:00:00\",\"2021-01-01T00:00:00\",\"2021-01-02T00:00:00\",\"2021-01-03T00:00:00\",\"2021-01-04T00:00:00\",\"2021-01-05T00:00:00\",\"2021-01-06T00:00:00\",\"2021-01-07T00:00:00\",\"2021-01-08T00:00:00\",\"2021-01-09T00:00:00\",\"2021-01-10T00:00:00\",\"2021-01-11T00:00:00\",\"2021-01-12T00:00:00\",\"2021-01-13T00:00:00\",\"2021-01-14T00:00:00\",\"2021-01-15T00:00:00\",\"2021-01-16T00:00:00\",\"2021-01-17T00:00:00\",\"2021-01-18T00:00:00\",\"2021-01-19T00:00:00\",\"2021-01-20T00:00:00\",\"2021-01-21T00:00:00\",\"2021-01-22T00:00:00\",\"2021-01-23T00:00:00\",\"2021-01-24T00:00:00\",\"2021-01-25T00:00:00\",\"2021-01-26T00:00:00\",\"2021-01-27T00:00:00\",\"2021-01-28T00:00:00\",\"2021-01-29T00:00:00\",\"2021-01-30T00:00:00\",\"2021-01-31T00:00:00\",\"2021-02-01T00:00:00\",\"2021-02-02T00:00:00\",\"2021-02-03T00:00:00\",\"2021-02-04T00:00:00\",\"2021-02-05T00:00:00\",\"2021-02-06T00:00:00\",\"2021-02-07T00:00:00\",\"2021-02-08T00:00:00\",\"2021-02-09T00:00:00\",\"2021-02-10T00:00:00\",\"2021-02-11T00:00:00\",\"2021-02-12T00:00:00\",\"2021-02-13T00:00:00\",\"2021-02-14T00:00:00\",\"2021-02-15T00:00:00\",\"2021-02-16T00:00:00\",\"2021-02-17T00:00:00\",\"2021-02-18T00:00:00\",\"2021-02-19T00:00:00\",\"2021-02-20T00:00:00\",\"2021-02-21T00:00:00\",\"2021-02-22T00:00:00\",\"2021-02-23T00:00:00\",\"2021-02-24T00:00:00\",\"2021-02-25T00:00:00\",\"2021-02-26T00:00:00\",\"2021-02-27T00:00:00\",\"2021-02-28T00:00:00\",\"2021-03-01T00:00:00\",\"2021-03-02T00:00:00\",\"2021-03-03T00:00:00\",\"2021-03-04T00:00:00\",\"2021-03-05T00:00:00\",\"2021-03-06T00:00:00\",\"2021-03-07T00:00:00\",\"2021-03-08T00:00:00\",\"2021-03-09T00:00:00\",\"2021-03-10T00:00:00\",\"2021-03-11T00:00:00\",\"2021-03-12T00:00:00\",\"2021-03-13T00:00:00\",\"2021-03-14T00:00:00\",\"2021-03-15T00:00:00\",\"2021-03-16T00:00:00\",\"2021-03-17T00:00:00\",\"2021-03-18T00:00:00\",\"2021-03-19T00:00:00\",\"2021-03-20T00:00:00\",\"2021-03-21T00:00:00\",\"2021-03-22T00:00:00\",\"2021-03-23T00:00:00\",\"2021-03-24T00:00:00\",\"2021-03-25T00:00:00\",\"2021-03-26T00:00:00\",\"2021-03-27T00:00:00\",\"2021-03-28T00:00:00\",\"2021-03-29T00:00:00\",\"2021-03-30T00:00:00\",\"2021-03-31T00:00:00\",\"2021-04-01T00:00:00\",\"2021-04-02T00:00:00\",\"2021-04-03T00:00:00\",\"2021-04-04T00:00:00\",\"2021-04-05T00:00:00\",\"2021-04-06T00:00:00\",\"2021-04-07T00:00:00\",\"2021-04-08T00:00:00\",\"2021-04-09T00:00:00\",\"2021-04-10T00:00:00\",\"2021-04-11T00:00:00\",\"2021-04-12T00:00:00\",\"2021-04-13T00:00:00\",\"2021-04-14T00:00:00\",\"2021-04-15T00:00:00\",\"2021-04-16T00:00:00\",\"2021-04-17T00:00:00\",\"2021-04-18T00:00:00\",\"2021-04-19T00:00:00\",\"2021-04-20T00:00:00\",\"2021-04-21T00:00:00\",\"2021-04-22T00:00:00\",\"2021-04-23T00:00:00\",\"2021-04-24T00:00:00\",\"2021-04-25T00:00:00\",\"2021-04-26T00:00:00\",\"2021-04-27T00:00:00\",\"2021-04-28T00:00:00\",\"2021-04-29T00:00:00\",\"2021-04-30T00:00:00\",\"2021-05-01T00:00:00\",\"2021-05-02T00:00:00\",\"2021-05-03T00:00:00\",\"2021-05-04T00:00:00\",\"2021-05-05T00:00:00\",\"2021-05-06T00:00:00\",\"2021-05-07T00:00:00\",\"2021-05-08T00:00:00\",\"2021-05-09T00:00:00\",\"2021-05-10T00:00:00\",\"2021-05-11T00:00:00\",\"2021-05-12T00:00:00\",\"2021-05-13T00:00:00\",\"2021-05-14T00:00:00\",\"2021-05-15T00:00:00\",\"2021-05-16T00:00:00\",\"2021-05-17T00:00:00\",\"2021-05-18T00:00:00\",\"2021-05-19T00:00:00\",\"2021-05-20T00:00:00\",\"2021-05-21T00:00:00\",\"2021-05-22T00:00:00\",\"2021-05-23T00:00:00\",\"2021-05-24T00:00:00\",\"2021-05-25T00:00:00\",\"2021-05-26T00:00:00\",\"2021-05-27T00:00:00\",\"2021-05-28T00:00:00\",\"2021-05-29T00:00:00\",\"2021-05-30T00:00:00\",\"2021-05-31T00:00:00\",\"2021-06-01T00:00:00\",\"2021-06-02T00:00:00\",\"2021-06-03T00:00:00\",\"2021-06-04T00:00:00\",\"2021-06-05T00:00:00\",\"2021-06-06T00:00:00\",\"2021-06-07T00:00:00\",\"2021-06-08T00:00:00\",\"2021-06-09T00:00:00\",\"2021-06-10T00:00:00\",\"2021-06-11T00:00:00\",\"2021-06-12T00:00:00\",\"2021-06-13T00:00:00\",\"2021-06-14T00:00:00\",\"2021-06-15T00:00:00\",\"2021-06-16T00:00:00\",\"2021-06-17T00:00:00\",\"2021-06-18T00:00:00\",\"2021-06-19T00:00:00\",\"2021-06-20T00:00:00\",\"2021-06-21T00:00:00\",\"2021-06-22T00:00:00\",\"2021-06-23T00:00:00\",\"2021-06-24T00:00:00\",\"2021-06-25T00:00:00\",\"2021-06-26T00:00:00\",\"2021-06-27T00:00:00\",\"2021-06-28T00:00:00\",\"2021-06-29T00:00:00\",\"2021-06-30T00:00:00\",\"2021-07-01T00:00:00\",\"2021-07-02T00:00:00\",\"2021-07-03T00:00:00\",\"2021-07-04T00:00:00\",\"2021-07-05T00:00:00\",\"2021-07-06T00:00:00\",\"2021-07-07T00:00:00\",\"2021-07-08T00:00:00\",\"2021-07-09T00:00:00\",\"2021-07-10T00:00:00\",\"2021-07-11T00:00:00\",\"2021-07-12T00:00:00\",\"2021-07-13T00:00:00\",\"2021-07-14T00:00:00\",\"2021-07-15T00:00:00\",\"2021-07-16T00:00:00\",\"2021-07-17T00:00:00\",\"2021-07-18T00:00:00\",\"2021-07-19T00:00:00\",\"2021-07-20T00:00:00\",\"2021-07-21T00:00:00\",\"2021-07-22T00:00:00\",\"2021-07-23T00:00:00\",\"2021-07-24T00:00:00\",\"2021-07-25T00:00:00\",\"2021-07-26T00:00:00\",\"2021-07-27T00:00:00\",\"2021-07-28T00:00:00\",\"2021-07-29T00:00:00\",\"2021-07-30T00:00:00\",\"2021-07-31T00:00:00\",\"2021-08-01T00:00:00\",\"2021-08-02T00:00:00\",\"2021-08-03T00:00:00\",\"2021-08-04T00:00:00\",\"2021-08-05T00:00:00\",\"2021-08-06T00:00:00\",\"2021-08-07T00:00:00\",\"2021-08-08T00:00:00\",\"2021-08-09T00:00:00\",\"2021-08-10T00:00:00\",\"2021-08-11T00:00:00\",\"2021-08-12T00:00:00\",\"2021-08-13T00:00:00\",\"2021-08-14T00:00:00\",\"2021-08-15T00:00:00\",\"2021-08-16T00:00:00\",\"2021-08-17T00:00:00\",\"2021-08-18T00:00:00\",\"2021-08-19T00:00:00\",\"2021-08-20T00:00:00\",\"2021-08-21T00:00:00\",\"2021-08-22T00:00:00\",\"2021-08-23T00:00:00\",\"2021-08-24T00:00:00\",\"2021-08-25T00:00:00\",\"2021-08-26T00:00:00\",\"2021-08-27T00:00:00\",\"2021-08-28T00:00:00\",\"2021-08-29T00:00:00\",\"2021-08-30T00:00:00\",\"2021-08-31T00:00:00\",\"2021-09-01T00:00:00\",\"2021-09-02T00:00:00\",\"2021-09-03T00:00:00\",\"2021-09-04T00:00:00\",\"2021-09-05T00:00:00\",\"2021-09-06T00:00:00\",\"2021-09-07T00:00:00\",\"2021-09-08T00:00:00\",\"2021-09-09T00:00:00\",\"2021-09-10T00:00:00\",\"2021-09-11T00:00:00\",\"2021-09-12T00:00:00\",\"2021-09-13T00:00:00\",\"2021-09-14T00:00:00\",\"2021-09-15T00:00:00\",\"2021-09-16T00:00:00\",\"2021-09-17T00:00:00\",\"2021-09-18T00:00:00\",\"2021-09-19T00:00:00\",\"2021-09-20T00:00:00\",\"2021-09-21T00:00:00\",\"2021-09-22T00:00:00\",\"2021-09-23T00:00:00\",\"2021-09-24T00:00:00\",\"2021-09-25T00:00:00\",\"2021-09-26T00:00:00\",\"2021-09-27T00:00:00\",\"2021-09-28T00:00:00\",\"2021-09-29T00:00:00\",\"2021-09-30T00:00:00\",\"2021-10-01T00:00:00\",\"2021-10-02T00:00:00\",\"2021-10-03T00:00:00\",\"2021-10-04T00:00:00\",\"2021-10-05T00:00:00\",\"2021-10-06T00:00:00\",\"2021-10-07T00:00:00\",\"2021-10-08T00:00:00\",\"2021-10-09T00:00:00\",\"2021-10-10T00:00:00\",\"2021-10-11T00:00:00\",\"2021-10-12T00:00:00\",\"2021-10-13T00:00:00\",\"2021-10-14T00:00:00\",\"2021-10-15T00:00:00\",\"2021-10-16T00:00:00\",\"2021-10-17T00:00:00\",\"2021-10-18T00:00:00\",\"2021-10-19T00:00:00\",\"2021-10-20T00:00:00\",\"2021-10-21T00:00:00\",\"2021-10-22T00:00:00\",\"2021-10-23T00:00:00\",\"2021-10-24T00:00:00\",\"2021-10-25T00:00:00\",\"2021-10-26T00:00:00\",\"2021-10-27T00:00:00\",\"2021-10-28T00:00:00\",\"2021-10-29T00:00:00\",\"2021-10-30T00:00:00\",\"2021-10-31T00:00:00\",\"2021-11-01T00:00:00\",\"2021-11-02T00:00:00\",\"2021-11-03T00:00:00\",\"2021-11-04T00:00:00\",\"2021-11-05T00:00:00\",\"2021-11-06T00:00:00\",\"2021-11-07T00:00:00\",\"2021-11-08T00:00:00\",\"2021-11-09T00:00:00\",\"2021-11-10T00:00:00\",\"2021-11-11T00:00:00\",\"2021-11-12T00:00:00\",\"2021-11-13T00:00:00\",\"2021-11-14T00:00:00\",\"2021-11-15T00:00:00\",\"2021-11-16T00:00:00\",\"2021-11-17T00:00:00\",\"2021-11-18T00:00:00\",\"2021-11-19T00:00:00\",\"2021-11-20T00:00:00\",\"2021-11-21T00:00:00\",\"2021-11-22T00:00:00\",\"2021-11-23T00:00:00\",\"2021-11-24T00:00:00\",\"2021-11-25T00:00:00\",\"2021-11-26T00:00:00\",\"2021-11-27T00:00:00\",\"2021-11-28T00:00:00\",\"2021-11-29T00:00:00\",\"2021-11-30T00:00:00\",\"2021-12-01T00:00:00\",\"2021-12-02T00:00:00\",\"2021-12-03T00:00:00\",\"2021-12-04T00:00:00\",\"2021-12-05T00:00:00\",\"2021-12-06T00:00:00\",\"2021-12-07T00:00:00\",\"2021-12-08T00:00:00\",\"2021-12-09T00:00:00\",\"2021-12-10T00:00:00\",\"2021-12-11T00:00:00\",\"2021-12-12T00:00:00\",\"2021-12-13T00:00:00\",\"2021-12-14T00:00:00\",\"2021-12-15T00:00:00\",\"2021-12-16T00:00:00\",\"2021-12-17T00:00:00\",\"2021-12-18T00:00:00\",\"2021-12-19T00:00:00\",\"2021-12-20T00:00:00\",\"2021-12-21T00:00:00\",\"2021-12-22T00:00:00\",\"2021-12-23T00:00:00\",\"2021-12-24T00:00:00\",\"2021-12-25T00:00:00\",\"2021-12-26T00:00:00\",\"2021-12-27T00:00:00\",\"2021-12-28T00:00:00\",\"2021-12-29T00:00:00\",\"2021-12-30T00:00:00\",\"2021-12-31T00:00:00\",\"2022-01-01T00:00:00\",\"2022-01-02T00:00:00\",\"2022-01-03T00:00:00\",\"2022-01-04T00:00:00\",\"2022-01-05T00:00:00\",\"2022-01-06T00:00:00\",\"2022-01-07T00:00:00\",\"2022-01-08T00:00:00\",\"2022-01-09T00:00:00\",\"2022-01-10T00:00:00\",\"2022-01-11T00:00:00\",\"2022-01-12T00:00:00\",\"2022-01-13T00:00:00\",\"2022-01-14T00:00:00\",\"2022-01-15T00:00:00\",\"2022-01-16T00:00:00\",\"2022-01-17T00:00:00\",\"2022-01-18T00:00:00\",\"2022-01-19T00:00:00\",\"2022-01-20T00:00:00\",\"2022-01-21T00:00:00\",\"2022-01-22T00:00:00\",\"2022-01-23T00:00:00\",\"2022-01-24T00:00:00\",\"2022-01-25T00:00:00\",\"2022-01-26T00:00:00\",\"2022-01-27T00:00:00\",\"2022-01-28T00:00:00\",\"2022-01-29T00:00:00\",\"2022-01-30T00:00:00\",\"2022-01-31T00:00:00\",\"2022-02-01T00:00:00\",\"2022-02-02T00:00:00\",\"2022-02-03T00:00:00\",\"2022-02-04T00:00:00\",\"2022-02-05T00:00:00\",\"2022-02-06T00:00:00\",\"2022-02-07T00:00:00\",\"2022-02-08T00:00:00\",\"2022-02-09T00:00:00\",\"2022-02-10T00:00:00\",\"2022-02-11T00:00:00\",\"2022-02-12T00:00:00\",\"2022-02-13T00:00:00\",\"2022-02-14T00:00:00\",\"2022-02-15T00:00:00\",\"2022-02-16T00:00:00\",\"2022-02-17T00:00:00\",\"2022-02-18T00:00:00\",\"2022-02-19T00:00:00\",\"2022-02-20T00:00:00\",\"2022-02-21T00:00:00\",\"2022-02-22T00:00:00\",\"2022-02-23T00:00:00\",\"2022-02-24T00:00:00\",\"2022-02-25T00:00:00\",\"2022-02-26T00:00:00\",\"2022-02-27T00:00:00\",\"2022-02-28T00:00:00\",\"2022-03-01T00:00:00\",\"2022-03-02T00:00:00\",\"2022-03-03T00:00:00\",\"2022-03-04T00:00:00\",\"2022-03-05T00:00:00\",\"2022-03-06T00:00:00\",\"2022-03-07T00:00:00\",\"2022-03-08T00:00:00\",\"2022-03-09T00:00:00\",\"2022-03-10T00:00:00\",\"2022-03-11T00:00:00\",\"2022-03-12T00:00:00\",\"2022-03-13T00:00:00\",\"2022-03-14T00:00:00\",\"2022-03-15T00:00:00\",\"2022-03-16T00:00:00\",\"2022-03-17T00:00:00\",\"2022-03-18T00:00:00\",\"2022-03-19T00:00:00\",\"2022-03-20T00:00:00\",\"2022-03-21T00:00:00\",\"2022-03-22T00:00:00\",\"2022-03-23T00:00:00\",\"2022-03-24T00:00:00\",\"2022-03-25T00:00:00\",\"2022-03-26T00:00:00\",\"2022-03-27T00:00:00\",\"2022-03-28T00:00:00\",\"2022-03-29T00:00:00\",\"2022-03-30T00:00:00\",\"2022-03-31T00:00:00\",\"2022-04-01T00:00:00\",\"2022-04-02T00:00:00\",\"2022-04-03T00:00:00\",\"2022-04-04T00:00:00\",\"2022-04-05T00:00:00\",\"2022-04-06T00:00:00\",\"2022-04-07T00:00:00\",\"2022-04-08T00:00:00\",\"2022-04-09T00:00:00\",\"2022-04-10T00:00:00\",\"2022-04-11T00:00:00\",\"2022-04-12T00:00:00\",\"2022-04-13T00:00:00\",\"2022-04-14T00:00:00\",\"2022-04-15T00:00:00\",\"2022-04-16T00:00:00\",\"2022-04-17T00:00:00\",\"2022-04-18T00:00:00\",\"2022-04-19T00:00:00\",\"2022-04-20T00:00:00\",\"2022-04-21T00:00:00\",\"2022-04-22T00:00:00\",\"2022-04-23T00:00:00\",\"2022-04-24T00:00:00\",\"2022-04-25T00:00:00\",\"2022-04-26T00:00:00\",\"2022-04-27T00:00:00\",\"2022-04-28T00:00:00\",\"2022-04-29T00:00:00\",\"2022-04-30T00:00:00\",\"2022-05-01T00:00:00\",\"2022-05-02T00:00:00\",\"2022-05-03T00:00:00\",\"2022-05-04T00:00:00\",\"2022-05-05T00:00:00\",\"2022-05-06T00:00:00\",\"2022-05-07T00:00:00\",\"2022-05-08T00:00:00\",\"2022-05-09T00:00:00\",\"2022-05-10T00:00:00\",\"2022-05-11T00:00:00\",\"2022-05-12T00:00:00\",\"2022-05-13T00:00:00\",\"2022-05-14T00:00:00\"],\"y\":[0.0,0.0,0.0,0.0,0.0,0.0,0.0,0.0,0.0,0.0,0.0,0.0,0.0,0.0,0.0,0.0,0.0,0.0,0.0,0.0,0.0,0.0,0.0,0.0,0.0,0.0,0.0,0.0,2.3811521426089162e-08,5.9528803565222905e-08,2.1430369283480246e-07,3.3336129996524827e-07,5.11947710660917e-07,7.262514034957194e-07,1.1310472677392352e-06,1.6549007391131967e-06,2.916911374695922e-06,4.6194351566612975e-06,7.060116102835437e-06,1.16438339773576e-05,1.7870546830279917e-05,2.7811857025672142e-05,3.4788632803516266e-05,4.182493738492561e-05,5.651664610482263e-05,6.93272446320586e-05,7.817322484185072e-05,8.525715246611225e-05,9.574612765430453e-05,0.00010715184641740123,0.00011995053918392415,0.0001352970647430386,0.00015154842811634448,0.00016594249281841537,0.00017847925884925133,0.00019250424496921784,0.00020669591173916698,0.0002191493374450116,0.00023387676344704776,0.00024537772829584883,0.00025761685030885865,0.00027441587867496457,0.0002953938290513491,0.00032165793718432547,0.00035010079952778897,0.0003849370553741574,0.0004215591753274825,0.00045609778715602486,0.0004940295407877849,0.0005310564566053536,0.0005666308696159307,0.0006008599316659339,0.00063318407200185,0.0006636628194272441,0.0006932248232777337,0.0007202985231391972,0.0007451696572687473,0.0007689454614126974,0.0007883994744178122,0.0008118776345439361,0.000833748516973799,0.0008534763624753138,0.000872727977548307,0.0008914676449106391,0.0009094691551087625,0.0009285898068139121,0.000946436542122766,0.0009627950573424892,0.000978784493980108,0.0009941905483427877,0.0010096323199876066,0.0010238477982789818,0.0010361107318134178,0.0010500166603262537,0.0010635177929748463,0.0010772451350769868,0.001089043743943614,0.0011022829498565196,0.0011150578311016164,0.0011267611938825391,0.001138738389159862,0.0011482868092517237,0.0011599068317076553,0.0011744675770597088,0.0011902188984830669,0.0012102205764809818,0.001227900631139853,0.0012464259948093504,0.0012646299029395955,0.001281095570005736,0.00130113296528579,0.0013187653969018091,0.0013420768763779505,0.001363602491747135,0.0013886284007659548,0.0014095468223387741,0.0014310486261865326,0.001458360441262257,0.0014834935021274939,0.0015114244167602966,0.0015399029963858992,0.0015674172093937452,0.0015896690761664255,0.0016156236345208628,0.0016397089884433518,0.0016609845828375626,0.0016857485651206954,0.00171263177281075,0.0017461941122608226,0.0017733630582079903,0.0018033179521620105,0.0018387852133261704,0.0018758954694687302,0.001913208123543412,0.001955759312331833,0.00199011933774968,0.002017133508807578,0.0020452787271332154,0.002069602196269966,0.002094544764963794,0.0021184872497577267,0.0021448942270192598,0.002173098974148462,0.0022020299726811603,0.0022314610131638065,0.002260618221150053,0.002291132685857586,0.0023222305328400587,0.0023531378876511222,0.002384271451915734,0.0024119166282914233,0.002440109469659913,0.002470742991974577,0.0024998525769179708,0.0025299860572826865,0.0025608815063330372,0.0025921698454869184,0.0026214103937981558,0.002651043832212924,0.0026812368413812048,0.0027104892954531554,0.002740837079510706,0.0027724111569217003,0.0028029613389113726,0.002832118546897619,0.002862597294323013,0.0028937070470661987,0.002925102538066497,0.0029571409401453,0.00298189301666772,0.0030088238474006265,0.0030373619558297944,0.0030633879487485098,0.0030913545806634515,0.003121369003421037,0.0031497999600037874,0.0031795643617863988,0.003207888166522732,0.0032336760442271866,0.00325965441410305,0.0032883949204643393,0.0033196475423360816,0.003350435839540015,0.0033816408383689047,0.0034112742767836725,0.003438848018595084,0.0034666241583386167,0.0034956027799141675,0.0035273554437358573,0.0035587390289754427,0.0035899440278043325,0.0036217800319510137,0.0036521159102478515,0.0036840828777623762,0.0037150140440948658,0.0037477667918164514,0.003779876628459533,0.003811236402177692,0.0038404055159246514,0.003865705257439871,0.0038897548940802214,0.003915137975920432,0.003943056984792522,0.003972940444182263,0.004004193066054006,0.00403396937359733,0.004060697806398115,0.00408609279399904,0.00411284503832125,0.004141240277621862,0.004170337956804543,0.0041974711854695715,0.004223735293602548,0.004247880176328603,0.004273037048715266,0.004299765481516051,0.004326112929974018,0.004352817551253377,0.004378891167214945,0.004404071851123034,0.004426752325281384,0.0044476350295720645,0.0044671842886628834,0.004487209778182224,0.004509330681587061,0.004533070768448872,0.004557191839653501,0.004579741350444007,0.004603457625784391,0.004629078822838864,0.004656485884000292,0.004684023908529565,0.004708585492880575,0.004736123517409848,0.00476158993957505,0.0047864610737046,0.004817642261012064,0.004849847343740849,0.004885338416426435,0.0049188531328336555,0.004955153797247728,0.00498902568647634,0.005025897827404639,0.005065674973946921,0.005109869157713743,0.005152789425084269,0.005194709608554899,0.0052371298339754764,0.005275275891300071,0.005315303058817327,0.00535711609044154,0.005400893572583405,0.0054435400074575304,0.005489079542184926,0.00553136880423766,0.005573312799229717,0.005616804543114468,0.005663260821416768,0.005712681634136616,0.005760530886442342,0.005812820987494034,0.0058621346483674645,0.005908269471130513,0.005953773288575769,0.006003848918134835,0.006052757783144022,0.006110262607388027,0.006165219598839441,0.00621941462160522,0.0062682639578108415,0.006314577366984585,0.006365188755775738,0.006425181884008769,0.006492044636173228,0.0065571810530342944,0.00663021098924811,0.006699431082033751,0.00677313964660821,0.006844097980457956,0.006927057321106451,0.007008302232212267,0.007107036705805546,0.007202413754877746,0.007295516803653754,0.0073874173705977455,0.007486104221148172,0.007592446475837086,0.007693073965383739,0.007797511298358566,0.007903043961318993,0.008015553400057265,0.008125515006002944,0.00825008498034353,0.008373178640355698,0.008513428501555363,0.008650547147687497,0.008790285061176501,0.00892366529844474,0.009072999255068458,0.00922840514965583,0.0093873708666964,0.009547158081226172,0.00970458795513476,0.00986245834218973,0.01001641173397011,0.010171817628557482,0.010320163407042017,0.010483522349785702,0.010648333795336378,0.010814550120651193,0.010981837964430183,0.011141398969506406,0.011295578570740334,0.011454175209198801,0.011619439073656573,0.011781607440328952,0.011947359440975958,0.012106194194648687,0.012250861093072891,0.0123885035926764,0.012517407263916534,0.012648644464256424,0.012770357056025878,0.012894212684723681,0.013005936343254892,0.01310607569661231,0.013194785519685205,0.013284090630793752,0.013375812611327047,0.013466332110028326,0.013555065744622646,0.013639846666660238,0.013716293556198697,0.013791442717819433,0.013864675051965371,0.013938586014471952,0.014013127982296324,0.014086681771981514,0.014158366357234756,0.014226943538941892,0.014292449034385063,0.01436278826867773,0.014435508655113007,0.014510181586305222,0.014586247491500864,0.014661099009103775,0.01473306933261413,0.014804027666463876,0.014876331351274195,0.014949111266513037,0.015023915161073096,0.01509963579920806,0.015174058709425302,0.015244588435889378,0.015315642015824828,0.015389552978331408,0.015465845092980598,0.0155410537834049,0.015618095960979012,0.015695304819203105,0.015767929959552677,0.015839555016002354,0.01590867986270229,0.015979126248841374,0.016052727661569417,0.016126591001033145,0.016201978277868144,0.01627555587907476,0.01634633562651381,0.01642144907085241,0.016497884054630155,0.016576557321421954,0.016654266221595996,0.01673252278676284,0.01680773147718714,0.016882356785336502,0.01696089908876046,0.017042096376823423,0.01712388895292204,0.017207705508341872,0.017291688744411688,0.01737491001179587,0.01745902421123353,0.01754618628541373,0.017637146297261392,0.017727451492269834,0.01781643514783913,0.017903323389522927,0.017988092405799804,0.018076075977469207,0.01816846468060243,0.018263841729674633,0.018359587857328937,0.018455619723240353,0.018551068206876832,0.018645385643245572,0.018739810231460728,0.018838187532232615,0.018937362518972278,0.019035823160069156,0.019133521832480398,0.0192299942115382,0.01932494265322473,0.019420307796536217,0.019521625820204225,0.01962276525746154,0.019724261867540244,0.01982431788057267,0.019923933380458714,0.020021703487434237,0.020117068630745725,0.020216041219553265,0.02031788309669265,0.02042030835610697,0.020519221416110945,0.02061551520875805,0.02070840395384122,0.02079880439493537,0.020893812365425465,0.020993582640200778,0.021086471385283953,0.02117612176345318,0.02126684366008658,0.021356613095862936,0.02144304891863964,0.021530639600205508,0.021617432595803603,0.021707975906026307,0.021797340545938418,0.021892348516428514,0.02198902329341844,0.02209321060541829,0.022204053237656736,0.02232608728496544,0.022449073793131193,0.022588966481509466,0.022727787651423567,0.022863751438766535,0.023002810723894897,0.023168181740199086,0.023375699149427453,0.023625172459408587,0.023894075970873414,0.02416169366018123,0.024395832350363963,0.02464660338826282,0.024924138576244606,0.02521892521149959,0.025523498382060694,0.025822071049222427,0.026122822470594647,0.02637655804291105,0.02663424632778419,0.026924103978103974,0.027227605630200904,0.027523892391305732,0.027810725978404404,0.028083415521775977,0.02830045753957478,0.02852863144364028,0.028778961968392754,0.029028542430220308,0.029287052212582643,0.029523964945011517,0.029753412765473313,0.029956763158452113,0.03017937707226462,0.030426207303367463,0.03066610838173531,0.030855076615772754,0.03107424976473919,0.031277552534675145,0.03143918514211543,0.0316075445043586,0.03182670574756432,0.032042592906573956,0.03223795453411431,0.03240756400123234,0.03252834794366618,0.03262029613365302,0.032754724077864006,0.032925202665514096,0.0330910499122468,0.03324331268600593,0.03339127748014765,0.0335252172881694,0.03362052290267732,0.03372328152339161,0.033854304420038665,0.033995661516984646,0.0341202910201288,0.03423927719269496,0.03436134695728581,0.034445961198673415,0.0345516367307624,0.03468310014055584,0.03481033700529615,0.03494868194478173,0.035063655875987594,0.035173296026394026,0.035249992936907455,0.03531680806602906,0.035375229633847975,0.03548054799311556,0.03560672524515241,0.03575433286647274,0.03587298567773894,0.03596161216048684,0.03605917986953024,0.03618675009557052,0.03630837934701498,0.03643323505961268,0.03655575724311062,0.03667600542631237,0.036752773771390086,0.03684993668456924,0.03697476858564551,0.037114256478159545,0.0372459222858851,0.03738562448209197,0.03751444481300711,0.037598189933862665,0.037714366346900556,0.03786141439746737,0.038012819956455154,0.03815268883331201,0.03832297692879068,0.03848770503401636,0.03858701098412387,0.03875108427251034,0.038941874087936874,0.039133318720202634,0.03933824067359556,0.03961672832243438,0.03981431632722807,0.039953185120185024,0.04016348847742024,0.04041147356731225,0.04068232962353401,0.040960579157158575,0.041242209926825646,0.04150276750003063,0.04168300881146541,0.04194712620712359,0.04225002066542416,0.042576762362432956,0.0429027301849954,0.04314457190235948,0.04340428416655383,0.043626112300159274,0.043949306080475585,0.04432807595180038,0.04474419419448201,0.04514681130451503,0.0455567623631473,0.045851013239170194,0.04608729496628128,0.04647436315282307,0.046917126487980486,0.04738167736524277,0.04785025238962607,0.04831069577944235,0.04872636160321688,0.049041138010709064,0.049512832344399176,0.049998682627577104,0.05046466219612495,0.05097114516261858,0.05143605321270226,0.05190179466603585,0.05225539575921328,0.052692765784767684,0.05318321169158084,0.05378121424067564,0.05424761051084845,0.054619856025302504,0.05496313482394172,0.05525100421222242,0.055684600111630796,0.05614484110351496,0.05662848882096097,0.05710451685155063,0.057542148803840724,0.057974077896749264,0.05828403247115267,0.058659254425784985,0.059061431022671626,0.05943430754244347,0.05982922162529516,0.06018971615392544,0.06051856517058044,0.0607614903121694,0.06106949234181586,0.06139784131652092,0.06172093985075153,0.062040657148939624,0.06235998155702419,0.06261135978871941,0.06280963832763446,0.06305036090349152,0.06331872865572424,0.06358457238668581,0.0638194849513149,0.06403403866512468,0.06424363958247784,0.06439659289035832,0.0645867874177492,0.06479391193687403,0.06500302471803796,0.06521057784454846,0.0654053799013353,0.0655874666056806,0.06571656076909214,0.06588076502084646,0.06605304137836421,0.06619235068446754,0.06635035203489036,0.06651796133420859,0.06669089250856557,0.06681155739339227,0.066959522187534,0.06713342963426944,0.06729089522546017,0.067415869995665,0.06755427446395414,0.06767210577773114,0.06776323247022878,0.06789724371281482,0.06805801910548377,0.06821744914719215,0.06836386619244117,0.06850630671361203,0.06864747331838661,0.06873694511014514,0.06887262315923098,0.0690136349891163,0.06917207685268549,0.06931220765627802,0.0694525527635634,0.06958427810009252,0.06966858279170159,0.06977780624048306,0.0698672899380023,0.06997558473744815,0.07010230965447779,0.07023814247845292,0.07035592616918708,0.07043699249388219,0.07053732233941103,0.07065467742275951,0.0707749732290041,0.07089835262727338,0.07101576723942543,0.07111854967166115,0.07119954456179199,0.07128948067821833,0.07138878662832583,0.07148766397104767,0.07158229095719494,0.0716720484872106,0.0717592224671515,0.07181048867278186,0.0718836257608421,0.07197284753162565,0.07204940157301054,0.07212382448322778,0.0721938541677419,0.07226271708770615,0.07230485157486961,0.07235652257636424,0.07242113513975393,0.07248237837286182,0.07253968079917371,0.07259742373863198,0.07264961859359796,0.07268587163496919,0.0727308873162252,0.07278220114489843,0.07283283634521101,0.07288417398540566,0.07292988020078303,0.07297277665663214,0.07299845738249017,0.07303547239254703,0.07307542812550001,0.07311726496864564,0.07315666113084511,0.07319509292642681,0.07323046494150527,0.0732504785252639,0.07327773081153606,0.07330994780002556,0.07334309343785067,0.07337465560950096,0.07340442001128357,0.07343056506180941,0.07344676880213986,0.07347019933922314,0.07349865410732731,0.07352738270792789,0.07355242052270743,0.07357542245240503,0.07359884108372758,0.07361218744148691,0.07363429643913103,0.07365771507045359,0.07368305052925095,0.0737057310034093,0.07372878055614976,0.07374905606664407,0.07376098563887853,0.07377896333755524,0.073798929298271,0.07381924052604746,0.07383318217184244,0.07385198136800834,0.07386600635412831,0.07387435229238815,0.07389197281824346,0.07391497474794105,0.07393832194469933,0.07396319307882888,0.07399169546997592,0.07402192419642634,0.07403884228239957,0.07406613028595387,0.07410378820708922,0.07414727995097398,0.07419561733946894,0.0742510743728703,0.07431388916639232,0.07435559504617012,0.07441683827927803,0.07450840548492205,0.07462005770888898,0.07476115287909928,0.07493122667088511,0.07513073150315361,0.07527039798207832,0.07553227709472246,0.07587748462659719,0.07629501965480366,0.07674934348361344,0.07719455940547774,0.07763397722187479,0.07790935746716751,0.07833116666346997,0.07880524214930269,0.07926667371725817,0.0797320103747275,0.08013300830130356,0.08050502760630407,0.08072645094404526,0.08103376243957038,0.0813785056467773,0.08167655446046765,0.08187073741769742,0.08207962398940778,0.08230960756910166,0.08245316723177955,0.08265517227379778,0.08288269136102407,0.08314548721724309,0.08332812158658119,0.08348238452814012,0.08362492029539668,0.08370872494505581,0.08382211541008684,0.08395262635902324,0.08406349280278311,0.08413771331506822,0.08421833912661697,0.08429536939843037,0.084344052053986,0.08441055763332907,0.0844870640516711,0.08455660559999599,0.08461622964964692,0.08469271225646752,0.08473977572856618,0.08476619461158842,0.08480584079476286,0.0848512374603617,0.08488960972713985,0.08492544606688611,0.08495616292952576,0.08498205795907664,0.08499780928049999,0.08501943014195489,0.08503435996588904,0.08504771822940908,0.08506108839868982,0.08507710164684887,0.08509531746073982,0.08511177122204526,0.08513914256592454,0.08517384785840307,0.08520650536003896,0.08524206786728881,0.08527167749418216,0.0852986321364365,0.08532109830690202,0.08533627815181113,0.08537817452376034,0.08543311960945105,0.08548345716574579,0.08552869905645537,0.0855666069985657,0.08558752542013852,0.08562198069164208,0.08565918619387033,0.08569177226094193,0.08571982223318188,0.0857459434721863,0.0857696835590481,0.08578176790617184,0.08580432932272307,0.08582824799599557,0.08584991648049331,0.08586904903795917,0.0858858718778467,0.0858989205915882,0.08590615929410174,0.08591244553575822,0.08592526804004617,0.08594082886929812,0.08595284178185758,0.08596437846398852,0.0859729387059412,0.08597927257064054,0.08598707084390758,0.08599536915912458,0.08600216734849173,0.08600516760019142,0.08600788211363398,0.08601234677390138,0.0860155613292939,0.08602137134052186,0.0860281576241283,0.0860336342740563,0.0860390275836593,0.08604344462088385,0.08604802833875837,0.0860510643077402],\"type\":\"scatter\"},{\"mode\":\"markers+lines\",\"name\":\"Germany\",\"x\":[\"2020-01-22T00:00:00\",\"2020-01-23T00:00:00\",\"2020-01-24T00:00:00\",\"2020-01-25T00:00:00\",\"2020-01-26T00:00:00\",\"2020-01-27T00:00:00\",\"2020-01-28T00:00:00\",\"2020-01-29T00:00:00\",\"2020-01-30T00:00:00\",\"2020-01-31T00:00:00\",\"2020-02-01T00:00:00\",\"2020-02-02T00:00:00\",\"2020-02-03T00:00:00\",\"2020-02-04T00:00:00\",\"2020-02-05T00:00:00\",\"2020-02-06T00:00:00\",\"2020-02-07T00:00:00\",\"2020-02-08T00:00:00\",\"2020-02-09T00:00:00\",\"2020-02-10T00:00:00\",\"2020-02-11T00:00:00\",\"2020-02-12T00:00:00\",\"2020-02-13T00:00:00\",\"2020-02-14T00:00:00\",\"2020-02-15T00:00:00\",\"2020-02-16T00:00:00\",\"2020-02-17T00:00:00\",\"2020-02-18T00:00:00\",\"2020-02-19T00:00:00\",\"2020-02-20T00:00:00\",\"2020-02-21T00:00:00\",\"2020-02-22T00:00:00\",\"2020-02-23T00:00:00\",\"2020-02-24T00:00:00\",\"2020-02-25T00:00:00\",\"2020-02-26T00:00:00\",\"2020-02-27T00:00:00\",\"2020-02-28T00:00:00\",\"2020-02-29T00:00:00\",\"2020-03-01T00:00:00\",\"2020-03-02T00:00:00\",\"2020-03-03T00:00:00\",\"2020-03-04T00:00:00\",\"2020-03-05T00:00:00\",\"2020-03-06T00:00:00\",\"2020-03-07T00:00:00\",\"2020-03-08T00:00:00\",\"2020-03-09T00:00:00\",\"2020-03-10T00:00:00\",\"2020-03-11T00:00:00\",\"2020-03-12T00:00:00\",\"2020-03-13T00:00:00\",\"2020-03-14T00:00:00\",\"2020-03-15T00:00:00\",\"2020-03-16T00:00:00\",\"2020-03-17T00:00:00\",\"2020-03-18T00:00:00\",\"2020-03-19T00:00:00\",\"2020-03-20T00:00:00\",\"2020-03-21T00:00:00\",\"2020-03-22T00:00:00\",\"2020-03-23T00:00:00\",\"2020-03-24T00:00:00\",\"2020-03-25T00:00:00\",\"2020-03-26T00:00:00\",\"2020-03-27T00:00:00\",\"2020-03-28T00:00:00\",\"2020-03-29T00:00:00\",\"2020-03-30T00:00:00\",\"2020-03-31T00:00:00\",\"2020-04-01T00:00:00\",\"2020-04-02T00:00:00\",\"2020-04-03T00:00:00\",\"2020-04-04T00:00:00\",\"2020-04-05T00:00:00\",\"2020-04-06T00:00:00\",\"2020-04-07T00:00:00\",\"2020-04-08T00:00:00\",\"2020-04-09T00:00:00\",\"2020-04-10T00:00:00\",\"2020-04-11T00:00:00\",\"2020-04-12T00:00:00\",\"2020-04-13T00:00:00\",\"2020-04-14T00:00:00\",\"2020-04-15T00:00:00\",\"2020-04-16T00:00:00\",\"2020-04-17T00:00:00\",\"2020-04-18T00:00:00\",\"2020-04-19T00:00:00\",\"2020-04-20T00:00:00\",\"2020-04-21T00:00:00\",\"2020-04-22T00:00:00\",\"2020-04-23T00:00:00\",\"2020-04-24T00:00:00\",\"2020-04-25T00:00:00\",\"2020-04-26T00:00:00\",\"2020-04-27T00:00:00\",\"2020-04-28T00:00:00\",\"2020-04-29T00:00:00\",\"2020-04-30T00:00:00\",\"2020-05-01T00:00:00\",\"2020-05-02T00:00:00\",\"2020-05-03T00:00:00\",\"2020-05-04T00:00:00\",\"2020-05-05T00:00:00\",\"2020-05-06T00:00:00\",\"2020-05-07T00:00:00\",\"2020-05-08T00:00:00\",\"2020-05-09T00:00:00\",\"2020-05-10T00:00:00\",\"2020-05-11T00:00:00\",\"2020-05-12T00:00:00\",\"2020-05-13T00:00:00\",\"2020-05-14T00:00:00\",\"2020-05-15T00:00:00\",\"2020-05-16T00:00:00\",\"2020-05-17T00:00:00\",\"2020-05-18T00:00:00\",\"2020-05-19T00:00:00\",\"2020-05-20T00:00:00\",\"2020-05-21T00:00:00\",\"2020-05-22T00:00:00\",\"2020-05-23T00:00:00\",\"2020-05-24T00:00:00\",\"2020-05-25T00:00:00\",\"2020-05-26T00:00:00\",\"2020-05-27T00:00:00\",\"2020-05-28T00:00:00\",\"2020-05-29T00:00:00\",\"2020-05-30T00:00:00\",\"2020-05-31T00:00:00\",\"2020-06-01T00:00:00\",\"2020-06-02T00:00:00\",\"2020-06-03T00:00:00\",\"2020-06-04T00:00:00\",\"2020-06-05T00:00:00\",\"2020-06-06T00:00:00\",\"2020-06-07T00:00:00\",\"2020-06-08T00:00:00\",\"2020-06-09T00:00:00\",\"2020-06-10T00:00:00\",\"2020-06-11T00:00:00\",\"2020-06-12T00:00:00\",\"2020-06-13T00:00:00\",\"2020-06-14T00:00:00\",\"2020-06-15T00:00:00\",\"2020-06-16T00:00:00\",\"2020-06-17T00:00:00\",\"2020-06-18T00:00:00\",\"2020-06-19T00:00:00\",\"2020-06-20T00:00:00\",\"2020-06-21T00:00:00\",\"2020-06-22T00:00:00\",\"2020-06-23T00:00:00\",\"2020-06-24T00:00:00\",\"2020-06-25T00:00:00\",\"2020-06-26T00:00:00\",\"2020-06-27T00:00:00\",\"2020-06-28T00:00:00\",\"2020-06-29T00:00:00\",\"2020-06-30T00:00:00\",\"2020-07-01T00:00:00\",\"2020-07-02T00:00:00\",\"2020-07-03T00:00:00\",\"2020-07-04T00:00:00\",\"2020-07-05T00:00:00\",\"2020-07-06T00:00:00\",\"2020-07-07T00:00:00\",\"2020-07-08T00:00:00\",\"2020-07-09T00:00:00\",\"2020-07-10T00:00:00\",\"2020-07-11T00:00:00\",\"2020-07-12T00:00:00\",\"2020-07-13T00:00:00\",\"2020-07-14T00:00:00\",\"2020-07-15T00:00:00\",\"2020-07-16T00:00:00\",\"2020-07-17T00:00:00\",\"2020-07-18T00:00:00\",\"2020-07-19T00:00:00\",\"2020-07-20T00:00:00\",\"2020-07-21T00:00:00\",\"2020-07-22T00:00:00\",\"2020-07-23T00:00:00\",\"2020-07-24T00:00:00\",\"2020-07-25T00:00:00\",\"2020-07-26T00:00:00\",\"2020-07-27T00:00:00\",\"2020-07-28T00:00:00\",\"2020-07-29T00:00:00\",\"2020-07-30T00:00:00\",\"2020-07-31T00:00:00\",\"2020-08-01T00:00:00\",\"2020-08-02T00:00:00\",\"2020-08-03T00:00:00\",\"2020-08-04T00:00:00\",\"2020-08-05T00:00:00\",\"2020-08-06T00:00:00\",\"2020-08-07T00:00:00\",\"2020-08-08T00:00:00\",\"2020-08-09T00:00:00\",\"2020-08-10T00:00:00\",\"2020-08-11T00:00:00\",\"2020-08-12T00:00:00\",\"2020-08-13T00:00:00\",\"2020-08-14T00:00:00\",\"2020-08-15T00:00:00\",\"2020-08-16T00:00:00\",\"2020-08-17T00:00:00\",\"2020-08-18T00:00:00\",\"2020-08-19T00:00:00\",\"2020-08-20T00:00:00\",\"2020-08-21T00:00:00\",\"2020-08-22T00:00:00\",\"2020-08-23T00:00:00\",\"2020-08-24T00:00:00\",\"2020-08-25T00:00:00\",\"2020-08-26T00:00:00\",\"2020-08-27T00:00:00\",\"2020-08-28T00:00:00\",\"2020-08-29T00:00:00\",\"2020-08-30T00:00:00\",\"2020-08-31T00:00:00\",\"2020-09-01T00:00:00\",\"2020-09-02T00:00:00\",\"2020-09-03T00:00:00\",\"2020-09-04T00:00:00\",\"2020-09-05T00:00:00\",\"2020-09-06T00:00:00\",\"2020-09-07T00:00:00\",\"2020-09-08T00:00:00\",\"2020-09-09T00:00:00\",\"2020-09-10T00:00:00\",\"2020-09-11T00:00:00\",\"2020-09-12T00:00:00\",\"2020-09-13T00:00:00\",\"2020-09-14T00:00:00\",\"2020-09-15T00:00:00\",\"2020-09-16T00:00:00\",\"2020-09-17T00:00:00\",\"2020-09-18T00:00:00\",\"2020-09-19T00:00:00\",\"2020-09-20T00:00:00\",\"2020-09-21T00:00:00\",\"2020-09-22T00:00:00\",\"2020-09-23T00:00:00\",\"2020-09-24T00:00:00\",\"2020-09-25T00:00:00\",\"2020-09-26T00:00:00\",\"2020-09-27T00:00:00\",\"2020-09-28T00:00:00\",\"2020-09-29T00:00:00\",\"2020-09-30T00:00:00\",\"2020-10-01T00:00:00\",\"2020-10-02T00:00:00\",\"2020-10-03T00:00:00\",\"2020-10-04T00:00:00\",\"2020-10-05T00:00:00\",\"2020-10-06T00:00:00\",\"2020-10-07T00:00:00\",\"2020-10-08T00:00:00\",\"2020-10-09T00:00:00\",\"2020-10-10T00:00:00\",\"2020-10-11T00:00:00\",\"2020-10-12T00:00:00\",\"2020-10-13T00:00:00\",\"2020-10-14T00:00:00\",\"2020-10-15T00:00:00\",\"2020-10-16T00:00:00\",\"2020-10-17T00:00:00\",\"2020-10-18T00:00:00\",\"2020-10-19T00:00:00\",\"2020-10-20T00:00:00\",\"2020-10-21T00:00:00\",\"2020-10-22T00:00:00\",\"2020-10-23T00:00:00\",\"2020-10-24T00:00:00\",\"2020-10-25T00:00:00\",\"2020-10-26T00:00:00\",\"2020-10-27T00:00:00\",\"2020-10-28T00:00:00\",\"2020-10-29T00:00:00\",\"2020-10-30T00:00:00\",\"2020-10-31T00:00:00\",\"2020-11-01T00:00:00\",\"2020-11-02T00:00:00\",\"2020-11-03T00:00:00\",\"2020-11-04T00:00:00\",\"2020-11-05T00:00:00\",\"2020-11-06T00:00:00\",\"2020-11-07T00:00:00\",\"2020-11-08T00:00:00\",\"2020-11-09T00:00:00\",\"2020-11-10T00:00:00\",\"2020-11-11T00:00:00\",\"2020-11-12T00:00:00\",\"2020-11-13T00:00:00\",\"2020-11-14T00:00:00\",\"2020-11-15T00:00:00\",\"2020-11-16T00:00:00\",\"2020-11-17T00:00:00\",\"2020-11-18T00:00:00\",\"2020-11-19T00:00:00\",\"2020-11-20T00:00:00\",\"2020-11-21T00:00:00\",\"2020-11-22T00:00:00\",\"2020-11-23T00:00:00\",\"2020-11-24T00:00:00\",\"2020-11-25T00:00:00\",\"2020-11-26T00:00:00\",\"2020-11-27T00:00:00\",\"2020-11-28T00:00:00\",\"2020-11-29T00:00:00\",\"2020-11-30T00:00:00\",\"2020-12-01T00:00:00\",\"2020-12-02T00:00:00\",\"2020-12-03T00:00:00\",\"2020-12-04T00:00:00\",\"2020-12-05T00:00:00\",\"2020-12-06T00:00:00\",\"2020-12-07T00:00:00\",\"2020-12-08T00:00:00\",\"2020-12-09T00:00:00\",\"2020-12-10T00:00:00\",\"2020-12-11T00:00:00\",\"2020-12-12T00:00:00\",\"2020-12-13T00:00:00\",\"2020-12-14T00:00:00\",\"2020-12-15T00:00:00\",\"2020-12-16T00:00:00\",\"2020-12-17T00:00:00\",\"2020-12-18T00:00:00\",\"2020-12-19T00:00:00\",\"2020-12-20T00:00:00\",\"2020-12-21T00:00:00\",\"2020-12-22T00:00:00\",\"2020-12-23T00:00:00\",\"2020-12-24T00:00:00\",\"2020-12-25T00:00:00\",\"2020-12-26T00:00:00\",\"2020-12-27T00:00:00\",\"2020-12-28T00:00:00\",\"2020-12-29T00:00:00\",\"2020-12-30T00:00:00\",\"2020-12-31T00:00:00\",\"2021-01-01T00:00:00\",\"2021-01-02T00:00:00\",\"2021-01-03T00:00:00\",\"2021-01-04T00:00:00\",\"2021-01-05T00:00:00\",\"2021-01-06T00:00:00\",\"2021-01-07T00:00:00\",\"2021-01-08T00:00:00\",\"2021-01-09T00:00:00\",\"2021-01-10T00:00:00\",\"2021-01-11T00:00:00\",\"2021-01-12T00:00:00\",\"2021-01-13T00:00:00\",\"2021-01-14T00:00:00\",\"2021-01-15T00:00:00\",\"2021-01-16T00:00:00\",\"2021-01-17T00:00:00\",\"2021-01-18T00:00:00\",\"2021-01-19T00:00:00\",\"2021-01-20T00:00:00\",\"2021-01-21T00:00:00\",\"2021-01-22T00:00:00\",\"2021-01-23T00:00:00\",\"2021-01-24T00:00:00\",\"2021-01-25T00:00:00\",\"2021-01-26T00:00:00\",\"2021-01-27T00:00:00\",\"2021-01-28T00:00:00\",\"2021-01-29T00:00:00\",\"2021-01-30T00:00:00\",\"2021-01-31T00:00:00\",\"2021-02-01T00:00:00\",\"2021-02-02T00:00:00\",\"2021-02-03T00:00:00\",\"2021-02-04T00:00:00\",\"2021-02-05T00:00:00\",\"2021-02-06T00:00:00\",\"2021-02-07T00:00:00\",\"2021-02-08T00:00:00\",\"2021-02-09T00:00:00\",\"2021-02-10T00:00:00\",\"2021-02-11T00:00:00\",\"2021-02-12T00:00:00\",\"2021-02-13T00:00:00\",\"2021-02-14T00:00:00\",\"2021-02-15T00:00:00\",\"2021-02-16T00:00:00\",\"2021-02-17T00:00:00\",\"2021-02-18T00:00:00\",\"2021-02-19T00:00:00\",\"2021-02-20T00:00:00\",\"2021-02-21T00:00:00\",\"2021-02-22T00:00:00\",\"2021-02-23T00:00:00\",\"2021-02-24T00:00:00\",\"2021-02-25T00:00:00\",\"2021-02-26T00:00:00\",\"2021-02-27T00:00:00\",\"2021-02-28T00:00:00\",\"2021-03-01T00:00:00\",\"2021-03-02T00:00:00\",\"2021-03-03T00:00:00\",\"2021-03-04T00:00:00\",\"2021-03-05T00:00:00\",\"2021-03-06T00:00:00\",\"2021-03-07T00:00:00\",\"2021-03-08T00:00:00\",\"2021-03-09T00:00:00\",\"2021-03-10T00:00:00\",\"2021-03-11T00:00:00\",\"2021-03-12T00:00:00\",\"2021-03-13T00:00:00\",\"2021-03-14T00:00:00\",\"2021-03-15T00:00:00\",\"2021-03-16T00:00:00\",\"2021-03-17T00:00:00\",\"2021-03-18T00:00:00\",\"2021-03-19T00:00:00\",\"2021-03-20T00:00:00\",\"2021-03-21T00:00:00\",\"2021-03-22T00:00:00\",\"2021-03-23T00:00:00\",\"2021-03-24T00:00:00\",\"2021-03-25T00:00:00\",\"2021-03-26T00:00:00\",\"2021-03-27T00:00:00\",\"2021-03-28T00:00:00\",\"2021-03-29T00:00:00\",\"2021-03-30T00:00:00\",\"2021-03-31T00:00:00\",\"2021-04-01T00:00:00\",\"2021-04-02T00:00:00\",\"2021-04-03T00:00:00\",\"2021-04-04T00:00:00\",\"2021-04-05T00:00:00\",\"2021-04-06T00:00:00\",\"2021-04-07T00:00:00\",\"2021-04-08T00:00:00\",\"2021-04-09T00:00:00\",\"2021-04-10T00:00:00\",\"2021-04-11T00:00:00\",\"2021-04-12T00:00:00\",\"2021-04-13T00:00:00\",\"2021-04-14T00:00:00\",\"2021-04-15T00:00:00\",\"2021-04-16T00:00:00\",\"2021-04-17T00:00:00\",\"2021-04-18T00:00:00\",\"2021-04-19T00:00:00\",\"2021-04-20T00:00:00\",\"2021-04-21T00:00:00\",\"2021-04-22T00:00:00\",\"2021-04-23T00:00:00\",\"2021-04-24T00:00:00\",\"2021-04-25T00:00:00\",\"2021-04-26T00:00:00\",\"2021-04-27T00:00:00\",\"2021-04-28T00:00:00\",\"2021-04-29T00:00:00\",\"2021-04-30T00:00:00\",\"2021-05-01T00:00:00\",\"2021-05-02T00:00:00\",\"2021-05-03T00:00:00\",\"2021-05-04T00:00:00\",\"2021-05-05T00:00:00\",\"2021-05-06T00:00:00\",\"2021-05-07T00:00:00\",\"2021-05-08T00:00:00\",\"2021-05-09T00:00:00\",\"2021-05-10T00:00:00\",\"2021-05-11T00:00:00\",\"2021-05-12T00:00:00\",\"2021-05-13T00:00:00\",\"2021-05-14T00:00:00\",\"2021-05-15T00:00:00\",\"2021-05-16T00:00:00\",\"2021-05-17T00:00:00\",\"2021-05-18T00:00:00\",\"2021-05-19T00:00:00\",\"2021-05-20T00:00:00\",\"2021-05-21T00:00:00\",\"2021-05-22T00:00:00\",\"2021-05-23T00:00:00\",\"2021-05-24T00:00:00\",\"2021-05-25T00:00:00\",\"2021-05-26T00:00:00\",\"2021-05-27T00:00:00\",\"2021-05-28T00:00:00\",\"2021-05-29T00:00:00\",\"2021-05-30T00:00:00\",\"2021-05-31T00:00:00\",\"2021-06-01T00:00:00\",\"2021-06-02T00:00:00\",\"2021-06-03T00:00:00\",\"2021-06-04T00:00:00\",\"2021-06-05T00:00:00\",\"2021-06-06T00:00:00\",\"2021-06-07T00:00:00\",\"2021-06-08T00:00:00\",\"2021-06-09T00:00:00\",\"2021-06-10T00:00:00\",\"2021-06-11T00:00:00\",\"2021-06-12T00:00:00\",\"2021-06-13T00:00:00\",\"2021-06-14T00:00:00\",\"2021-06-15T00:00:00\",\"2021-06-16T00:00:00\",\"2021-06-17T00:00:00\",\"2021-06-18T00:00:00\",\"2021-06-19T00:00:00\",\"2021-06-20T00:00:00\",\"2021-06-21T00:00:00\",\"2021-06-22T00:00:00\",\"2021-06-23T00:00:00\",\"2021-06-24T00:00:00\",\"2021-06-25T00:00:00\",\"2021-06-26T00:00:00\",\"2021-06-27T00:00:00\",\"2021-06-28T00:00:00\",\"2021-06-29T00:00:00\",\"2021-06-30T00:00:00\",\"2021-07-01T00:00:00\",\"2021-07-02T00:00:00\",\"2021-07-03T00:00:00\",\"2021-07-04T00:00:00\",\"2021-07-05T00:00:00\",\"2021-07-06T00:00:00\",\"2021-07-07T00:00:00\",\"2021-07-08T00:00:00\",\"2021-07-09T00:00:00\",\"2021-07-10T00:00:00\",\"2021-07-11T00:00:00\",\"2021-07-12T00:00:00\",\"2021-07-13T00:00:00\",\"2021-07-14T00:00:00\",\"2021-07-15T00:00:00\",\"2021-07-16T00:00:00\",\"2021-07-17T00:00:00\",\"2021-07-18T00:00:00\",\"2021-07-19T00:00:00\",\"2021-07-20T00:00:00\",\"2021-07-21T00:00:00\",\"2021-07-22T00:00:00\",\"2021-07-23T00:00:00\",\"2021-07-24T00:00:00\",\"2021-07-25T00:00:00\",\"2021-07-26T00:00:00\",\"2021-07-27T00:00:00\",\"2021-07-28T00:00:00\",\"2021-07-29T00:00:00\",\"2021-07-30T00:00:00\",\"2021-07-31T00:00:00\",\"2021-08-01T00:00:00\",\"2021-08-02T00:00:00\",\"2021-08-03T00:00:00\",\"2021-08-04T00:00:00\",\"2021-08-05T00:00:00\",\"2021-08-06T00:00:00\",\"2021-08-07T00:00:00\",\"2021-08-08T00:00:00\",\"2021-08-09T00:00:00\",\"2021-08-10T00:00:00\",\"2021-08-11T00:00:00\",\"2021-08-12T00:00:00\",\"2021-08-13T00:00:00\",\"2021-08-14T00:00:00\",\"2021-08-15T00:00:00\",\"2021-08-16T00:00:00\",\"2021-08-17T00:00:00\",\"2021-08-18T00:00:00\",\"2021-08-19T00:00:00\",\"2021-08-20T00:00:00\",\"2021-08-21T00:00:00\",\"2021-08-22T00:00:00\",\"2021-08-23T00:00:00\",\"2021-08-24T00:00:00\",\"2021-08-25T00:00:00\",\"2021-08-26T00:00:00\",\"2021-08-27T00:00:00\",\"2021-08-28T00:00:00\",\"2021-08-29T00:00:00\",\"2021-08-30T00:00:00\",\"2021-08-31T00:00:00\",\"2021-09-01T00:00:00\",\"2021-09-02T00:00:00\",\"2021-09-03T00:00:00\",\"2021-09-04T00:00:00\",\"2021-09-05T00:00:00\",\"2021-09-06T00:00:00\",\"2021-09-07T00:00:00\",\"2021-09-08T00:00:00\",\"2021-09-09T00:00:00\",\"2021-09-10T00:00:00\",\"2021-09-11T00:00:00\",\"2021-09-12T00:00:00\",\"2021-09-13T00:00:00\",\"2021-09-14T00:00:00\",\"2021-09-15T00:00:00\",\"2021-09-16T00:00:00\",\"2021-09-17T00:00:00\",\"2021-09-18T00:00:00\",\"2021-09-19T00:00:00\",\"2021-09-20T00:00:00\",\"2021-09-21T00:00:00\",\"2021-09-22T00:00:00\",\"2021-09-23T00:00:00\",\"2021-09-24T00:00:00\",\"2021-09-25T00:00:00\",\"2021-09-26T00:00:00\",\"2021-09-27T00:00:00\",\"2021-09-28T00:00:00\",\"2021-09-29T00:00:00\",\"2021-09-30T00:00:00\",\"2021-10-01T00:00:00\",\"2021-10-02T00:00:00\",\"2021-10-03T00:00:00\",\"2021-10-04T00:00:00\",\"2021-10-05T00:00:00\",\"2021-10-06T00:00:00\",\"2021-10-07T00:00:00\",\"2021-10-08T00:00:00\",\"2021-10-09T00:00:00\",\"2021-10-10T00:00:00\",\"2021-10-11T00:00:00\",\"2021-10-12T00:00:00\",\"2021-10-13T00:00:00\",\"2021-10-14T00:00:00\",\"2021-10-15T00:00:00\",\"2021-10-16T00:00:00\",\"2021-10-17T00:00:00\",\"2021-10-18T00:00:00\",\"2021-10-19T00:00:00\",\"2021-10-20T00:00:00\",\"2021-10-21T00:00:00\",\"2021-10-22T00:00:00\",\"2021-10-23T00:00:00\",\"2021-10-24T00:00:00\",\"2021-10-25T00:00:00\",\"2021-10-26T00:00:00\",\"2021-10-27T00:00:00\",\"2021-10-28T00:00:00\",\"2021-10-29T00:00:00\",\"2021-10-30T00:00:00\",\"2021-10-31T00:00:00\",\"2021-11-01T00:00:00\",\"2021-11-02T00:00:00\",\"2021-11-03T00:00:00\",\"2021-11-04T00:00:00\",\"2021-11-05T00:00:00\",\"2021-11-06T00:00:00\",\"2021-11-07T00:00:00\",\"2021-11-08T00:00:00\",\"2021-11-09T00:00:00\",\"2021-11-10T00:00:00\",\"2021-11-11T00:00:00\",\"2021-11-12T00:00:00\",\"2021-11-13T00:00:00\",\"2021-11-14T00:00:00\",\"2021-11-15T00:00:00\",\"2021-11-16T00:00:00\",\"2021-11-17T00:00:00\",\"2021-11-18T00:00:00\",\"2021-11-19T00:00:00\",\"2021-11-20T00:00:00\",\"2021-11-21T00:00:00\",\"2021-11-22T00:00:00\",\"2021-11-23T00:00:00\",\"2021-11-24T00:00:00\",\"2021-11-25T00:00:00\",\"2021-11-26T00:00:00\",\"2021-11-27T00:00:00\",\"2021-11-28T00:00:00\",\"2021-11-29T00:00:00\",\"2021-11-30T00:00:00\",\"2021-12-01T00:00:00\",\"2021-12-02T00:00:00\",\"2021-12-03T00:00:00\",\"2021-12-04T00:00:00\",\"2021-12-05T00:00:00\",\"2021-12-06T00:00:00\",\"2021-12-07T00:00:00\",\"2021-12-08T00:00:00\",\"2021-12-09T00:00:00\",\"2021-12-10T00:00:00\",\"2021-12-11T00:00:00\",\"2021-12-12T00:00:00\",\"2021-12-13T00:00:00\",\"2021-12-14T00:00:00\",\"2021-12-15T00:00:00\",\"2021-12-16T00:00:00\",\"2021-12-17T00:00:00\",\"2021-12-18T00:00:00\",\"2021-12-19T00:00:00\",\"2021-12-20T00:00:00\",\"2021-12-21T00:00:00\",\"2021-12-22T00:00:00\",\"2021-12-23T00:00:00\",\"2021-12-24T00:00:00\",\"2021-12-25T00:00:00\",\"2021-12-26T00:00:00\",\"2021-12-27T00:00:00\",\"2021-12-28T00:00:00\",\"2021-12-29T00:00:00\",\"2021-12-30T00:00:00\",\"2021-12-31T00:00:00\",\"2022-01-01T00:00:00\",\"2022-01-02T00:00:00\",\"2022-01-03T00:00:00\",\"2022-01-04T00:00:00\",\"2022-01-05T00:00:00\",\"2022-01-06T00:00:00\",\"2022-01-07T00:00:00\",\"2022-01-08T00:00:00\",\"2022-01-09T00:00:00\",\"2022-01-10T00:00:00\",\"2022-01-11T00:00:00\",\"2022-01-12T00:00:00\",\"2022-01-13T00:00:00\",\"2022-01-14T00:00:00\",\"2022-01-15T00:00:00\",\"2022-01-16T00:00:00\",\"2022-01-17T00:00:00\",\"2022-01-18T00:00:00\",\"2022-01-19T00:00:00\",\"2022-01-20T00:00:00\",\"2022-01-21T00:00:00\",\"2022-01-22T00:00:00\",\"2022-01-23T00:00:00\",\"2022-01-24T00:00:00\",\"2022-01-25T00:00:00\",\"2022-01-26T00:00:00\",\"2022-01-27T00:00:00\",\"2022-01-28T00:00:00\",\"2022-01-29T00:00:00\",\"2022-01-30T00:00:00\",\"2022-01-31T00:00:00\",\"2022-02-01T00:00:00\",\"2022-02-02T00:00:00\",\"2022-02-03T00:00:00\",\"2022-02-04T00:00:00\",\"2022-02-05T00:00:00\",\"2022-02-06T00:00:00\",\"2022-02-07T00:00:00\",\"2022-02-08T00:00:00\",\"2022-02-09T00:00:00\",\"2022-02-10T00:00:00\",\"2022-02-11T00:00:00\",\"2022-02-12T00:00:00\",\"2022-02-13T00:00:00\",\"2022-02-14T00:00:00\",\"2022-02-15T00:00:00\",\"2022-02-16T00:00:00\",\"2022-02-17T00:00:00\",\"2022-02-18T00:00:00\",\"2022-02-19T00:00:00\",\"2022-02-20T00:00:00\",\"2022-02-21T00:00:00\",\"2022-02-22T00:00:00\",\"2022-02-23T00:00:00\",\"2022-02-24T00:00:00\",\"2022-02-25T00:00:00\",\"2022-02-26T00:00:00\",\"2022-02-27T00:00:00\",\"2022-02-28T00:00:00\",\"2022-03-01T00:00:00\",\"2022-03-02T00:00:00\",\"2022-03-03T00:00:00\",\"2022-03-04T00:00:00\",\"2022-03-05T00:00:00\",\"2022-03-06T00:00:00\",\"2022-03-07T00:00:00\",\"2022-03-08T00:00:00\",\"2022-03-09T00:00:00\",\"2022-03-10T00:00:00\",\"2022-03-11T00:00:00\",\"2022-03-12T00:00:00\",\"2022-03-13T00:00:00\",\"2022-03-14T00:00:00\",\"2022-03-15T00:00:00\",\"2022-03-16T00:00:00\",\"2022-03-17T00:00:00\",\"2022-03-18T00:00:00\",\"2022-03-19T00:00:00\",\"2022-03-20T00:00:00\",\"2022-03-21T00:00:00\",\"2022-03-22T00:00:00\",\"2022-03-23T00:00:00\",\"2022-03-24T00:00:00\",\"2022-03-25T00:00:00\",\"2022-03-26T00:00:00\",\"2022-03-27T00:00:00\",\"2022-03-28T00:00:00\",\"2022-03-29T00:00:00\",\"2022-03-30T00:00:00\",\"2022-03-31T00:00:00\",\"2022-04-01T00:00:00\",\"2022-04-02T00:00:00\",\"2022-04-03T00:00:00\",\"2022-04-04T00:00:00\",\"2022-04-05T00:00:00\",\"2022-04-06T00:00:00\",\"2022-04-07T00:00:00\",\"2022-04-08T00:00:00\",\"2022-04-09T00:00:00\",\"2022-04-10T00:00:00\",\"2022-04-11T00:00:00\",\"2022-04-12T00:00:00\",\"2022-04-13T00:00:00\",\"2022-04-14T00:00:00\",\"2022-04-15T00:00:00\",\"2022-04-16T00:00:00\",\"2022-04-17T00:00:00\",\"2022-04-18T00:00:00\",\"2022-04-19T00:00:00\",\"2022-04-20T00:00:00\",\"2022-04-21T00:00:00\",\"2022-04-22T00:00:00\",\"2022-04-23T00:00:00\",\"2022-04-24T00:00:00\",\"2022-04-25T00:00:00\",\"2022-04-26T00:00:00\",\"2022-04-27T00:00:00\",\"2022-04-28T00:00:00\",\"2022-04-29T00:00:00\",\"2022-04-30T00:00:00\",\"2022-05-01T00:00:00\",\"2022-05-02T00:00:00\",\"2022-05-03T00:00:00\",\"2022-05-04T00:00:00\",\"2022-05-05T00:00:00\",\"2022-05-06T00:00:00\",\"2022-05-07T00:00:00\",\"2022-05-08T00:00:00\",\"2022-05-09T00:00:00\",\"2022-05-10T00:00:00\",\"2022-05-11T00:00:00\",\"2022-05-12T00:00:00\",\"2022-05-13T00:00:00\",\"2022-05-14T00:00:00\"],\"y\":[0.0,0.0,0.0,0.0,0.0,1.2025730589890587e-08,4.810292235956235e-08,4.810292235956235e-08,4.810292235956235e-08,6.012865294945293e-08,9.62058447191247e-08,1.2025730589890586e-07,1.4430876707868703e-07,1.4430876707868703e-07,1.4430876707868703e-07,1.4430876707868703e-07,1.5633449766857762e-07,1.5633449766857762e-07,1.683602282584682e-07,1.683602282584682e-07,1.924116894382494e-07,1.924116894382494e-07,1.924116894382494e-07,1.924116894382494e-07,1.924116894382494e-07,1.924116894382494e-07,1.924116894382494e-07,1.924116894382494e-07,1.924116894382494e-07,1.924116894382494e-07,1.924116894382494e-07,1.924116894382494e-07,1.924116894382494e-07,1.924116894382494e-07,1.924116894382494e-07,2.525403423877023e-07,3.1266899533715523e-07,6.37363721264201e-07,7.936982189327787e-07,1.4070104790171986e-06,1.803859588483588e-06,2.26083735089943e-06,2.8861753415737405e-06,4.196979975871814e-06,6.421740135001573e-06,8.22559972348516e-06,1.0185793809637326e-05,1.3372612415958332e-05,1.55853468444982e-05,1.884431983435855e-05,2.8488955767450798e-05,3.682278706624498e-05,4.563764758863477e-05,5.818048459389066e-05,7.229869230642221e-05,8.605612810125704e-05,9.858693937592303e-05,0.00013227101075820655,0.00016784312184310292,0.00020037272308875696,0.0002237988462778638,0.00027264736393399936,0.00032993794446423814,0.00037945990303340756,0.0004390353723757255,0.0005085440951852931,0.0005842340435180645,0.0006319160653069807,0.0006890503113395508,0.0007445490580118959,0.0008101253669185693,0.0008841557644299357,0.0009584026250919202,0.0010315431185396347,0.0011029278553212252,0.001147146466700253,0.0011932531177818934,0.0012413921173332254,0.0013012081012873412,0.0013652210652173287,0.0014149234097453466,0.001448847995739428,0.0014793572742459805,0.0015043948453341326,0.0015342908115806005,0.001568756555451227,0.001609403524845057,0.0016528043865439723,0.0016823636323339234,0.0017037093041309792,0.001725175233233934,0.0017520767925635191,0.0017803613109109418,0.001808465443299516,0.0018331783196617413,0.001854067013696381,0.0018663092074368897,0.0018800666432317245,0.0018957481959209418,0.0019135222257328003,0.001933232398169631,0.0019445967135770775,0.001954133117934861,0.0019622985890053964,0.0019705362144594716,0.001981924581328098,0.0019973656194055174,0.002011904727688695,0.0020269489166566484,0.002034970078960105,0.002039263264780696,0.002050483271421064,0.0020600798044317966,0.0020712998110721647,0.002082279303100735,0.002089735256066467,0.0020967462570003733,0.0021008590568621158,0.0021070282566547295,0.0021166127639348723,0.002125571933224341,0.0021311037692956906,0.002138776185412041,0.0021439592752962836,0.002147434711436762,0.002152629827051595,0.0021569831415251353,0.0021612282244233665,0.0021701392907904756,0.002179014279965815,0.0021824536389145233,0.002186458207200957,0.0021890196878166035,0.002193132487678346,0.0021978706255307632,0.002203967670939838,0.002208862143289923,0.00221248188819748,0.0022150553945437168,0.0022192644002501784,0.0022230885825777636,0.002229762863055153,0.0022328655015473446,0.0022370504557926267,0.0022400208112483295,0.002242329751521589,0.0022468754776845674,0.0022510243547380795,0.002257999278480216,0.002267259091034432,0.002274486555118956,0.002282748232034211,0.002289206049360982,0.002295254991847697,0.0023023140957039627,0.002309890305975594,0.0023156265794669717,0.0023238882563822267,0.0023269668434132387,0.00233011758482779,0.0023361063986615553,0.0023417103891164442,0.0023477593316031595,0.0023531228074462505,0.0023581976657551843,0.0023610718153661684,0.002363705450365354,0.0023683954852954116,0.002373169700339598,0.0023784850732603297,0.0023832352368433367,0.0023877809630063153,0.002390763344192608,0.0023926754353564006,0.002397630036359436,0.002401851067796487,0.002408272807931489,0.002415283808865395,0.002421645420347447,0.002424074617926605,0.002427069024843488,0.0024333464562114105,0.002438806137899221,0.002445648778604869,0.0024554497490356297,0.0024648418446263343,0.0024685096924562506,0.0024725984408568136,0.0024802107283202145,0.0024884363280436995,0.002499283537035781,0.0025097459226489857,0.002521230495362331,0.002524116670703905,0.002530237767574159,0.002540808384762673,0.0025497194511297817,0.0025622863395962175,0.0025760798525828223,0.0025895727223046792,0.0025962470027820687,0.002601490221319261,0.0026131070770690954,0.002627850622772301,0.002645227803474693,0.0026626530870994445,0.0026796694958841397,0.002687185577502821,0.00269393201236375,0.0027106477778836976,0.0027288066310744326,0.002749334553191376,0.0027664952707431496,0.002790955606762987,0.0028003597280842813,0.0028089100225336936,0.002824278906227574,0.0028432314576372414,0.0028613542336362067,0.0028802466563929248,0.0028980327119353727,0.002907472910448437,0.0029148086061082704,0.002929455945966757,0.0029445602635876597,0.002960325996391006,0.002977799382938117,0.0029943708396909866,0.003006252261513798,0.003016041206213969,0.003034067776368215,0.0030482100355419266,0.0030709627178179995,0.0030888089020133973,0.003108410842874919,0.003119811235474135,0.0031309590877309636,0.0031478792906709397,0.003170740204522322,0.003197124657436542,0.003220165957246772,0.0032477890604117507,0.0032639636680551537,0.0032750513916590326,0.0032969502470632235,0.0033182237644767396,0.0033439949051308755,0.00336988630309091,0.0034000348096797656,0.0034169910898115114,0.0034313257606746607,0.0034564475118769424,0.0034780697754775657,0.0035081701791440617,0.003540314957010839,0.003571136904512729,0.0035985435445270893,0.003615163104202318,0.0036468990072290393,0.00368090777333725,0.003729708188071026,0.003784016387414972,0.0038407898615298456,0.0038826754811744344,0.003912342958539695,0.003961913020031223,0.004023629069418542,0.004103455869074236,0.004191652577220493,0.0042858140477393366,0.004353001804545055,0.004405013089346332,0.0044876058070377,0.00457894123086792,0.004714675652036014,0.004849868915327565,0.005026815515227215,0.005161215080299832,0.005265658550473031,0.005402860110773094,0.005582813143320216,0.005784532748235041,0.006009185421384787,0.006238383820697512,0.006408872603270391,0.006554347866216297,0.006738966882232297,0.006945977808606674,0.007186372163098587,0.007444997525164773,0.0077263875952376234,0.007919003722095901,0.008079703559968609,0.00826408206137281,0.008486401742788119,0.008749356367866666,0.00903246611741387,0.009302576052193402,0.009506376108500279,0.009636542616405255,0.009809941625780886,0.010021125480669956,0.010293015223576792,0.010577399700566524,0.01085355857783277,0.011042855603048239,0.01117350314017681,0.011336499892592188,0.011560575330673619,0.011828364299449301,0.012102623111282346,0.012363521336430023,0.012539229286078915,0.012673544671037403,0.012837142709982274,0.013044827077269684,0.013309946333854412,0.013591937690456756,0.013872353676351826,0.014086014831742412,0.014234316141376942,0.014403325759087265,0.014653641341315837,0.014938398615953856,0.015297667317326838,0.015639655043842147,0.015882574801757934,0.016079339805669727,0.016252895149543027,0.01658634460733951,0.016910113352011136,0.01731630645414587,0.017692711821609447,0.017966549732871845,0.018166693967079393,0.01840153243403878,0.01869904900883267,0.0190862174051742,0.019393270384325874,0.019567102320002742,0.01973251624426669,0.019864510663221327,0.020019546381986195,0.020289632265304548,0.020681093847466667,0.02095677169550932,0.02110937821669503,0.02123342362772975,0.021351840996848406,0.021494911113676334,0.02175030155421384,0.02206767261021164,0.022450680103769067,0.022747643494955824,0.022951431525532112,0.023101717080713974,0.023255670483725753,0.02349137480328761,0.023793990287851615,0.02406298182968629,0.024287598425644263,0.024454539617693127,0.024540415359835536,0.024677135890912,0.024869234911354912,0.0251145357639275,0.025329339363724127,0.02552676578281836,0.02567416516265865,0.02575508630379802,0.025832195288340402,0.025990910880665775,0.026201998529710127,0.026370623324041574,0.026518792350639614,0.02665338432740167,0.026720824624549777,0.026794349941376368,0.026911059656751255,0.02708195731416419,0.0272371854446185,0.0273632752298535,0.027466888924615997,0.02752142561284115,0.027562060556504394,0.027659132253825987,0.0277822396578747,0.02790081336149102,0.028001276314838966,0.028074801631665557,0.028128027515256414,0.02817439873241103,0.028265265152748246,0.028388011784879257,0.02849760226774493,0.028607806062870687,0.028700115570878686,0.02875265598782592,0.028799351899706466,0.02889564192453972,0.02903837532091113,0.029158596549618266,0.02927599173163678,0.029370874745991014,0.02942778050314238,0.029475197958858317,0.02958365802304854,0.029726908525835316,0.02985414075547636,0.029969070662723942,0.030066515157693825,0.030126776093679766,0.03017790950014798,0.030287896832123122,0.03046053822047159,0.030614876446862248,0.03076729055635852,0.03089704818942344,0.030976466114239078,0.03104236711787168,0.03120393280834686,0.031414431196592305,0.03162466501876477,0.03181747355731249,0.03198262291550345,0.03207532927262092,0.03216534186608625,0.03235550474390419,0.03262797172187934,0.03288740280789505,0.03313359356453129,0.03334014751314325,0.033458865525526654,0.033573699226929515,0.033778749959217744,0.03407097521255208,0.03433419440370361,0.03455220887356773,0.034698874683842036,0.03480105731666434,0.034883854471775735,0.03500022746669411,0.03524563655084201,0.03555185975458298,0.03584164378460757,0.03605636320429007,0.03621564400595317,0.036345642153629884,0.03660651632731638,0.0369603854756545,0.037271022122521966,0.03755728261348372,0.03778799625485078,0.037925534535607354,0.03804108978084561,0.03834033806084445,0.03869531357639684,0.0390265382740342,0.03930784416399292,0.039533603204356935,0.03967679357849076,0.039808787997445395,0.040076132014189254,0.04037360048606079,0.04066617448558224,0.04089388169430182,0.041089780845611136,0.04119993653781453,0.04129053839207877,0.041507410417536854,0.04177141128117672,0.04199370691113085,0.04218233049543328,0.04233452814177894,0.04241777024892216,0.04249142784878524,0.04267071946614992,0.04288019566729522,0.043016519349262226,0.04311145046653882,0.04321366917655289,0.04327875243050538,0.043329368730558225,0.04346213279627062,0.043610025231065094,0.04371547886260784,0.04380064508664545,0.04388138584182597,0.04391363885126806,0.04393662002242534,0.043968199590954396,0.04404411802816837,0.04413286791992176,0.04419811953410251,0.04424444264833477,0.044268229543441576,0.04428969547254453,0.04434882598985502,0.04440462537979211,0.04444268681710912,0.044470273843082324,0.04449961662572166,0.04451304936679057,0.0445275283464208,0.0445666600737603,0.04460498607715028,0.044634328859789615,0.044657310030946896,0.04467521634379524,0.04468181846988909,0.0446896592462337,0.044707156684241994,0.044723150905926545,0.04473609059204127,0.044749415101534865,0.04475954076669156,0.04476370166947566,0.04476917337689406,0.04478139151917339,0.044793513455607996,0.04480282137108457,0.044809940603593786,0.04481641044665115,0.044819044081650335,0.04482390247680865,0.04483361926712528,0.04484434621881146,0.0448521509179643,0.04486022018319012,0.044866942566589865,0.04486949202147492,0.044874783342934474,0.044886628687565516,0.044898293646237715,0.04490970606456752,0.04492115456008909,0.044930113729378565,0.044934010066089686,0.04494177868805076,0.04496039451900391,0.04498014076863251,0.044997650232371386,0.045016987607159935,0.04503252485108207,0.045039090899984154,0.045053317339271995,0.04507981002376152,0.04510253865457641,0.045127660405778695,0.0451507377827807,0.045167417471108876,0.04517893812101399,0.04519751787477537,0.04523080509704819,0.045268589942561624,0.04529810108542921,0.04532696283884495,0.045352180795891955,0.04536236658970159,0.045383604029923336,0.04542654791385983,0.04546910697441746,0.0455105716934914,0.04554912618576259,0.04558673064531718,0.04560095708460502,0.04563078089646795,0.04569086144649504,0.04575866251556084,0.045825742040791255,0.04589361526424059,0.0459504729184696,0.045976039621703706,0.04602308427977136,0.04612318646120161,0.04622420259815669,0.04633580137803087,0.04643311358996427,0.046517894990623,0.046562005370426714,0.046631117244126816,0.046770146715476545,0.0469219835899045,0.04706664110317029,0.04719054220543794,0.04729175075408246,0.047346576059841765,0.047415724010733636,0.04757844417134545,0.047743377066385796,0.04791475575302233,0.048045054543963794,0.04817075950581992,0.04822786970039131,0.048308754764338914,0.048471883799790776,0.04865745284852338,0.04881341454854367,0.048948271091378705,0.04903660008256145,0.04910287388384234,0.049178936629823394,0.049328717104320484,0.04948414967219482,0.049616697274756594,0.04972373830273721,0.04981197108807524,0.049856899217559064,0.04991298722503032,0.05003870421261703,0.0501673314270065,0.050284305708454366,0.05037102325173807,0.05046451128134388,0.05050085303918653,0.05055101236147696,0.050692675467825875,0.05083878809449304,0.05096046443660156,0.051062887584035654,0.05113701418739174,0.05117414964345332,0.05123186112455421,0.051370722235675674,0.05151074984266436,0.051636166186986326,0.05174264200562922,0.05183418186687947,0.051871593914744614,0.05193137382150696,0.05207451609271843,0.05222341868888246,0.05236193105381681,0.052493600778045525,0.05259800817102696,0.05264678453429955,0.0527282107561237,0.05293282856211069,0.05312616623280436,0.053361533831909704,0.053543663521693596,0.05370880085415397,0.053787845981321324,0.05391379145778925,0.05419293271624179,0.05453009812479055,0.05482674884698197,0.055085819161079984,0.05528889767355147,0.05540504217958863,0.055535076404457116,0.0557803772570297,0.0561886387848259,0.05663503390432264,0.0570439327958401,0.05732705457111789,0.057513609729758865,0.05777615547999736,0.05825328836688185,0.058856931939572005,0.059441863475464284,0.05998399543618714,0.060386833359487295,0.06067072478152284,0.061056125395467654,0.061691396639609215,0.06247753067400095,0.06311453362334746,0.06388326642557562,0.06439708981648988,0.0647655942789559,0.06531067254367327,0.06611500150844751,0.0670284880297862,0.0679474222070821,0.0687546493729285,0.06928860383685023,0.06964172738989179,0.07019194064157104,0.07099990137698343,0.07188029308773873,0.07277443020855828,0.07355021008891212,0.07405595218886997,0.07439070042557017,0.07482433624491103,0.075661339119698,0.07651048798238076,0.07724752095877398,0.07789326661425934,0.0782858586150969,0.07854733407531289,0.07891800316928509,0.07953493517427707,0.0802165175069203,0.08082944494362584,0.08134430254737082,0.08169723368872293,0.08189067959099192,0.08217241840725187,0.08272150124025568,0.0832617812384677,0.08368786489899811,0.08395500447832194,0.08407646435727983,0.08424371821832403,0.08449722061915893,0.08497876694916992,0.08549310744649954,0.08598904857602663,0.08630643165775502,0.0864569336760875,0.0866796261551511,0.08704714450770874,0.08775560434822037,0.08852933985437393,0.08920680938715542,0.08987891544409382,0.0903184799486155,0.09062218977466319,0.09117164540531529,0.09213887491666019,0.09311797382409731,0.09422702277628879,0.09516529432837323,0.09579669328726484,0.09620731185825666,0.09710208634279746,0.09845285247984575,0.10005872043989737,0.10174424683937644,0.1033732643308136,0.10440074275241386,0.1051630898916988,0.10668981651873835,0.10866203633548041,0.11110489514458842,0.11339156376479494,0.11566642311756219,0.11709712428584147,0.11803895545418051,0.1199944955825944,0.1225018363591254,0.12534135186601036,0.12833381061453755,0.13095319512297457,0.13255469774282208,0.13370035301892919,0.13573956818078753,0.1385565955714694,0.14153731720694085,0.14442556097417605,0.14694842696889862,0.1484535674095293,0.1493731148990853,0.1512878156464159,0.15393313965573532,0.1567667144517089,0.15941295241655312,0.1616870781997544,0.16310649923274034,0.1639948038742238,0.1655088674069522,0.16802287043823,0.17062430053089633,0.17315863907260162,0.17527315935941387,0.17657089202456072,0.1773206843011098,0.17878915828917194,0.1810308266255111,0.18356432336607512,0.18618103816232118,0.18849250383900404,0.18989817946192575,0.1908413334606297,0.19272695599139394,0.1953227580421442,0.19848254280609912,0.2015230804255247,0.2043742127881595,0.2061372690727516,0.2072481820131845,0.20963995551874667,0.2127978281915378,0.21634458894014483,0.2199263926676908,0.22305595677067333,0.22464085185657617,0.22575099515025135,0.22842166939965425,0.2318337539913851,0.23566259027670858,0.23922819534514994,0.24225899212279772,0.2435965419819277,0.24440829082247592,0.24726262202944763,0.2504912541010297,0.25683467065269927,0.25683399721178624,0.25919652414055383,0.2605816718413586,0.2605816718413586,0.2627510775625831,0.26776236785961877,0.2698700334799947,0.2716820104366265,0.27234908973817834,0.27271934995731045,0.2751298114482093,0.2767971910202282,0.27878586203641725,0.28067226623966984,0.28112404888647086,0.28160248055225906,0.2818487915662012,0.28211916606705373,0.28450727172478596,0.28674796597694735,0.28869274307648324,0.29031716673883506,0.2907883228376164,0.29102984761078377,0.2926749435040196,0.2926749435040196,0.29594311617778124,0.29716505066302,0.2982148728920563,0.2983557904031086,0.29840427814884707,0.29976946313687264,0.30105177881540324,0.30220825724904127,0.30323132222751503,0.30410020531409576,0.3042022797153428,0.3042425659128189,0.30553614970091225,0.30670276582543754,0.3077725868444448,0.3086023502294167,0.3093462498979767,0.3094202201668351],\"type\":\"scatter\"},{\"mode\":\"markers+lines\",\"name\":\"US\",\"x\":[\"2020-01-22T00:00:00\",\"2020-01-23T00:00:00\",\"2020-01-24T00:00:00\",\"2020-01-25T00:00:00\",\"2020-01-26T00:00:00\",\"2020-01-27T00:00:00\",\"2020-01-28T00:00:00\",\"2020-01-29T00:00:00\",\"2020-01-30T00:00:00\",\"2020-01-31T00:00:00\",\"2020-02-01T00:00:00\",\"2020-02-02T00:00:00\",\"2020-02-03T00:00:00\",\"2020-02-04T00:00:00\",\"2020-02-05T00:00:00\",\"2020-02-06T00:00:00\",\"2020-02-07T00:00:00\",\"2020-02-08T00:00:00\",\"2020-02-09T00:00:00\",\"2020-02-10T00:00:00\",\"2020-02-11T00:00:00\",\"2020-02-12T00:00:00\",\"2020-02-13T00:00:00\",\"2020-02-14T00:00:00\",\"2020-02-15T00:00:00\",\"2020-02-16T00:00:00\",\"2020-02-17T00:00:00\",\"2020-02-18T00:00:00\",\"2020-02-19T00:00:00\",\"2020-02-20T00:00:00\",\"2020-02-21T00:00:00\",\"2020-02-22T00:00:00\",\"2020-02-23T00:00:00\",\"2020-02-24T00:00:00\",\"2020-02-25T00:00:00\",\"2020-02-26T00:00:00\",\"2020-02-27T00:00:00\",\"2020-02-28T00:00:00\",\"2020-02-29T00:00:00\",\"2020-03-01T00:00:00\",\"2020-03-02T00:00:00\",\"2020-03-03T00:00:00\",\"2020-03-04T00:00:00\",\"2020-03-05T00:00:00\",\"2020-03-06T00:00:00\",\"2020-03-07T00:00:00\",\"2020-03-08T00:00:00\",\"2020-03-09T00:00:00\",\"2020-03-10T00:00:00\",\"2020-03-11T00:00:00\",\"2020-03-12T00:00:00\",\"2020-03-13T00:00:00\",\"2020-03-14T00:00:00\",\"2020-03-15T00:00:00\",\"2020-03-16T00:00:00\",\"2020-03-17T00:00:00\",\"2020-03-18T00:00:00\",\"2020-03-19T00:00:00\",\"2020-03-20T00:00:00\",\"2020-03-21T00:00:00\",\"2020-03-22T00:00:00\",\"2020-03-23T00:00:00\",\"2020-03-24T00:00:00\",\"2020-03-25T00:00:00\",\"2020-03-26T00:00:00\",\"2020-03-27T00:00:00\",\"2020-03-28T00:00:00\",\"2020-03-29T00:00:00\",\"2020-03-30T00:00:00\",\"2020-03-31T00:00:00\",\"2020-04-01T00:00:00\",\"2020-04-02T00:00:00\",\"2020-04-03T00:00:00\",\"2020-04-04T00:00:00\",\"2020-04-05T00:00:00\",\"2020-04-06T00:00:00\",\"2020-04-07T00:00:00\",\"2020-04-08T00:00:00\",\"2020-04-09T00:00:00\",\"2020-04-10T00:00:00\",\"2020-04-11T00:00:00\",\"2020-04-12T00:00:00\",\"2020-04-13T00:00:00\",\"2020-04-14T00:00:00\",\"2020-04-15T00:00:00\",\"2020-04-16T00:00:00\",\"2020-04-17T00:00:00\",\"2020-04-18T00:00:00\",\"2020-04-19T00:00:00\",\"2020-04-20T00:00:00\",\"2020-04-21T00:00:00\",\"2020-04-22T00:00:00\",\"2020-04-23T00:00:00\",\"2020-04-24T00:00:00\",\"2020-04-25T00:00:00\",\"2020-04-26T00:00:00\",\"2020-04-27T00:00:00\",\"2020-04-28T00:00:00\",\"2020-04-29T00:00:00\",\"2020-04-30T00:00:00\",\"2020-05-01T00:00:00\",\"2020-05-02T00:00:00\",\"2020-05-03T00:00:00\",\"2020-05-04T00:00:00\",\"2020-05-05T00:00:00\",\"2020-05-06T00:00:00\",\"2020-05-07T00:00:00\",\"2020-05-08T00:00:00\",\"2020-05-09T00:00:00\",\"2020-05-10T00:00:00\",\"2020-05-11T00:00:00\",\"2020-05-12T00:00:00\",\"2020-05-13T00:00:00\",\"2020-05-14T00:00:00\",\"2020-05-15T00:00:00\",\"2020-05-16T00:00:00\",\"2020-05-17T00:00:00\",\"2020-05-18T00:00:00\",\"2020-05-19T00:00:00\",\"2020-05-20T00:00:00\",\"2020-05-21T00:00:00\",\"2020-05-22T00:00:00\",\"2020-05-23T00:00:00\",\"2020-05-24T00:00:00\",\"2020-05-25T00:00:00\",\"2020-05-26T00:00:00\",\"2020-05-27T00:00:00\",\"2020-05-28T00:00:00\",\"2020-05-29T00:00:00\",\"2020-05-30T00:00:00\",\"2020-05-31T00:00:00\",\"2020-06-01T00:00:00\",\"2020-06-02T00:00:00\",\"2020-06-03T00:00:00\",\"2020-06-04T00:00:00\",\"2020-06-05T00:00:00\",\"2020-06-06T00:00:00\",\"2020-06-07T00:00:00\",\"2020-06-08T00:00:00\",\"2020-06-09T00:00:00\",\"2020-06-10T00:00:00\",\"2020-06-11T00:00:00\",\"2020-06-12T00:00:00\",\"2020-06-13T00:00:00\",\"2020-06-14T00:00:00\",\"2020-06-15T00:00:00\",\"2020-06-16T00:00:00\",\"2020-06-17T00:00:00\",\"2020-06-18T00:00:00\",\"2020-06-19T00:00:00\",\"2020-06-20T00:00:00\",\"2020-06-21T00:00:00\",\"2020-06-22T00:00:00\",\"2020-06-23T00:00:00\",\"2020-06-24T00:00:00\",\"2020-06-25T00:00:00\",\"2020-06-26T00:00:00\",\"2020-06-27T00:00:00\",\"2020-06-28T00:00:00\",\"2020-06-29T00:00:00\",\"2020-06-30T00:00:00\",\"2020-07-01T00:00:00\",\"2020-07-02T00:00:00\",\"2020-07-03T00:00:00\",\"2020-07-04T00:00:00\",\"2020-07-05T00:00:00\",\"2020-07-06T00:00:00\",\"2020-07-07T00:00:00\",\"2020-07-08T00:00:00\",\"2020-07-09T00:00:00\",\"2020-07-10T00:00:00\",\"2020-07-11T00:00:00\",\"2020-07-12T00:00:00\",\"2020-07-13T00:00:00\",\"2020-07-14T00:00:00\",\"2020-07-15T00:00:00\",\"2020-07-16T00:00:00\",\"2020-07-17T00:00:00\",\"2020-07-18T00:00:00\",\"2020-07-19T00:00:00\",\"2020-07-20T00:00:00\",\"2020-07-21T00:00:00\",\"2020-07-22T00:00:00\",\"2020-07-23T00:00:00\",\"2020-07-24T00:00:00\",\"2020-07-25T00:00:00\",\"2020-07-26T00:00:00\",\"2020-07-27T00:00:00\",\"2020-07-28T00:00:00\",\"2020-07-29T00:00:00\",\"2020-07-30T00:00:00\",\"2020-07-31T00:00:00\",\"2020-08-01T00:00:00\",\"2020-08-02T00:00:00\",\"2020-08-03T00:00:00\",\"2020-08-04T00:00:00\",\"2020-08-05T00:00:00\",\"2020-08-06T00:00:00\",\"2020-08-07T00:00:00\",\"2020-08-08T00:00:00\",\"2020-08-09T00:00:00\",\"2020-08-10T00:00:00\",\"2020-08-11T00:00:00\",\"2020-08-12T00:00:00\",\"2020-08-13T00:00:00\",\"2020-08-14T00:00:00\",\"2020-08-15T00:00:00\",\"2020-08-16T00:00:00\",\"2020-08-17T00:00:00\",\"2020-08-18T00:00:00\",\"2020-08-19T00:00:00\",\"2020-08-20T00:00:00\",\"2020-08-21T00:00:00\",\"2020-08-22T00:00:00\",\"2020-08-23T00:00:00\",\"2020-08-24T00:00:00\",\"2020-08-25T00:00:00\",\"2020-08-26T00:00:00\",\"2020-08-27T00:00:00\",\"2020-08-28T00:00:00\",\"2020-08-29T00:00:00\",\"2020-08-30T00:00:00\",\"2020-08-31T00:00:00\",\"2020-09-01T00:00:00\",\"2020-09-02T00:00:00\",\"2020-09-03T00:00:00\",\"2020-09-04T00:00:00\",\"2020-09-05T00:00:00\",\"2020-09-06T00:00:00\",\"2020-09-07T00:00:00\",\"2020-09-08T00:00:00\",\"2020-09-09T00:00:00\",\"2020-09-10T00:00:00\",\"2020-09-11T00:00:00\",\"2020-09-12T00:00:00\",\"2020-09-13T00:00:00\",\"2020-09-14T00:00:00\",\"2020-09-15T00:00:00\",\"2020-09-16T00:00:00\",\"2020-09-17T00:00:00\",\"2020-09-18T00:00:00\",\"2020-09-19T00:00:00\",\"2020-09-20T00:00:00\",\"2020-09-21T00:00:00\",\"2020-09-22T00:00:00\",\"2020-09-23T00:00:00\",\"2020-09-24T00:00:00\",\"2020-09-25T00:00:00\",\"2020-09-26T00:00:00\",\"2020-09-27T00:00:00\",\"2020-09-28T00:00:00\",\"2020-09-29T00:00:00\",\"2020-09-30T00:00:00\",\"2020-10-01T00:00:00\",\"2020-10-02T00:00:00\",\"2020-10-03T00:00:00\",\"2020-10-04T00:00:00\",\"2020-10-05T00:00:00\",\"2020-10-06T00:00:00\",\"2020-10-07T00:00:00\",\"2020-10-08T00:00:00\",\"2020-10-09T00:00:00\",\"2020-10-10T00:00:00\",\"2020-10-11T00:00:00\",\"2020-10-12T00:00:00\",\"2020-10-13T00:00:00\",\"2020-10-14T00:00:00\",\"2020-10-15T00:00:00\",\"2020-10-16T00:00:00\",\"2020-10-17T00:00:00\",\"2020-10-18T00:00:00\",\"2020-10-19T00:00:00\",\"2020-10-20T00:00:00\",\"2020-10-21T00:00:00\",\"2020-10-22T00:00:00\",\"2020-10-23T00:00:00\",\"2020-10-24T00:00:00\",\"2020-10-25T00:00:00\",\"2020-10-26T00:00:00\",\"2020-10-27T00:00:00\",\"2020-10-28T00:00:00\",\"2020-10-29T00:00:00\",\"2020-10-30T00:00:00\",\"2020-10-31T00:00:00\",\"2020-11-01T00:00:00\",\"2020-11-02T00:00:00\",\"2020-11-03T00:00:00\",\"2020-11-04T00:00:00\",\"2020-11-05T00:00:00\",\"2020-11-06T00:00:00\",\"2020-11-07T00:00:00\",\"2020-11-08T00:00:00\",\"2020-11-09T00:00:00\",\"2020-11-10T00:00:00\",\"2020-11-11T00:00:00\",\"2020-11-12T00:00:00\",\"2020-11-13T00:00:00\",\"2020-11-14T00:00:00\",\"2020-11-15T00:00:00\",\"2020-11-16T00:00:00\",\"2020-11-17T00:00:00\",\"2020-11-18T00:00:00\",\"2020-11-19T00:00:00\",\"2020-11-20T00:00:00\",\"2020-11-21T00:00:00\",\"2020-11-22T00:00:00\",\"2020-11-23T00:00:00\",\"2020-11-24T00:00:00\",\"2020-11-25T00:00:00\",\"2020-11-26T00:00:00\",\"2020-11-27T00:00:00\",\"2020-11-28T00:00:00\",\"2020-11-29T00:00:00\",\"2020-11-30T00:00:00\",\"2020-12-01T00:00:00\",\"2020-12-02T00:00:00\",\"2020-12-03T00:00:00\",\"2020-12-04T00:00:00\",\"2020-12-05T00:00:00\",\"2020-12-06T00:00:00\",\"2020-12-07T00:00:00\",\"2020-12-08T00:00:00\",\"2020-12-09T00:00:00\",\"2020-12-10T00:00:00\",\"2020-12-11T00:00:00\",\"2020-12-12T00:00:00\",\"2020-12-13T00:00:00\",\"2020-12-14T00:00:00\",\"2020-12-15T00:00:00\",\"2020-12-16T00:00:00\",\"2020-12-17T00:00:00\",\"2020-12-18T00:00:00\",\"2020-12-19T00:00:00\",\"2020-12-20T00:00:00\",\"2020-12-21T00:00:00\",\"2020-12-22T00:00:00\",\"2020-12-23T00:00:00\",\"2020-12-24T00:00:00\",\"2020-12-25T00:00:00\",\"2020-12-26T00:00:00\",\"2020-12-27T00:00:00\",\"2020-12-28T00:00:00\",\"2020-12-29T00:00:00\",\"2020-12-30T00:00:00\",\"2020-12-31T00:00:00\",\"2021-01-01T00:00:00\",\"2021-01-02T00:00:00\",\"2021-01-03T00:00:00\",\"2021-01-04T00:00:00\",\"2021-01-05T00:00:00\",\"2021-01-06T00:00:00\",\"2021-01-07T00:00:00\",\"2021-01-08T00:00:00\",\"2021-01-09T00:00:00\",\"2021-01-10T00:00:00\",\"2021-01-11T00:00:00\",\"2021-01-12T00:00:00\",\"2021-01-13T00:00:00\",\"2021-01-14T00:00:00\",\"2021-01-15T00:00:00\",\"2021-01-16T00:00:00\",\"2021-01-17T00:00:00\",\"2021-01-18T00:00:00\",\"2021-01-19T00:00:00\",\"2021-01-20T00:00:00\",\"2021-01-21T00:00:00\",\"2021-01-22T00:00:00\",\"2021-01-23T00:00:00\",\"2021-01-24T00:00:00\",\"2021-01-25T00:00:00\",\"2021-01-26T00:00:00\",\"2021-01-27T00:00:00\",\"2021-01-28T00:00:00\",\"2021-01-29T00:00:00\",\"2021-01-30T00:00:00\",\"2021-01-31T00:00:00\",\"2021-02-01T00:00:00\",\"2021-02-02T00:00:00\",\"2021-02-03T00:00:00\",\"2021-02-04T00:00:00\",\"2021-02-05T00:00:00\",\"2021-02-06T00:00:00\",\"2021-02-07T00:00:00\",\"2021-02-08T00:00:00\",\"2021-02-09T00:00:00\",\"2021-02-10T00:00:00\",\"2021-02-11T00:00:00\",\"2021-02-12T00:00:00\",\"2021-02-13T00:00:00\",\"2021-02-14T00:00:00\",\"2021-02-15T00:00:00\",\"2021-02-16T00:00:00\",\"2021-02-17T00:00:00\",\"2021-02-18T00:00:00\",\"2021-02-19T00:00:00\",\"2021-02-20T00:00:00\",\"2021-02-21T00:00:00\",\"2021-02-22T00:00:00\",\"2021-02-23T00:00:00\",\"2021-02-24T00:00:00\",\"2021-02-25T00:00:00\",\"2021-02-26T00:00:00\",\"2021-02-27T00:00:00\",\"2021-02-28T00:00:00\",\"2021-03-01T00:00:00\",\"2021-03-02T00:00:00\",\"2021-03-03T00:00:00\",\"2021-03-04T00:00:00\",\"2021-03-05T00:00:00\",\"2021-03-06T00:00:00\",\"2021-03-07T00:00:00\",\"2021-03-08T00:00:00\",\"2021-03-09T00:00:00\",\"2021-03-10T00:00:00\",\"2021-03-11T00:00:00\",\"2021-03-12T00:00:00\",\"2021-03-13T00:00:00\",\"2021-03-14T00:00:00\",\"2021-03-15T00:00:00\",\"2021-03-16T00:00:00\",\"2021-03-17T00:00:00\",\"2021-03-18T00:00:00\",\"2021-03-19T00:00:00\",\"2021-03-20T00:00:00\",\"2021-03-21T00:00:00\",\"2021-03-22T00:00:00\",\"2021-03-23T00:00:00\",\"2021-03-24T00:00:00\",\"2021-03-25T00:00:00\",\"2021-03-26T00:00:00\",\"2021-03-27T00:00:00\",\"2021-03-28T00:00:00\",\"2021-03-29T00:00:00\",\"2021-03-30T00:00:00\",\"2021-03-31T00:00:00\",\"2021-04-01T00:00:00\",\"2021-04-02T00:00:00\",\"2021-04-03T00:00:00\",\"2021-04-04T00:00:00\",\"2021-04-05T00:00:00\",\"2021-04-06T00:00:00\",\"2021-04-07T00:00:00\",\"2021-04-08T00:00:00\",\"2021-04-09T00:00:00\",\"2021-04-10T00:00:00\",\"2021-04-11T00:00:00\",\"2021-04-12T00:00:00\",\"2021-04-13T00:00:00\",\"2021-04-14T00:00:00\",\"2021-04-15T00:00:00\",\"2021-04-16T00:00:00\",\"2021-04-17T00:00:00\",\"2021-04-18T00:00:00\",\"2021-04-19T00:00:00\",\"2021-04-20T00:00:00\",\"2021-04-21T00:00:00\",\"2021-04-22T00:00:00\",\"2021-04-23T00:00:00\",\"2021-04-24T00:00:00\",\"2021-04-25T00:00:00\",\"2021-04-26T00:00:00\",\"2021-04-27T00:00:00\",\"2021-04-28T00:00:00\",\"2021-04-29T00:00:00\",\"2021-04-30T00:00:00\",\"2021-05-01T00:00:00\",\"2021-05-02T00:00:00\",\"2021-05-03T00:00:00\",\"2021-05-04T00:00:00\",\"2021-05-05T00:00:00\",\"2021-05-06T00:00:00\",\"2021-05-07T00:00:00\",\"2021-05-08T00:00:00\",\"2021-05-09T00:00:00\",\"2021-05-10T00:00:00\",\"2021-05-11T00:00:00\",\"2021-05-12T00:00:00\",\"2021-05-13T00:00:00\",\"2021-05-14T00:00:00\",\"2021-05-15T00:00:00\",\"2021-05-16T00:00:00\",\"2021-05-17T00:00:00\",\"2021-05-18T00:00:00\",\"2021-05-19T00:00:00\",\"2021-05-20T00:00:00\",\"2021-05-21T00:00:00\",\"2021-05-22T00:00:00\",\"2021-05-23T00:00:00\",\"2021-05-24T00:00:00\",\"2021-05-25T00:00:00\",\"2021-05-26T00:00:00\",\"2021-05-27T00:00:00\",\"2021-05-28T00:00:00\",\"2021-05-29T00:00:00\",\"2021-05-30T00:00:00\",\"2021-05-31T00:00:00\",\"2021-06-01T00:00:00\",\"2021-06-02T00:00:00\",\"2021-06-03T00:00:00\",\"2021-06-04T00:00:00\",\"2021-06-05T00:00:00\",\"2021-06-06T00:00:00\",\"2021-06-07T00:00:00\",\"2021-06-08T00:00:00\",\"2021-06-09T00:00:00\",\"2021-06-10T00:00:00\",\"2021-06-11T00:00:00\",\"2021-06-12T00:00:00\",\"2021-06-13T00:00:00\",\"2021-06-14T00:00:00\",\"2021-06-15T00:00:00\",\"2021-06-16T00:00:00\",\"2021-06-17T00:00:00\",\"2021-06-18T00:00:00\",\"2021-06-19T00:00:00\",\"2021-06-20T00:00:00\",\"2021-06-21T00:00:00\",\"2021-06-22T00:00:00\",\"2021-06-23T00:00:00\",\"2021-06-24T00:00:00\",\"2021-06-25T00:00:00\",\"2021-06-26T00:00:00\",\"2021-06-27T00:00:00\",\"2021-06-28T00:00:00\",\"2021-06-29T00:00:00\",\"2021-06-30T00:00:00\",\"2021-07-01T00:00:00\",\"2021-07-02T00:00:00\",\"2021-07-03T00:00:00\",\"2021-07-04T00:00:00\",\"2021-07-05T00:00:00\",\"2021-07-06T00:00:00\",\"2021-07-07T00:00:00\",\"2021-07-08T00:00:00\",\"2021-07-09T00:00:00\",\"2021-07-10T00:00:00\",\"2021-07-11T00:00:00\",\"2021-07-12T00:00:00\",\"2021-07-13T00:00:00\",\"2021-07-14T00:00:00\",\"2021-07-15T00:00:00\",\"2021-07-16T00:00:00\",\"2021-07-17T00:00:00\",\"2021-07-18T00:00:00\",\"2021-07-19T00:00:00\",\"2021-07-20T00:00:00\",\"2021-07-21T00:00:00\",\"2021-07-22T00:00:00\",\"2021-07-23T00:00:00\",\"2021-07-24T00:00:00\",\"2021-07-25T00:00:00\",\"2021-07-26T00:00:00\",\"2021-07-27T00:00:00\",\"2021-07-28T00:00:00\",\"2021-07-29T00:00:00\",\"2021-07-30T00:00:00\",\"2021-07-31T00:00:00\",\"2021-08-01T00:00:00\",\"2021-08-02T00:00:00\",\"2021-08-03T00:00:00\",\"2021-08-04T00:00:00\",\"2021-08-05T00:00:00\",\"2021-08-06T00:00:00\",\"2021-08-07T00:00:00\",\"2021-08-08T00:00:00\",\"2021-08-09T00:00:00\",\"2021-08-10T00:00:00\",\"2021-08-11T00:00:00\",\"2021-08-12T00:00:00\",\"2021-08-13T00:00:00\",\"2021-08-14T00:00:00\",\"2021-08-15T00:00:00\",\"2021-08-16T00:00:00\",\"2021-08-17T00:00:00\",\"2021-08-18T00:00:00\",\"2021-08-19T00:00:00\",\"2021-08-20T00:00:00\",\"2021-08-21T00:00:00\",\"2021-08-22T00:00:00\",\"2021-08-23T00:00:00\",\"2021-08-24T00:00:00\",\"2021-08-25T00:00:00\",\"2021-08-26T00:00:00\",\"2021-08-27T00:00:00\",\"2021-08-28T00:00:00\",\"2021-08-29T00:00:00\",\"2021-08-30T00:00:00\",\"2021-08-31T00:00:00\",\"2021-09-01T00:00:00\",\"2021-09-02T00:00:00\",\"2021-09-03T00:00:00\",\"2021-09-04T00:00:00\",\"2021-09-05T00:00:00\",\"2021-09-06T00:00:00\",\"2021-09-07T00:00:00\",\"2021-09-08T00:00:00\",\"2021-09-09T00:00:00\",\"2021-09-10T00:00:00\",\"2021-09-11T00:00:00\",\"2021-09-12T00:00:00\",\"2021-09-13T00:00:00\",\"2021-09-14T00:00:00\",\"2021-09-15T00:00:00\",\"2021-09-16T00:00:00\",\"2021-09-17T00:00:00\",\"2021-09-18T00:00:00\",\"2021-09-19T00:00:00\",\"2021-09-20T00:00:00\",\"2021-09-21T00:00:00\",\"2021-09-22T00:00:00\",\"2021-09-23T00:00:00\",\"2021-09-24T00:00:00\",\"2021-09-25T00:00:00\",\"2021-09-26T00:00:00\",\"2021-09-27T00:00:00\",\"2021-09-28T00:00:00\",\"2021-09-29T00:00:00\",\"2021-09-30T00:00:00\",\"2021-10-01T00:00:00\",\"2021-10-02T00:00:00\",\"2021-10-03T00:00:00\",\"2021-10-04T00:00:00\",\"2021-10-05T00:00:00\",\"2021-10-06T00:00:00\",\"2021-10-07T00:00:00\",\"2021-10-08T00:00:00\",\"2021-10-09T00:00:00\",\"2021-10-10T00:00:00\",\"2021-10-11T00:00:00\",\"2021-10-12T00:00:00\",\"2021-10-13T00:00:00\",\"2021-10-14T00:00:00\",\"2021-10-15T00:00:00\",\"2021-10-16T00:00:00\",\"2021-10-17T00:00:00\",\"2021-10-18T00:00:00\",\"2021-10-19T00:00:00\",\"2021-10-20T00:00:00\",\"2021-10-21T00:00:00\",\"2021-10-22T00:00:00\",\"2021-10-23T00:00:00\",\"2021-10-24T00:00:00\",\"2021-10-25T00:00:00\",\"2021-10-26T00:00:00\",\"2021-10-27T00:00:00\",\"2021-10-28T00:00:00\",\"2021-10-29T00:00:00\",\"2021-10-30T00:00:00\",\"2021-10-31T00:00:00\",\"2021-11-01T00:00:00\",\"2021-11-02T00:00:00\",\"2021-11-03T00:00:00\",\"2021-11-04T00:00:00\",\"2021-11-05T00:00:00\",\"2021-11-06T00:00:00\",\"2021-11-07T00:00:00\",\"2021-11-08T00:00:00\",\"2021-11-09T00:00:00\",\"2021-11-10T00:00:00\",\"2021-11-11T00:00:00\",\"2021-11-12T00:00:00\",\"2021-11-13T00:00:00\",\"2021-11-14T00:00:00\",\"2021-11-15T00:00:00\",\"2021-11-16T00:00:00\",\"2021-11-17T00:00:00\",\"2021-11-18T00:00:00\",\"2021-11-19T00:00:00\",\"2021-11-20T00:00:00\",\"2021-11-21T00:00:00\",\"2021-11-22T00:00:00\",\"2021-11-23T00:00:00\",\"2021-11-24T00:00:00\",\"2021-11-25T00:00:00\",\"2021-11-26T00:00:00\",\"2021-11-27T00:00:00\",\"2021-11-28T00:00:00\",\"2021-11-29T00:00:00\",\"2021-11-30T00:00:00\",\"2021-12-01T00:00:00\",\"2021-12-02T00:00:00\",\"2021-12-03T00:00:00\",\"2021-12-04T00:00:00\",\"2021-12-05T00:00:00\",\"2021-12-06T00:00:00\",\"2021-12-07T00:00:00\",\"2021-12-08T00:00:00\",\"2021-12-09T00:00:00\",\"2021-12-10T00:00:00\",\"2021-12-11T00:00:00\",\"2021-12-12T00:00:00\",\"2021-12-13T00:00:00\",\"2021-12-14T00:00:00\",\"2021-12-15T00:00:00\",\"2021-12-16T00:00:00\",\"2021-12-17T00:00:00\",\"2021-12-18T00:00:00\",\"2021-12-19T00:00:00\",\"2021-12-20T00:00:00\",\"2021-12-21T00:00:00\",\"2021-12-22T00:00:00\",\"2021-12-23T00:00:00\",\"2021-12-24T00:00:00\",\"2021-12-25T00:00:00\",\"2021-12-26T00:00:00\",\"2021-12-27T00:00:00\",\"2021-12-28T00:00:00\",\"2021-12-29T00:00:00\",\"2021-12-30T00:00:00\",\"2021-12-31T00:00:00\",\"2022-01-01T00:00:00\",\"2022-01-02T00:00:00\",\"2022-01-03T00:00:00\",\"2022-01-04T00:00:00\",\"2022-01-05T00:00:00\",\"2022-01-06T00:00:00\",\"2022-01-07T00:00:00\",\"2022-01-08T00:00:00\",\"2022-01-09T00:00:00\",\"2022-01-10T00:00:00\",\"2022-01-11T00:00:00\",\"2022-01-12T00:00:00\",\"2022-01-13T00:00:00\",\"2022-01-14T00:00:00\",\"2022-01-15T00:00:00\",\"2022-01-16T00:00:00\",\"2022-01-17T00:00:00\",\"2022-01-18T00:00:00\",\"2022-01-19T00:00:00\",\"2022-01-20T00:00:00\",\"2022-01-21T00:00:00\",\"2022-01-22T00:00:00\",\"2022-01-23T00:00:00\",\"2022-01-24T00:00:00\",\"2022-01-25T00:00:00\",\"2022-01-26T00:00:00\",\"2022-01-27T00:00:00\",\"2022-01-28T00:00:00\",\"2022-01-29T00:00:00\",\"2022-01-30T00:00:00\",\"2022-01-31T00:00:00\",\"2022-02-01T00:00:00\",\"2022-02-02T00:00:00\",\"2022-02-03T00:00:00\",\"2022-02-04T00:00:00\",\"2022-02-05T00:00:00\",\"2022-02-06T00:00:00\",\"2022-02-07T00:00:00\",\"2022-02-08T00:00:00\",\"2022-02-09T00:00:00\",\"2022-02-10T00:00:00\",\"2022-02-11T00:00:00\",\"2022-02-12T00:00:00\",\"2022-02-13T00:00:00\",\"2022-02-14T00:00:00\",\"2022-02-15T00:00:00\",\"2022-02-16T00:00:00\",\"2022-02-17T00:00:00\",\"2022-02-18T00:00:00\",\"2022-02-19T00:00:00\",\"2022-02-20T00:00:00\",\"2022-02-21T00:00:00\",\"2022-02-22T00:00:00\",\"2022-02-23T00:00:00\",\"2022-02-24T00:00:00\",\"2022-02-25T00:00:00\",\"2022-02-26T00:00:00\",\"2022-02-27T00:00:00\",\"2022-02-28T00:00:00\",\"2022-03-01T00:00:00\",\"2022-03-02T00:00:00\",\"2022-03-03T00:00:00\",\"2022-03-04T00:00:00\",\"2022-03-05T00:00:00\",\"2022-03-06T00:00:00\",\"2022-03-07T00:00:00\",\"2022-03-08T00:00:00\",\"2022-03-09T00:00:00\",\"2022-03-10T00:00:00\",\"2022-03-11T00:00:00\",\"2022-03-12T00:00:00\",\"2022-03-13T00:00:00\",\"2022-03-14T00:00:00\",\"2022-03-15T00:00:00\",\"2022-03-16T00:00:00\",\"2022-03-17T00:00:00\",\"2022-03-18T00:00:00\",\"2022-03-19T00:00:00\",\"2022-03-20T00:00:00\",\"2022-03-21T00:00:00\",\"2022-03-22T00:00:00\",\"2022-03-23T00:00:00\",\"2022-03-24T00:00:00\",\"2022-03-25T00:00:00\",\"2022-03-26T00:00:00\",\"2022-03-27T00:00:00\",\"2022-03-28T00:00:00\",\"2022-03-29T00:00:00\",\"2022-03-30T00:00:00\",\"2022-03-31T00:00:00\",\"2022-04-01T00:00:00\",\"2022-04-02T00:00:00\",\"2022-04-03T00:00:00\",\"2022-04-04T00:00:00\",\"2022-04-05T00:00:00\",\"2022-04-06T00:00:00\",\"2022-04-07T00:00:00\",\"2022-04-08T00:00:00\",\"2022-04-09T00:00:00\",\"2022-04-10T00:00:00\",\"2022-04-11T00:00:00\",\"2022-04-12T00:00:00\",\"2022-04-13T00:00:00\",\"2022-04-14T00:00:00\",\"2022-04-15T00:00:00\",\"2022-04-16T00:00:00\",\"2022-04-17T00:00:00\",\"2022-04-18T00:00:00\",\"2022-04-19T00:00:00\",\"2022-04-20T00:00:00\",\"2022-04-21T00:00:00\",\"2022-04-22T00:00:00\",\"2022-04-23T00:00:00\",\"2022-04-24T00:00:00\",\"2022-04-25T00:00:00\",\"2022-04-26T00:00:00\",\"2022-04-27T00:00:00\",\"2022-04-28T00:00:00\",\"2022-04-29T00:00:00\",\"2022-04-30T00:00:00\",\"2022-05-01T00:00:00\",\"2022-05-02T00:00:00\",\"2022-05-03T00:00:00\",\"2022-05-04T00:00:00\",\"2022-05-05T00:00:00\",\"2022-05-06T00:00:00\",\"2022-05-07T00:00:00\",\"2022-05-08T00:00:00\",\"2022-05-09T00:00:00\",\"2022-05-10T00:00:00\",\"2022-05-11T00:00:00\",\"2022-05-12T00:00:00\",\"2022-05-13T00:00:00\",\"2022-05-14T00:00:00\"],\"y\":[3.0352119521741773e-09,3.0352119521741773e-09,6.070423904348355e-09,6.070423904348355e-09,1.517605976087089e-08,1.517605976087089e-08,1.517605976087089e-08,1.8211271713045064e-08,1.8211271713045064e-08,2.428169561739342e-08,2.428169561739342e-08,2.428169561739342e-08,3.338733147391595e-08,3.338733147391595e-08,3.338733147391595e-08,3.642254342609013e-08,3.642254342609013e-08,3.642254342609013e-08,3.642254342609013e-08,3.642254342609013e-08,3.945775537826431e-08,3.945775537826431e-08,4.2492967330438486e-08,4.2492967330438486e-08,4.2492967330438486e-08,4.2492967330438486e-08,4.2492967330438486e-08,4.2492967330438486e-08,4.2492967330438486e-08,4.2492967330438486e-08,4.856339123478684e-08,4.856339123478684e-08,4.856339123478684e-08,4.856339123478684e-08,4.856339123478684e-08,4.856339123478684e-08,5.1598603186961017e-08,5.1598603186961017e-08,7.588029880435444e-08,9.712678246957368e-08,1.6693665736957975e-07,2.2460568446088914e-07,3.24767678882637e-07,5.584789992000486e-07,7.1934523266528e-07,1.2231904167261935e-06,1.575275003178398e-06,1.8029158995914614e-06,2.373535746600207e-06,3.4813881091437815e-06,4.813846156148246e-06,6.7351353218744995e-06,9.0388611935747e-06,9.749100790383458e-06,1.4201756724222977e-05,1.9765300232558244e-05,2.7829858389485032e-05,4.147010090255579e-05,6.079529540204877e-05,7.899139105533296e-05,0.00010606244645677445,0.00013991113014742089,0.0001721390106556063,0.00020894702599962256,0.0002630375381993186,0.0003194651636021887,0.00038673760131017717,0.00043568646446289015,0.0005029285500513568,0.0005830004765616638,0.000677626244382646,0.0007755907453510198,0.0008739346478134153,0.000970590972430402,0.0010593405699119748,0.0011558056761759746,0.0012469713023714783,0.0013412540912418646,0.0014493379888587871,0.0015533941602151745,0.0016411846307198604,0.0017210349867576586,0.0018034197447755224,0.0018894012289567125,0.001968004112882167,0.0020579617247207054,0.0021584484868213357,0.002241397794262304,0.002318558952510476,0.002409870268879684,0.0024890134205326256,0.002579708588875542,0.00267672913892679,0.002773749688978037,0.0028675802312675496,0.002946407720877465,0.0030212256954985587,0.0030958099587993348,0.003177311470139116,0.0032674633355425932,0.0033733679509778546,0.003454602363665844,0.003526637048926794,0.003598881163812444,0.0036717839196917157,0.0037460919787048437,0.0038302857230462033,0.003912791889542154,0.003987014962620621,0.004043913045876079,0.004101815784287705,0.004172785110153442,0.004233534877376208,0.004312116514817998,0.004387544567041478,0.004460541414491267,0.004517387899143537,0.004585097407372639,0.004647328358028066,0.004716610106048394,0.0047929517570694784,0.004865274787465884,0.004926552681568329,0.0049877850474914906,0.005045739384506305,0.005102576763522718,0.005159526445381362,0.005224076297968251,0.005300205484152684,0.005370258176008863,0.005427681350932047,0.005481829532158834,0.005542806940278013,0.005600949460433862,0.005685735071105895,0.005765983039909428,0.005827503750968047,0.005881609439227504,0.005932901486007295,0.005994580028087427,0.006060498761264745,0.006128117213135282,0.0062056911602089496,0.006279012775337621,0.006336381316445665,0.00640011773222937,0.006474629150443294,0.006556731633749606,0.006642406561523626,0.006736662033486444,0.006833260689076338,0.006911678425072711,0.007002130776459454,0.007119681500155207,0.007229710968633473,0.007348991763141966,0.007497859803760253,0.00762155683165916,0.007751843304706236,0.007877185417483222,0.008028408782576395,0.008177507499303047,0.008344271149591354,0.008500599741188084,0.008640052554330726,0.00880312842209714,0.00893414334601274,0.009107848526035666,0.009290890018023483,0.009471958622242385,0.009680960282057147,0.009864405457234602,0.010046918822342741,0.010227101144671609,0.010426399231875268,0.010626802136229522,0.010841737635410784,0.011043494244295706,0.011238725147483452,0.011417596258248982,0.011601721320903724,0.01180870456477029,0.012013717956079894,0.012219766354665191,0.012447853427235223,0.012642714034564805,0.012812197234762259,0.01299347223339391,0.013190245024253361,0.013384887096322387,0.01359504820710288,0.01379105005412648,0.013965811487908764,0.014108797287763737,0.014235317062778165,0.01442245912611337,0.014587416825290132,0.014770075880571974,0.01495397026711835,0.015148020472856702,0.015312732319865338,0.015469400855200712,0.01564227135193679,0.015809948601022705,0.015966735509624214,0.016179579747770425,0.016338612713216544,0.016443819229902807,0.016558698967080645,0.01669498605415717,0.01683425371937073,0.016971226764348448,0.01711567553636437,0.01725430277185602,0.01735115942046185,0.017454122915515454,0.017583644515150584,0.017711344987614407,0.017864677825014344,0.01800572412443188,0.01813654782999449,0.018240142649134147,0.01834140339028258,0.018468815517610947,0.01859010562243178,0.018727118125164876,0.01887382205966126,0.019006227110650954,0.019094609447486314,0.01916916335866757,0.019250337067116517,0.019352435526763752,0.019472168567853117,0.019607608830794987,0.019745962897210943,0.01986825462197599,0.019967096299198545,0.020079939409156474,0.020196163745229128,0.02033371651568971,0.02048603862750957,0.020624981525044248,0.020751276694374217,0.020848533990957735,0.02096469458757939,0.021089502503052793,0.021237872768910922,0.02138094355470056,0.021513117929581885,0.02161564435411438,0.02173019021797748,0.021857769281963216,0.02197502559009961,0.022115385931615952,0.022277596763975997,0.02242717200897914,0.022527731616166623,0.022641118029063993,0.022776321545473592,0.022925462755167575,0.023101171175078938,0.02326834761419274,0.023436398194348767,0.023578749634905735,0.023706471353853224,0.02385860528253205,0.024035989139441015,0.024228837401246307,0.024441830364778178,0.024608257106539792,0.02476660411408472,0.024972640371822206,0.02516002221690163,0.025344277793670315,0.025585944404514376,0.02583379981252892,0.026071687584492523,0.026256759633276342,0.026452725057756518,0.026687113230339263,0.026949586219115477,0.027226676788653363,0.027529739666866,0.02779484418440475,0.028031074730642466,0.02827937631481398,0.028658067569238943,0.028962383989987833,0.02935113697203425,0.029736778861829693,0.030122445033320754,0.030485680988485246,0.03084066723756373,0.03125513453526897,0.031703383742001906,0.03218536325915936,0.032730235403177814,0.033228161923931986,0.03365222656183,0.03411687805395249,0.034616616596242114,0.0351385819956575,0.03572225628927255,0.03633435534281971,0.03688014108563577,0.03732506370006912,0.037875988056720204,0.03840278247835151,0.03894976105946477,0.03930563662564524,0.039957102378212095,0.040467694838442696,0.040893668624658625,0.04136386241380578,0.0419621482177586,0.04255753842950904,0.0432259679816766,0.043940371889283736,0.04461421018915007,0.045158505642897605,0.04575176817106957,0.046440925185658524,0.047096552213811815,0.047815718368971916,0.04854084568040609,0.04922235396087556,0.04980389146527628,0.050440776059624895,0.0511276961230051,0.05184037906543536,0.05256958266652129,0.05332214829400312,0.053946949709570126,0.054515126210957374,0.05511264107107434,0.05573768833880947,0.05640979960307501,0.0570561419178666,0.05744214499788435,0.0581021214847651,0.05851478586657075,0.059040797203518396,0.05966595980930771,0.06032853747283148,0.06128489330120618,0.06182789878987405,0.06265433540584789,0.0632716914464962,0.06383474147489623,0.06454153003571537,0.06532996883325995,0.06619877093766223,0.06712167569511203,0.06792521770733062,0.06856517393617483,0.06918423576594028,0.06985747916426398,0.07055355342689194,0.07126857348252537,0.07201218826996024,0.07267290534855732,0.07320879326519733,0.07363624216442202,0.07411247602535401,0.07468123528743607,0.07526567445446307,0.07584775222659128,0.0763885571865938,0.0768139239304193,0.07720729043463304,0.07766563475631891,0.0781374766655561,0.07864364075154846,0.07914063242702137,0.0795987703542945,0.07994132134000492,0.08032167285536772,0.08067688674534262,0.08105438212625843,0.08143387771185072,0.08183182738611222,0.0821865222548433,0.08245795822451428,0.08270927377415431,0.08299877532536463,0.08328797639059168,0.08361205204114923,0.08391733972972282,0.08419281253129018,0.0844001417893193,0.08456844429206736,0.08474819561429903,0.08495715478114645,0.08517745046463525,0.08540557092453677,0.08562951796800403,0.08579725895654093,0.08596566162128341,0.08618983934085904,0.08641755611757092,0.08665211426202299,0.08688102994745596,0.08709741020752645,0.0872545249190188,0.08740761797467451,0.08758492595128467,0.08778844298310186,0.08799770263593255,0.08820373282324613,0.08838897484389928,0.08851527001322924,0.0886490985786245,0.08881756194760604,0.08899291221250703,0.08918046402945579,0.0893704804385097,0.08954294118163224,0.08966214913105387,0.08981705117303308,0.08998115597765129,0.09016106816611641,0.09035043503981256,0.09053750122284895,0.09071617504483759,0.0908235547732816,0.09096749666490152,0.09112793189826954,0.09139429299355649,0.09159955830745813,0.09183136047945763,0.09202578098105414,0.09216637199867884,0.09236630748039246,0.09255354970572209,0.0927645910279687,0.09299786831297696,0.09322254987773665,0.09341947442919371,0.09353457573684407,0.09373819900107958,0.09392888922718687,0.09415888544807482,0.09440190272823759,0.09465914604682021,0.09487323472186682,0.09501727374026919,0.09520601232509124,0.09545138189451696,0.09568085605894913,0.09590540710959489,0.09615876535687871,0.09632718319768097,0.09646021653754476,0.0966379190917087,0.09682743772600245,0.097022744509489,0.09722524778051415,0.09741614743624616,0.09758299910768108,0.09768853039204621,0.0978168803998678,0.09797556735115137,0.09814306855794407,0.09832161490103071,0.09849796982108788,0.09864601531926713,0.09873875925567777,0.09887419648340769,0.09900439190009619,0.09914414216401014,0.0992843052167496,0.09943125500341411,0.09953947548556888,0.09960889078291511,0.0997071588050787,0.09981484205471794,0.09992456800200099,0.1000421399721804,0.10017027751516534,0.10026363456439032,0.10031733353424818,0.10039394531913301,0.10048171150794208,0.10057156895778618,0.10066328395734504,0.10075077394186646,0.10081515989300793,0.1008569972545567,0.10092338341037466,0.10099802230749057,0.10107267638066625,0.1011541475398865,0.10122165672412677,0.10126205843042214,0.10128437937911844,0.10130342533411833,0.10136671860895702,0.10141744914152566,0.1014732818653859,0.1015275059269115,0.10157486737421322,0.1015931272093175,0.1016358326414846,0.101675408770129,0.1017317574800211,0.10177662094788618,0.10185295956369532,0.10188076210517724,0.1018967576721652,0.10193253068023352,0.1019650954692684,0.10200123573798293,0.10203693893617637,0.10210123079574732,0.1021287055343384,0.10214364181235504,0.10217567543929829,0.102208440552322,0.1022468815116963,0.10229081620470402,0.1023654884891514,0.10239392842514328,0.10240795717478623,0.10244930283199874,0.10247199104134125,0.10251858761523103,0.1025644800199479,0.10265479578679679,0.10267122842430586,0.10268423430752092,0.10271125376431918,0.10277888132182558,0.1028401227933846,0.10290344642034281,0.10304790429799458,0.10307861760773863,0.10311427224254083,0.1032035803190216,0.10328410449211278,0.1033785754641242,0.10347558690853959,0.10371266731412392,0.10375546987307348,0.10381717269684923,0.10396542155422926,0.10408600141945329,0.10423087815635447,0.10440245261758697,0.10476911229183351,0.10485635642418681,0.10494125737291303,0.10518217125119295,0.10537943878160061,0.10560274843055792,0.10582297733938377,0.10640405956199166,0.1065372810849965,0.10667255744649294,0.10700145908405444,0.10729816015801531,0.10760908727039604,0.1079420348454898,0.10870659563060661,0.10889782915965335,0.10900368217648541,0.10948868172953528,0.10984622059186554,0.11031498479618322,0.11075229509904053,0.11144075401488049,0.11166252784658999,0.11180453934340832,0.11239446313843289,0.11285152660067495,0.1133602554407669,0.11383138103998339,0.11455702130223748,0.11483685266816818,0.11497101814209013,0.11560303425646745,0.11607186827066003,0.11661508622416455,0.11717287015982755,0.11789730240772468,0.1181367502786317,0.11829462075790013,0.11899035507678946,0.1195365475380071,0.12011480397828751,0.12065851970655218,0.12137314214941988,0.12163389417301922,0.12182664530804203,0.12211117214686275,0.12274606564217073,0.12328304319990158,0.12378816924340631,0.12452275427528346,0.12479328878700464,0.12494004128489226,0.12557980326017154,0.12602113218365352,0.1265469826543677,0.12702893181940564,0.12766892447079325,0.12789648038127166,0.12803267641198962,0.12855413796622095,0.12892364466927864,0.12932233190004452,0.12971437201663516,0.1302448329743047,0.13042844812135146,0.13059331172895772,0.13106663178641562,0.1314088488988113,0.13177727810162596,0.13211234121945037,0.13258226790994573,0.13272857726688833,0.13286448495247083,0.13329828047988754,0.13358731764366916,0.13392779254440432,0.13423594547306075,0.13463482088696765,0.13475267209664668,0.13487307591957748,0.13516465052055116,0.13550037227936917,0.1358295592268542,0.13609347090609572,0.13642577805146755,0.1365465339589848,0.1366426196637548,0.13694296299205827,0.13719158023827283,0.13746965421648322,0.13770666177698068,0.13799789339900376,0.13809629193528128,0.1381544799836164,0.13849615986349656,0.13869846584574483,0.13900978146525542,0.13923771981243982,0.1395263866803633,0.13963047016862723,0.13972858035976932,0.14007233632462476,0.14028097679421722,0.14054077272605162,0.1407879573522247,0.14108194798191231,0.1411877554705651,0.14129953929155173,0.14163569205046697,0.14187353429425129,0.14216208885933254,0.14233705061710367,0.14277262174351238,0.14290602537923433,0.14300288506305212,0.1434097339787574,0.14367461692582364,0.14401711327771893,0.14435048881769794,0.14473556008764635,0.144873237301797,0.14499413586427598,0.14543308518158746,0.1457103426877827,0.1460489994965585,0.14616834099530604,0.14633048505300314,0.1464110365430019,0.14654200290352626,0.14710745378458043,0.1474628983506637,0.14787904715579045,0.14830048330013787,0.1487819255847798,0.14898328761611093,0.14915077971726776,0.14969010349383763,0.1500338776699648,0.15048888022329132,0.15086684909727166,0.15134702873374148,0.15151878227247914,0.15167754206884956,0.15224053746343447,0.15258964754217352,0.15302559807007626,0.15345576348399814,0.15404051527785623,0.15428259771273772,0.15455333558365972,0.15528191089587154,0.1558264097088199,0.15656619102355915,0.1573849364124462,0.15813921996989294,0.1584022241207608,0.15894364522878962,0.16046292360666237,0.16156154892487132,0.1630853801206723,0.1648781341306479,0.166436800454024,0.16700961779448611,0.16787743952542786,0.17104902051540127,0.17351409825447905,0.17552513863763108,0.17805961042757143,0.18069941924831198,0.18190646537266456,0.18337859173286025,0.18757900941262629,0.18996889584601287,0.19254462223680716,0.19515899294617653,0.19783016461201888,0.1990694477225155,0.2005257090298372,0.20257469866802727,0.20600300092012755,0.20875924350656544,0.2109828731700597,0.2135357019218868,0.21445382622051193,0.21556301407631445,0.21836165553851228,0.219858594756417,0.2217526793174159,0.22328934642456266,0.22515316081676254,0.22569532555171964,0.22629617003934815,0.22794198640350702,0.22892967776007597,0.2299298408025564,0.23076393222307365,0.23184131105761738,0.23210362318016015,0.23235696625138422,0.23340847900967154,0.23405905848034836,0.23463090758819774,0.2351511854097677,0.23578649472911314,0.23594392206743656,0.23612092348763955,0.2366374467520247,0.23697485608868815,0.23732337430109654,0.23763202500451314,0.2380726558292461,0.23816798576624001,0.23823780171156392,0.23848937525421987,0.23876055019566297,0.23901897117648302,0.23922255498296316,0.23944828976627025,0.2395921982705587,0.2396474998323273,0.23994773692821247,0.24008950864328657,0.24025160110238047,0.24039913668495178,0.2405547155791963,0.2405999979063108,0.2406376254288819,0.24083214002204895,0.24092244971847393,0.24103687720907088,0.24117824524095535,0.24132912562709793,0.2413601363876133,0.24139367547968482,0.2415010703841886,0.24157505974594676,0.24171507407330053,0.24187645629279764,0.24197162232834613,0.24200464239917382,0.2420393895056023,0.24216769095003265,0.24224224182600196,0.24236672800900844,0.2424972178412563,0.24263815790825552,0.24266678906260036,0.2427025742115165,0.2428208594565047,0.24289424481108435,0.24301317048579443,0.24315169148886778,0.24324947084190707,0.2432853136598503,0.24329974609268287,0.24338748799979631,0.24346519246098394,0.2435894752847896,0.24373330487356729,0.24396101557985525,0.24399959919419129,0.24402853690494333,0.2441509925311538,0.24425948618238424,0.24442757925550762,0.24457618323268607,0.2446837511442711,0.24472116620200557,0.24474393939728273,0.24493030444635816,0.24504946990281248,0.2452586961683117,0.24543942482879197,0.24571276387635696,0.24577260004478213,0.2458134722089301,0.24602648338373367,0.24616393295698788,0.2464370443636565,0.24666300982307193,0.2468484278860183,0.2469208662544689,0.2469595652068591,0.2472431238130671,0.247389858099683,0.24773619702990973,0.24800064897687876,0.24837627466723203,0.248457891516626,0.24847300990735977,0.24880743563067423,0.24906900412628868,0.24956476047049705,0.2498759091533503,0.250167098282406,0.2502159409131404],\"type\":\"scatter\"}],                        {\"template\":{\"data\":{\"bar\":[{\"error_x\":{\"color\":\"#2a3f5f\"},\"error_y\":{\"color\":\"#2a3f5f\"},\"marker\":{\"line\":{\"color\":\"#E5ECF6\",\"width\":0.5},\"pattern\":{\"fillmode\":\"overlay\",\"size\":10,\"solidity\":0.2}},\"type\":\"bar\"}],\"barpolar\":[{\"marker\":{\"line\":{\"color\":\"#E5ECF6\",\"width\":0.5},\"pattern\":{\"fillmode\":\"overlay\",\"size\":10,\"solidity\":0.2}},\"type\":\"barpolar\"}],\"carpet\":[{\"aaxis\":{\"endlinecolor\":\"#2a3f5f\",\"gridcolor\":\"white\",\"linecolor\":\"white\",\"minorgridcolor\":\"white\",\"startlinecolor\":\"#2a3f5f\"},\"baxis\":{\"endlinecolor\":\"#2a3f5f\",\"gridcolor\":\"white\",\"linecolor\":\"white\",\"minorgridcolor\":\"white\",\"startlinecolor\":\"#2a3f5f\"},\"type\":\"carpet\"}],\"choropleth\":[{\"colorbar\":{\"outlinewidth\":0,\"ticks\":\"\"},\"type\":\"choropleth\"}],\"contour\":[{\"colorbar\":{\"outlinewidth\":0,\"ticks\":\"\"},\"colorscale\":[[0.0,\"#0d0887\"],[0.1111111111111111,\"#46039f\"],[0.2222222222222222,\"#7201a8\"],[0.3333333333333333,\"#9c179e\"],[0.4444444444444444,\"#bd3786\"],[0.5555555555555556,\"#d8576b\"],[0.6666666666666666,\"#ed7953\"],[0.7777777777777778,\"#fb9f3a\"],[0.8888888888888888,\"#fdca26\"],[1.0,\"#f0f921\"]],\"type\":\"contour\"}],\"contourcarpet\":[{\"colorbar\":{\"outlinewidth\":0,\"ticks\":\"\"},\"type\":\"contourcarpet\"}],\"heatmap\":[{\"colorbar\":{\"outlinewidth\":0,\"ticks\":\"\"},\"colorscale\":[[0.0,\"#0d0887\"],[0.1111111111111111,\"#46039f\"],[0.2222222222222222,\"#7201a8\"],[0.3333333333333333,\"#9c179e\"],[0.4444444444444444,\"#bd3786\"],[0.5555555555555556,\"#d8576b\"],[0.6666666666666666,\"#ed7953\"],[0.7777777777777778,\"#fb9f3a\"],[0.8888888888888888,\"#fdca26\"],[1.0,\"#f0f921\"]],\"type\":\"heatmap\"}],\"heatmapgl\":[{\"colorbar\":{\"outlinewidth\":0,\"ticks\":\"\"},\"colorscale\":[[0.0,\"#0d0887\"],[0.1111111111111111,\"#46039f\"],[0.2222222222222222,\"#7201a8\"],[0.3333333333333333,\"#9c179e\"],[0.4444444444444444,\"#bd3786\"],[0.5555555555555556,\"#d8576b\"],[0.6666666666666666,\"#ed7953\"],[0.7777777777777778,\"#fb9f3a\"],[0.8888888888888888,\"#fdca26\"],[1.0,\"#f0f921\"]],\"type\":\"heatmapgl\"}],\"histogram\":[{\"marker\":{\"pattern\":{\"fillmode\":\"overlay\",\"size\":10,\"solidity\":0.2}},\"type\":\"histogram\"}],\"histogram2d\":[{\"colorbar\":{\"outlinewidth\":0,\"ticks\":\"\"},\"colorscale\":[[0.0,\"#0d0887\"],[0.1111111111111111,\"#46039f\"],[0.2222222222222222,\"#7201a8\"],[0.3333333333333333,\"#9c179e\"],[0.4444444444444444,\"#bd3786\"],[0.5555555555555556,\"#d8576b\"],[0.6666666666666666,\"#ed7953\"],[0.7777777777777778,\"#fb9f3a\"],[0.8888888888888888,\"#fdca26\"],[1.0,\"#f0f921\"]],\"type\":\"histogram2d\"}],\"histogram2dcontour\":[{\"colorbar\":{\"outlinewidth\":0,\"ticks\":\"\"},\"colorscale\":[[0.0,\"#0d0887\"],[0.1111111111111111,\"#46039f\"],[0.2222222222222222,\"#7201a8\"],[0.3333333333333333,\"#9c179e\"],[0.4444444444444444,\"#bd3786\"],[0.5555555555555556,\"#d8576b\"],[0.6666666666666666,\"#ed7953\"],[0.7777777777777778,\"#fb9f3a\"],[0.8888888888888888,\"#fdca26\"],[1.0,\"#f0f921\"]],\"type\":\"histogram2dcontour\"}],\"mesh3d\":[{\"colorbar\":{\"outlinewidth\":0,\"ticks\":\"\"},\"type\":\"mesh3d\"}],\"parcoords\":[{\"line\":{\"colorbar\":{\"outlinewidth\":0,\"ticks\":\"\"}},\"type\":\"parcoords\"}],\"pie\":[{\"automargin\":true,\"type\":\"pie\"}],\"scatter\":[{\"marker\":{\"colorbar\":{\"outlinewidth\":0,\"ticks\":\"\"}},\"type\":\"scatter\"}],\"scatter3d\":[{\"line\":{\"colorbar\":{\"outlinewidth\":0,\"ticks\":\"\"}},\"marker\":{\"colorbar\":{\"outlinewidth\":0,\"ticks\":\"\"}},\"type\":\"scatter3d\"}],\"scattercarpet\":[{\"marker\":{\"colorbar\":{\"outlinewidth\":0,\"ticks\":\"\"}},\"type\":\"scattercarpet\"}],\"scattergeo\":[{\"marker\":{\"colorbar\":{\"outlinewidth\":0,\"ticks\":\"\"}},\"type\":\"scattergeo\"}],\"scattergl\":[{\"marker\":{\"colorbar\":{\"outlinewidth\":0,\"ticks\":\"\"}},\"type\":\"scattergl\"}],\"scattermapbox\":[{\"marker\":{\"colorbar\":{\"outlinewidth\":0,\"ticks\":\"\"}},\"type\":\"scattermapbox\"}],\"scatterpolar\":[{\"marker\":{\"colorbar\":{\"outlinewidth\":0,\"ticks\":\"\"}},\"type\":\"scatterpolar\"}],\"scatterpolargl\":[{\"marker\":{\"colorbar\":{\"outlinewidth\":0,\"ticks\":\"\"}},\"type\":\"scatterpolargl\"}],\"scatterternary\":[{\"marker\":{\"colorbar\":{\"outlinewidth\":0,\"ticks\":\"\"}},\"type\":\"scatterternary\"}],\"surface\":[{\"colorbar\":{\"outlinewidth\":0,\"ticks\":\"\"},\"colorscale\":[[0.0,\"#0d0887\"],[0.1111111111111111,\"#46039f\"],[0.2222222222222222,\"#7201a8\"],[0.3333333333333333,\"#9c179e\"],[0.4444444444444444,\"#bd3786\"],[0.5555555555555556,\"#d8576b\"],[0.6666666666666666,\"#ed7953\"],[0.7777777777777778,\"#fb9f3a\"],[0.8888888888888888,\"#fdca26\"],[1.0,\"#f0f921\"]],\"type\":\"surface\"}],\"table\":[{\"cells\":{\"fill\":{\"color\":\"#EBF0F8\"},\"line\":{\"color\":\"white\"}},\"header\":{\"fill\":{\"color\":\"#C8D4E3\"},\"line\":{\"color\":\"white\"}},\"type\":\"table\"}]},\"layout\":{\"annotationdefaults\":{\"arrowcolor\":\"#2a3f5f\",\"arrowhead\":0,\"arrowwidth\":1},\"autotypenumbers\":\"strict\",\"coloraxis\":{\"colorbar\":{\"outlinewidth\":0,\"ticks\":\"\"}},\"colorscale\":{\"diverging\":[[0,\"#8e0152\"],[0.1,\"#c51b7d\"],[0.2,\"#de77ae\"],[0.3,\"#f1b6da\"],[0.4,\"#fde0ef\"],[0.5,\"#f7f7f7\"],[0.6,\"#e6f5d0\"],[0.7,\"#b8e186\"],[0.8,\"#7fbc41\"],[0.9,\"#4d9221\"],[1,\"#276419\"]],\"sequential\":[[0.0,\"#0d0887\"],[0.1111111111111111,\"#46039f\"],[0.2222222222222222,\"#7201a8\"],[0.3333333333333333,\"#9c179e\"],[0.4444444444444444,\"#bd3786\"],[0.5555555555555556,\"#d8576b\"],[0.6666666666666666,\"#ed7953\"],[0.7777777777777778,\"#fb9f3a\"],[0.8888888888888888,\"#fdca26\"],[1.0,\"#f0f921\"]],\"sequentialminus\":[[0.0,\"#0d0887\"],[0.1111111111111111,\"#46039f\"],[0.2222222222222222,\"#7201a8\"],[0.3333333333333333,\"#9c179e\"],[0.4444444444444444,\"#bd3786\"],[0.5555555555555556,\"#d8576b\"],[0.6666666666666666,\"#ed7953\"],[0.7777777777777778,\"#fb9f3a\"],[0.8888888888888888,\"#fdca26\"],[1.0,\"#f0f921\"]]},\"colorway\":[\"#636efa\",\"#EF553B\",\"#00cc96\",\"#ab63fa\",\"#FFA15A\",\"#19d3f3\",\"#FF6692\",\"#B6E880\",\"#FF97FF\",\"#FECB52\"],\"font\":{\"color\":\"#2a3f5f\"},\"geo\":{\"bgcolor\":\"white\",\"lakecolor\":\"white\",\"landcolor\":\"#E5ECF6\",\"showlakes\":true,\"showland\":true,\"subunitcolor\":\"white\"},\"hoverlabel\":{\"align\":\"left\"},\"hovermode\":\"closest\",\"mapbox\":{\"style\":\"light\"},\"paper_bgcolor\":\"white\",\"plot_bgcolor\":\"#E5ECF6\",\"polar\":{\"angularaxis\":{\"gridcolor\":\"white\",\"linecolor\":\"white\",\"ticks\":\"\"},\"bgcolor\":\"#E5ECF6\",\"radialaxis\":{\"gridcolor\":\"white\",\"linecolor\":\"white\",\"ticks\":\"\"}},\"scene\":{\"xaxis\":{\"backgroundcolor\":\"#E5ECF6\",\"gridcolor\":\"white\",\"gridwidth\":2,\"linecolor\":\"white\",\"showbackground\":true,\"ticks\":\"\",\"zerolinecolor\":\"white\"},\"yaxis\":{\"backgroundcolor\":\"#E5ECF6\",\"gridcolor\":\"white\",\"gridwidth\":2,\"linecolor\":\"white\",\"showbackground\":true,\"ticks\":\"\",\"zerolinecolor\":\"white\"},\"zaxis\":{\"backgroundcolor\":\"#E5ECF6\",\"gridcolor\":\"white\",\"gridwidth\":2,\"linecolor\":\"white\",\"showbackground\":true,\"ticks\":\"\",\"zerolinecolor\":\"white\"}},\"shapedefaults\":{\"line\":{\"color\":\"#2a3f5f\"}},\"ternary\":{\"aaxis\":{\"gridcolor\":\"white\",\"linecolor\":\"white\",\"ticks\":\"\"},\"baxis\":{\"gridcolor\":\"white\",\"linecolor\":\"white\",\"ticks\":\"\"},\"bgcolor\":\"#E5ECF6\",\"caxis\":{\"gridcolor\":\"white\",\"linecolor\":\"white\",\"ticks\":\"\"}},\"title\":{\"x\":0.05},\"xaxis\":{\"automargin\":true,\"gridcolor\":\"white\",\"linecolor\":\"white\",\"ticks\":\"\",\"title\":{\"standoff\":15},\"zerolinecolor\":\"white\",\"zerolinewidth\":2},\"yaxis\":{\"automargin\":true,\"gridcolor\":\"white\",\"linecolor\":\"white\",\"ticks\":\"\",\"title\":{\"standoff\":15},\"zerolinecolor\":\"white\",\"zerolinewidth\":2}}},\"width\":1000,\"height\":600,\"xaxis\":{\"title\":{\"text\":\"Time\"}},\"yaxis\":{\"title\":{\"text\":\"Relative Covid confirmed Cases(Source: John Hopkins csse)\"}}},                        {\"responsive\": true}                    )                };                            </script>        </div>"
      ],
      "text/plain": [
       "Figure({\n",
       "    'data': [{'mode': 'markers+lines',\n",
       "              'name': 'Iran',\n",
       "              'type': 'scatter',\n",
       "              'x': array([datetime.datetime(2020, 1, 22, 0, 0),\n",
       "                          datetime.datetime(2020, 1, 23, 0, 0),\n",
       "                          datetime.datetime(2020, 1, 24, 0, 0), ...,\n",
       "                          datetime.datetime(2022, 5, 12, 0, 0),\n",
       "                          datetime.datetime(2022, 5, 13, 0, 0),\n",
       "                          datetime.datetime(2022, 5, 14, 0, 0)], dtype=object),\n",
       "              'y': array([0.        , 0.        , 0.        , ..., 0.08604344, 0.08604803,\n",
       "                          0.08605106])},\n",
       "             {'mode': 'markers+lines',\n",
       "              'name': 'Germany',\n",
       "              'type': 'scatter',\n",
       "              'x': array([datetime.datetime(2020, 1, 22, 0, 0),\n",
       "                          datetime.datetime(2020, 1, 23, 0, 0),\n",
       "                          datetime.datetime(2020, 1, 24, 0, 0), ...,\n",
       "                          datetime.datetime(2022, 5, 12, 0, 0),\n",
       "                          datetime.datetime(2022, 5, 13, 0, 0),\n",
       "                          datetime.datetime(2022, 5, 14, 0, 0)], dtype=object),\n",
       "              'y': array([0.        , 0.        , 0.        , ..., 0.30860235, 0.30934625,\n",
       "                          0.30942022])},\n",
       "             {'mode': 'markers+lines',\n",
       "              'name': 'US',\n",
       "              'type': 'scatter',\n",
       "              'x': array([datetime.datetime(2020, 1, 22, 0, 0),\n",
       "                          datetime.datetime(2020, 1, 23, 0, 0),\n",
       "                          datetime.datetime(2020, 1, 24, 0, 0), ...,\n",
       "                          datetime.datetime(2022, 5, 12, 0, 0),\n",
       "                          datetime.datetime(2022, 5, 13, 0, 0),\n",
       "                          datetime.datetime(2022, 5, 14, 0, 0)], dtype=object),\n",
       "              'y': array([3.03521195e-09, 3.03521195e-09, 6.07042390e-09, ..., 2.49875909e-01,\n",
       "                          2.50167098e-01, 2.50215941e-01])}],\n",
       "    'layout': {'height': 600,\n",
       "               'template': '...',\n",
       "               'width': 1000,\n",
       "               'xaxis': {'title': {'text': 'Time'}},\n",
       "               'yaxis': {'title': {'text': 'Relative Covid confirmed Cases(Source: John Hopkins csse)'}}}\n",
       "})"
      ]
     },
     "execution_count": 87,
     "metadata": {},
     "output_type": "execute_result"
    }
   ],
   "source": [
    "for each in Country_list:\n",
    "    fig.add_trace(go.Scatter(x=df_plot.data,y=df_plot[each],mode='markers+lines', name=each))\n",
    "\n",
    "fig.update_layout(width=1000, height=600, xaxis_title=\"Time\", yaxis_title=\"Relative Covid confirmed Cases(Source: John Hopkins csse)\")\n",
    "#fig.update_layout(xaxis_rangeslider_visible=True)\n",
    "#fig.update_yaxis(type=\"log\",range=[1.1,5.5])\n",
    "\n",
    "#fig.show(renderer='chrome')"
   ]
  },
  {
   "cell_type": "code",
   "execution_count": null,
   "id": "ab8eff6c",
   "metadata": {},
   "outputs": [],
   "source": []
  },
  {
   "cell_type": "code",
   "execution_count": null,
   "id": "8efcf103",
   "metadata": {},
   "outputs": [],
   "source": []
  },
  {
   "cell_type": "code",
   "execution_count": null,
   "id": "5515f47e",
   "metadata": {},
   "outputs": [],
   "source": []
  }
 ],
 "metadata": {
  "kernelspec": {
   "display_name": "Python 3 (ipykernel)",
   "language": "python",
   "name": "python3"
  },
  "language_info": {
   "codemirror_mode": {
    "name": "ipython",
    "version": 3
   },
   "file_extension": ".py",
   "mimetype": "text/x-python",
   "name": "python",
   "nbconvert_exporter": "python",
   "pygments_lexer": "ipython3",
   "version": "3.9.12"
  }
 },
 "nbformat": 4,
 "nbformat_minor": 5
}
