{
 "cells": [
  {
   "cell_type": "markdown",
   "id": "9a20abb3",
   "metadata": {},
   "source": [
    "Navid Azadegan"
   ]
  },
  {
   "cell_type": "markdown",
   "id": "3e9015c6",
   "metadata": {},
   "source": [
    " Data Preparation with some modification and formatting"
   ]
  },
  {
   "cell_type": "code",
   "execution_count": 1,
   "id": "60b8d8ea",
   "metadata": {},
   "outputs": [],
   "source": [
    "import pandas as pd\n",
    "import numpy as np\n",
    "\n",
    "from datetime import datetime\n",
    "def store_relational_JH_data():\n",
    "    ''' Transformes the COVID data in a relational data set\n",
    "    '''\n",
    "data_path1='file:///C:/Users/navid/covid/data/raw/COVID-19/csse_covid_19_data/csse_covid_19_time_series/time_series_covid19_confirmed_global.csv'\n",
    "pd_raw=pd.read_csv(data_path1)\n",
    "pdb=pd_raw.rename(columns={'Country/Region':'country',\n",
    "                      'Province/State':'state'})\n",
    "pdb['state']=pdb['state'].fillna('no')\n",
    "pdb=pdb.drop(['Lat','Long'],axis=1)\n",
    "prm=pdb.set_index(['state','country']) \\\n",
    "                                .T                              \\\n",
    "                                .stack(level=[0,1])             \\\n",
    "                                .reset_index()                  \\\n",
    "                                .rename(columns={'level_0':'date',\n",
    "                                                   0:'confirmed'},\n",
    "                                                  )\n",
    "prm['date']=prm.date.astype('datetime64[ns]')\n",
    "prm.to_csv('C:/Users/navid/covid/data/processed/COVID_relational_confirmed.csv',sep=';',index=False)\n",
    "\n",
    "if __name__ == '__main__':\n",
    "\n",
    "    store_relational_JH_data()"
   ]
  },
  {
   "cell_type": "markdown",
   "id": "6620663b",
   "metadata": {},
   "source": [
    "SIR Data Preparation with some modification and formatting-----SIR-------------SIR-------------SIR-------------SIR--------"
   ]
  },
  {
   "cell_type": "code",
   "execution_count": 2,
   "id": "b7521a00",
   "metadata": {},
   "outputs": [
    {
     "data": {
      "text/plain": [
       "237    83992953.0\n",
       "Name: Population, dtype: float64"
      ]
     },
     "execution_count": 2,
     "metadata": {},
     "output_type": "execute_result"
    }
   ],
   "source": [
    "time_idx=pd_raw.columns[4:]\n",
    "df_plot = pd.DataFrame({\n",
    "    'date':time_idx})\n",
    "data_path2='file:///C:/Users/navid/covid/data/raw/COVID-19/csse_covid_19_data/UID_ISO_FIPS_LookUp_Table.csv'\n",
    "pd_raw2=pd.read_csv(data_path2) #Country Population\n",
    "#country_list=pd_raw2.Country_Region.unique()\n",
    "#pd_raw2[pd_raw2.Country_Region=='Germany'].Population\n",
    "df2 = pd.DataFrame(pd_raw2)\n",
    "df2_1=df2.rename(columns={'Country_Region':'country'})\n",
    "df2_2=df2_1.drop(['UID', 'iso2','iso3','code3','FIPS','Admin2','Lat','Long_','Combined_Key'], axis=1)\n",
    "df2_3=df2_2[df2_2['Province_State'].isna()]\n",
    "df2_4=df2_3.drop(['Province_State'], axis=1)\n",
    "df2_4[df2_4.country=='Iran'].Population  "
   ]
  },
  {
   "cell_type": "code",
   "execution_count": 3,
   "id": "831c96a2",
   "metadata": {},
   "outputs": [
    {
     "data": {
      "text/plain": [
       "['Germany', 'Iran', 'Italy']"
      ]
     },
     "execution_count": 3,
     "metadata": {},
     "output_type": "execute_result"
    }
   ],
   "source": [
    "country_list=['Germany','Iran','Italy']\n",
    "country_list"
   ]
  },
  {
   "cell_type": "code",
   "execution_count": 4,
   "id": "06c5f84f",
   "metadata": {},
   "outputs": [],
   "source": [
    "for each in country_list:\n",
    "    df_plot[each]=np.array(pd_raw[pd_raw['Country/Region']==each].iloc[:,4::].sum(axis=0))"
   ]
  },
  {
   "cell_type": "code",
   "execution_count": 5,
   "id": "fb58026d",
   "metadata": {},
   "outputs": [
    {
     "data": {
      "text/plain": [
       "pandas._libs.tslibs.timestamps.Timestamp"
      ]
     },
     "execution_count": 5,
     "metadata": {},
     "output_type": "execute_result"
    }
   ],
   "source": [
    "time_idx=[datetime.strptime( each,\"%m/%d/%y\") for each in df_plot.date] # convert to datetime\n",
    "time_str=[each.strftime('%Y-%m-%d') for each in time_idx] # convert back to date ISO norm (str)\n",
    "df_plot['date']=time_idx\n",
    "type(df_plot['date'][0])\n"
   ]
  },
  {
   "cell_type": "code",
   "execution_count": 6,
   "id": "a6952e84",
   "metadata": {},
   "outputs": [],
   "source": [
    "df_plot.to_csv('C:/Users/navid/covid/data/processed/COVID_Data_for_SIR.csv',sep=';',index=False)"
   ]
  },
  {
   "cell_type": "markdown",
   "id": "0d81d964",
   "metadata": {},
   "source": [
    "Data Processing and filterring--------****************************************************"
   ]
  },
  {
   "cell_type": "markdown",
   "id": "f9107996",
   "metadata": {},
   "source": [
    "----------SIR-------------SIR-------------SIR-------------SIR-------------SIR-------------SIR-------------SIR--------"
   ]
  },
  {
   "cell_type": "code",
   "execution_count": 7,
   "id": "0730b4a8",
   "metadata": {},
   "outputs": [
    {
     "data": {
      "text/html": [
       "<div>\n",
       "<style scoped>\n",
       "    .dataframe tbody tr th:only-of-type {\n",
       "        vertical-align: middle;\n",
       "    }\n",
       "\n",
       "    .dataframe tbody tr th {\n",
       "        vertical-align: top;\n",
       "    }\n",
       "\n",
       "    .dataframe thead th {\n",
       "        text-align: right;\n",
       "    }\n",
       "</style>\n",
       "<table border=\"1\" class=\"dataframe\">\n",
       "  <thead>\n",
       "    <tr style=\"text-align: right;\">\n",
       "      <th></th>\n",
       "      <th>date</th>\n",
       "      <th>Germany</th>\n",
       "      <th>Iran</th>\n",
       "      <th>Italy</th>\n",
       "    </tr>\n",
       "  </thead>\n",
       "  <tbody>\n",
       "    <tr>\n",
       "      <th>0</th>\n",
       "      <td>2020-01-22</td>\n",
       "      <td>0</td>\n",
       "      <td>0</td>\n",
       "      <td>0</td>\n",
       "    </tr>\n",
       "    <tr>\n",
       "      <th>1</th>\n",
       "      <td>2020-01-23</td>\n",
       "      <td>0</td>\n",
       "      <td>0</td>\n",
       "      <td>0</td>\n",
       "    </tr>\n",
       "    <tr>\n",
       "      <th>...</th>\n",
       "      <td>...</td>\n",
       "      <td>...</td>\n",
       "      <td>...</td>\n",
       "      <td>...</td>\n",
       "    </tr>\n",
       "    <tr>\n",
       "      <th>842</th>\n",
       "      <td>2022-05-13</td>\n",
       "      <td>25723697</td>\n",
       "      <td>7227428</td>\n",
       "      <td>16993813</td>\n",
       "    </tr>\n",
       "    <tr>\n",
       "      <th>843</th>\n",
       "      <td>2022-05-14</td>\n",
       "      <td>25729848</td>\n",
       "      <td>7227683</td>\n",
       "      <td>17030147</td>\n",
       "    </tr>\n",
       "  </tbody>\n",
       "</table>\n",
       "<p>844 rows × 4 columns</p>\n",
       "</div>"
      ],
      "text/plain": [
       "           date   Germany     Iran     Italy\n",
       "0    2020-01-22         0        0         0\n",
       "1    2020-01-23         0        0         0\n",
       "..          ...       ...      ...       ...\n",
       "842  2022-05-13  25723697  7227428  16993813\n",
       "843  2022-05-14  25729848  7227683  17030147\n",
       "\n",
       "[844 rows x 4 columns]"
      ]
     },
     "execution_count": 7,
     "metadata": {},
     "output_type": "execute_result"
    }
   ],
   "source": [
    "import pandas as pd\n",
    "import numpy as np\n",
    "\n",
    "from datetime import datetime\n",
    "import pandas as pd \n",
    "\n",
    "from scipy import optimize\n",
    "from scipy import integrate\n",
    "\n",
    "%matplotlib inline\n",
    "import matplotlib as mpl\n",
    "import matplotlib.pyplot as plt\n",
    "\n",
    "import seaborn as sns\n",
    "\n",
    "\n",
    "sns.set(style=\"darkgrid\")\n",
    "\n",
    "mpl.rcParams['figure.figsize'] = (16, 9)\n",
    "pd.set_option('display.max_rows', 4)\n",
    "df_analyse=pd.read_csv('file:///C:/Users/navid/covid/data/processed/COVID_Data_for_SIR.csv',sep=';')\n",
    "#df_analyse=df_analyse[40:]\n",
    "df_analyse.sort_values('date',ascending=True)"
   ]
  },
  {
   "cell_type": "code",
   "execution_count": 8,
   "id": "df43910a",
   "metadata": {},
   "outputs": [
    {
     "name": "stderr",
     "output_type": "stream",
     "text": [
      "C:\\Users\\navid\\AppData\\Local\\Temp\\ipykernel_12152\\3183110562.py:52: FutureWarning: The frame.append method is deprecated and will be removed from pandas in a future version. Use pandas.concat instead.\n",
      "  propagation_rates=propagation_rates.append({'susceptible':SIR[0],\n",
      "C:\\Users\\navid\\AppData\\Local\\Temp\\ipykernel_12152\\3183110562.py:52: FutureWarning: The frame.append method is deprecated and will be removed from pandas in a future version. Use pandas.concat instead.\n",
      "  propagation_rates=propagation_rates.append({'susceptible':SIR[0],\n",
      "C:\\Users\\navid\\AppData\\Local\\Temp\\ipykernel_12152\\3183110562.py:52: FutureWarning: The frame.append method is deprecated and will be removed from pandas in a future version. Use pandas.concat instead.\n",
      "  propagation_rates=propagation_rates.append({'susceptible':SIR[0],\n",
      "C:\\Users\\navid\\AppData\\Local\\Temp\\ipykernel_12152\\3183110562.py:52: FutureWarning: The frame.append method is deprecated and will be removed from pandas in a future version. Use pandas.concat instead.\n",
      "  propagation_rates=propagation_rates.append({'susceptible':SIR[0],\n",
      "C:\\Users\\navid\\AppData\\Local\\Temp\\ipykernel_12152\\3183110562.py:52: FutureWarning: The frame.append method is deprecated and will be removed from pandas in a future version. Use pandas.concat instead.\n",
      "  propagation_rates=propagation_rates.append({'susceptible':SIR[0],\n",
      "C:\\Users\\navid\\AppData\\Local\\Temp\\ipykernel_12152\\3183110562.py:52: FutureWarning: The frame.append method is deprecated and will be removed from pandas in a future version. Use pandas.concat instead.\n",
      "  propagation_rates=propagation_rates.append({'susceptible':SIR[0],\n",
      "C:\\Users\\navid\\AppData\\Local\\Temp\\ipykernel_12152\\3183110562.py:52: FutureWarning: The frame.append method is deprecated and will be removed from pandas in a future version. Use pandas.concat instead.\n",
      "  propagation_rates=propagation_rates.append({'susceptible':SIR[0],\n",
      "C:\\Users\\navid\\AppData\\Local\\Temp\\ipykernel_12152\\3183110562.py:52: FutureWarning: The frame.append method is deprecated and will be removed from pandas in a future version. Use pandas.concat instead.\n",
      "  propagation_rates=propagation_rates.append({'susceptible':SIR[0],\n",
      "C:\\Users\\navid\\AppData\\Local\\Temp\\ipykernel_12152\\3183110562.py:52: FutureWarning: The frame.append method is deprecated and will be removed from pandas in a future version. Use pandas.concat instead.\n",
      "  propagation_rates=propagation_rates.append({'susceptible':SIR[0],\n",
      "C:\\Users\\navid\\AppData\\Local\\Temp\\ipykernel_12152\\3183110562.py:52: FutureWarning: The frame.append method is deprecated and will be removed from pandas in a future version. Use pandas.concat instead.\n",
      "  propagation_rates=propagation_rates.append({'susceptible':SIR[0],\n",
      "C:\\Users\\navid\\AppData\\Local\\Temp\\ipykernel_12152\\3183110562.py:52: FutureWarning: The frame.append method is deprecated and will be removed from pandas in a future version. Use pandas.concat instead.\n",
      "  propagation_rates=propagation_rates.append({'susceptible':SIR[0],\n",
      "C:\\Users\\navid\\AppData\\Local\\Temp\\ipykernel_12152\\3183110562.py:52: FutureWarning: The frame.append method is deprecated and will be removed from pandas in a future version. Use pandas.concat instead.\n",
      "  propagation_rates=propagation_rates.append({'susceptible':SIR[0],\n",
      "C:\\Users\\navid\\AppData\\Local\\Temp\\ipykernel_12152\\3183110562.py:52: FutureWarning: The frame.append method is deprecated and will be removed from pandas in a future version. Use pandas.concat instead.\n",
      "  propagation_rates=propagation_rates.append({'susceptible':SIR[0],\n",
      "C:\\Users\\navid\\AppData\\Local\\Temp\\ipykernel_12152\\3183110562.py:52: FutureWarning: The frame.append method is deprecated and will be removed from pandas in a future version. Use pandas.concat instead.\n",
      "  propagation_rates=propagation_rates.append({'susceptible':SIR[0],\n",
      "C:\\Users\\navid\\AppData\\Local\\Temp\\ipykernel_12152\\3183110562.py:52: FutureWarning: The frame.append method is deprecated and will be removed from pandas in a future version. Use pandas.concat instead.\n",
      "  propagation_rates=propagation_rates.append({'susceptible':SIR[0],\n",
      "C:\\Users\\navid\\AppData\\Local\\Temp\\ipykernel_12152\\3183110562.py:52: FutureWarning: The frame.append method is deprecated and will be removed from pandas in a future version. Use pandas.concat instead.\n",
      "  propagation_rates=propagation_rates.append({'susceptible':SIR[0],\n",
      "C:\\Users\\navid\\AppData\\Local\\Temp\\ipykernel_12152\\3183110562.py:52: FutureWarning: The frame.append method is deprecated and will be removed from pandas in a future version. Use pandas.concat instead.\n",
      "  propagation_rates=propagation_rates.append({'susceptible':SIR[0],\n",
      "C:\\Users\\navid\\AppData\\Local\\Temp\\ipykernel_12152\\3183110562.py:52: FutureWarning: The frame.append method is deprecated and will be removed from pandas in a future version. Use pandas.concat instead.\n",
      "  propagation_rates=propagation_rates.append({'susceptible':SIR[0],\n",
      "C:\\Users\\navid\\AppData\\Local\\Temp\\ipykernel_12152\\3183110562.py:52: FutureWarning: The frame.append method is deprecated and will be removed from pandas in a future version. Use pandas.concat instead.\n",
      "  propagation_rates=propagation_rates.append({'susceptible':SIR[0],\n",
      "C:\\Users\\navid\\AppData\\Local\\Temp\\ipykernel_12152\\3183110562.py:52: FutureWarning: The frame.append method is deprecated and will be removed from pandas in a future version. Use pandas.concat instead.\n",
      "  propagation_rates=propagation_rates.append({'susceptible':SIR[0],\n",
      "C:\\Users\\navid\\AppData\\Local\\Temp\\ipykernel_12152\\3183110562.py:52: FutureWarning: The frame.append method is deprecated and will be removed from pandas in a future version. Use pandas.concat instead.\n",
      "  propagation_rates=propagation_rates.append({'susceptible':SIR[0],\n",
      "C:\\Users\\navid\\AppData\\Local\\Temp\\ipykernel_12152\\3183110562.py:52: FutureWarning: The frame.append method is deprecated and will be removed from pandas in a future version. Use pandas.concat instead.\n",
      "  propagation_rates=propagation_rates.append({'susceptible':SIR[0],\n",
      "C:\\Users\\navid\\AppData\\Local\\Temp\\ipykernel_12152\\3183110562.py:52: FutureWarning: The frame.append method is deprecated and will be removed from pandas in a future version. Use pandas.concat instead.\n",
      "  propagation_rates=propagation_rates.append({'susceptible':SIR[0],\n",
      "C:\\Users\\navid\\AppData\\Local\\Temp\\ipykernel_12152\\3183110562.py:52: FutureWarning: The frame.append method is deprecated and will be removed from pandas in a future version. Use pandas.concat instead.\n",
      "  propagation_rates=propagation_rates.append({'susceptible':SIR[0],\n",
      "C:\\Users\\navid\\AppData\\Local\\Temp\\ipykernel_12152\\3183110562.py:52: FutureWarning: The frame.append method is deprecated and will be removed from pandas in a future version. Use pandas.concat instead.\n",
      "  propagation_rates=propagation_rates.append({'susceptible':SIR[0],\n",
      "C:\\Users\\navid\\AppData\\Local\\Temp\\ipykernel_12152\\3183110562.py:52: FutureWarning: The frame.append method is deprecated and will be removed from pandas in a future version. Use pandas.concat instead.\n",
      "  propagation_rates=propagation_rates.append({'susceptible':SIR[0],\n",
      "C:\\Users\\navid\\AppData\\Local\\Temp\\ipykernel_12152\\3183110562.py:52: FutureWarning: The frame.append method is deprecated and will be removed from pandas in a future version. Use pandas.concat instead.\n",
      "  propagation_rates=propagation_rates.append({'susceptible':SIR[0],\n",
      "C:\\Users\\navid\\AppData\\Local\\Temp\\ipykernel_12152\\3183110562.py:52: FutureWarning: The frame.append method is deprecated and will be removed from pandas in a future version. Use pandas.concat instead.\n",
      "  propagation_rates=propagation_rates.append({'susceptible':SIR[0],\n",
      "C:\\Users\\navid\\AppData\\Local\\Temp\\ipykernel_12152\\3183110562.py:52: FutureWarning: The frame.append method is deprecated and will be removed from pandas in a future version. Use pandas.concat instead.\n",
      "  propagation_rates=propagation_rates.append({'susceptible':SIR[0],\n",
      "C:\\Users\\navid\\AppData\\Local\\Temp\\ipykernel_12152\\3183110562.py:52: FutureWarning: The frame.append method is deprecated and will be removed from pandas in a future version. Use pandas.concat instead.\n",
      "  propagation_rates=propagation_rates.append({'susceptible':SIR[0],\n",
      "C:\\Users\\navid\\AppData\\Local\\Temp\\ipykernel_12152\\3183110562.py:52: FutureWarning: The frame.append method is deprecated and will be removed from pandas in a future version. Use pandas.concat instead.\n",
      "  propagation_rates=propagation_rates.append({'susceptible':SIR[0],\n",
      "C:\\Users\\navid\\AppData\\Local\\Temp\\ipykernel_12152\\3183110562.py:52: FutureWarning: The frame.append method is deprecated and will be removed from pandas in a future version. Use pandas.concat instead.\n",
      "  propagation_rates=propagation_rates.append({'susceptible':SIR[0],\n",
      "C:\\Users\\navid\\AppData\\Local\\Temp\\ipykernel_12152\\3183110562.py:52: FutureWarning: The frame.append method is deprecated and will be removed from pandas in a future version. Use pandas.concat instead.\n",
      "  propagation_rates=propagation_rates.append({'susceptible':SIR[0],\n",
      "C:\\Users\\navid\\AppData\\Local\\Temp\\ipykernel_12152\\3183110562.py:52: FutureWarning: The frame.append method is deprecated and will be removed from pandas in a future version. Use pandas.concat instead.\n",
      "  propagation_rates=propagation_rates.append({'susceptible':SIR[0],\n",
      "C:\\Users\\navid\\AppData\\Local\\Temp\\ipykernel_12152\\3183110562.py:52: FutureWarning: The frame.append method is deprecated and will be removed from pandas in a future version. Use pandas.concat instead.\n",
      "  propagation_rates=propagation_rates.append({'susceptible':SIR[0],\n",
      "C:\\Users\\navid\\AppData\\Local\\Temp\\ipykernel_12152\\3183110562.py:52: FutureWarning: The frame.append method is deprecated and will be removed from pandas in a future version. Use pandas.concat instead.\n",
      "  propagation_rates=propagation_rates.append({'susceptible':SIR[0],\n",
      "C:\\Users\\navid\\AppData\\Local\\Temp\\ipykernel_12152\\3183110562.py:52: FutureWarning: The frame.append method is deprecated and will be removed from pandas in a future version. Use pandas.concat instead.\n",
      "  propagation_rates=propagation_rates.append({'susceptible':SIR[0],\n",
      "C:\\Users\\navid\\AppData\\Local\\Temp\\ipykernel_12152\\3183110562.py:52: FutureWarning: The frame.append method is deprecated and will be removed from pandas in a future version. Use pandas.concat instead.\n",
      "  propagation_rates=propagation_rates.append({'susceptible':SIR[0],\n",
      "C:\\Users\\navid\\AppData\\Local\\Temp\\ipykernel_12152\\3183110562.py:52: FutureWarning: The frame.append method is deprecated and will be removed from pandas in a future version. Use pandas.concat instead.\n",
      "  propagation_rates=propagation_rates.append({'susceptible':SIR[0],\n"
     ]
    },
    {
     "name": "stderr",
     "output_type": "stream",
     "text": [
      "C:\\Users\\navid\\AppData\\Local\\Temp\\ipykernel_12152\\3183110562.py:52: FutureWarning: The frame.append method is deprecated and will be removed from pandas in a future version. Use pandas.concat instead.\n",
      "  propagation_rates=propagation_rates.append({'susceptible':SIR[0],\n",
      "C:\\Users\\navid\\AppData\\Local\\Temp\\ipykernel_12152\\3183110562.py:52: FutureWarning: The frame.append method is deprecated and will be removed from pandas in a future version. Use pandas.concat instead.\n",
      "  propagation_rates=propagation_rates.append({'susceptible':SIR[0],\n",
      "C:\\Users\\navid\\AppData\\Local\\Temp\\ipykernel_12152\\3183110562.py:52: FutureWarning: The frame.append method is deprecated and will be removed from pandas in a future version. Use pandas.concat instead.\n",
      "  propagation_rates=propagation_rates.append({'susceptible':SIR[0],\n",
      "C:\\Users\\navid\\AppData\\Local\\Temp\\ipykernel_12152\\3183110562.py:52: FutureWarning: The frame.append method is deprecated and will be removed from pandas in a future version. Use pandas.concat instead.\n",
      "  propagation_rates=propagation_rates.append({'susceptible':SIR[0],\n",
      "C:\\Users\\navid\\AppData\\Local\\Temp\\ipykernel_12152\\3183110562.py:52: FutureWarning: The frame.append method is deprecated and will be removed from pandas in a future version. Use pandas.concat instead.\n",
      "  propagation_rates=propagation_rates.append({'susceptible':SIR[0],\n",
      "C:\\Users\\navid\\AppData\\Local\\Temp\\ipykernel_12152\\3183110562.py:52: FutureWarning: The frame.append method is deprecated and will be removed from pandas in a future version. Use pandas.concat instead.\n",
      "  propagation_rates=propagation_rates.append({'susceptible':SIR[0],\n",
      "C:\\Users\\navid\\AppData\\Local\\Temp\\ipykernel_12152\\3183110562.py:52: FutureWarning: The frame.append method is deprecated and will be removed from pandas in a future version. Use pandas.concat instead.\n",
      "  propagation_rates=propagation_rates.append({'susceptible':SIR[0],\n",
      "C:\\Users\\navid\\AppData\\Local\\Temp\\ipykernel_12152\\3183110562.py:52: FutureWarning: The frame.append method is deprecated and will be removed from pandas in a future version. Use pandas.concat instead.\n",
      "  propagation_rates=propagation_rates.append({'susceptible':SIR[0],\n",
      "C:\\Users\\navid\\AppData\\Local\\Temp\\ipykernel_12152\\3183110562.py:52: FutureWarning: The frame.append method is deprecated and will be removed from pandas in a future version. Use pandas.concat instead.\n",
      "  propagation_rates=propagation_rates.append({'susceptible':SIR[0],\n",
      "C:\\Users\\navid\\AppData\\Local\\Temp\\ipykernel_12152\\3183110562.py:52: FutureWarning: The frame.append method is deprecated and will be removed from pandas in a future version. Use pandas.concat instead.\n",
      "  propagation_rates=propagation_rates.append({'susceptible':SIR[0],\n",
      "C:\\Users\\navid\\AppData\\Local\\Temp\\ipykernel_12152\\3183110562.py:52: FutureWarning: The frame.append method is deprecated and will be removed from pandas in a future version. Use pandas.concat instead.\n",
      "  propagation_rates=propagation_rates.append({'susceptible':SIR[0],\n",
      "C:\\Users\\navid\\AppData\\Local\\Temp\\ipykernel_12152\\3183110562.py:52: FutureWarning: The frame.append method is deprecated and will be removed from pandas in a future version. Use pandas.concat instead.\n",
      "  propagation_rates=propagation_rates.append({'susceptible':SIR[0],\n",
      "C:\\Users\\navid\\AppData\\Local\\Temp\\ipykernel_12152\\3183110562.py:52: FutureWarning: The frame.append method is deprecated and will be removed from pandas in a future version. Use pandas.concat instead.\n",
      "  propagation_rates=propagation_rates.append({'susceptible':SIR[0],\n",
      "C:\\Users\\navid\\AppData\\Local\\Temp\\ipykernel_12152\\3183110562.py:52: FutureWarning: The frame.append method is deprecated and will be removed from pandas in a future version. Use pandas.concat instead.\n",
      "  propagation_rates=propagation_rates.append({'susceptible':SIR[0],\n",
      "C:\\Users\\navid\\AppData\\Local\\Temp\\ipykernel_12152\\3183110562.py:52: FutureWarning: The frame.append method is deprecated and will be removed from pandas in a future version. Use pandas.concat instead.\n",
      "  propagation_rates=propagation_rates.append({'susceptible':SIR[0],\n",
      "C:\\Users\\navid\\AppData\\Local\\Temp\\ipykernel_12152\\3183110562.py:52: FutureWarning: The frame.append method is deprecated and will be removed from pandas in a future version. Use pandas.concat instead.\n",
      "  propagation_rates=propagation_rates.append({'susceptible':SIR[0],\n",
      "C:\\Users\\navid\\AppData\\Local\\Temp\\ipykernel_12152\\3183110562.py:52: FutureWarning: The frame.append method is deprecated and will be removed from pandas in a future version. Use pandas.concat instead.\n",
      "  propagation_rates=propagation_rates.append({'susceptible':SIR[0],\n",
      "C:\\Users\\navid\\AppData\\Local\\Temp\\ipykernel_12152\\3183110562.py:52: FutureWarning: The frame.append method is deprecated and will be removed from pandas in a future version. Use pandas.concat instead.\n",
      "  propagation_rates=propagation_rates.append({'susceptible':SIR[0],\n",
      "C:\\Users\\navid\\AppData\\Local\\Temp\\ipykernel_12152\\3183110562.py:52: FutureWarning: The frame.append method is deprecated and will be removed from pandas in a future version. Use pandas.concat instead.\n",
      "  propagation_rates=propagation_rates.append({'susceptible':SIR[0],\n",
      "C:\\Users\\navid\\AppData\\Local\\Temp\\ipykernel_12152\\3183110562.py:52: FutureWarning: The frame.append method is deprecated and will be removed from pandas in a future version. Use pandas.concat instead.\n",
      "  propagation_rates=propagation_rates.append({'susceptible':SIR[0],\n",
      "C:\\Users\\navid\\AppData\\Local\\Temp\\ipykernel_12152\\3183110562.py:52: FutureWarning: The frame.append method is deprecated and will be removed from pandas in a future version. Use pandas.concat instead.\n",
      "  propagation_rates=propagation_rates.append({'susceptible':SIR[0],\n",
      "C:\\Users\\navid\\AppData\\Local\\Temp\\ipykernel_12152\\3183110562.py:52: FutureWarning: The frame.append method is deprecated and will be removed from pandas in a future version. Use pandas.concat instead.\n",
      "  propagation_rates=propagation_rates.append({'susceptible':SIR[0],\n",
      "C:\\Users\\navid\\AppData\\Local\\Temp\\ipykernel_12152\\3183110562.py:52: FutureWarning: The frame.append method is deprecated and will be removed from pandas in a future version. Use pandas.concat instead.\n",
      "  propagation_rates=propagation_rates.append({'susceptible':SIR[0],\n",
      "C:\\Users\\navid\\AppData\\Local\\Temp\\ipykernel_12152\\3183110562.py:52: FutureWarning: The frame.append method is deprecated and will be removed from pandas in a future version. Use pandas.concat instead.\n",
      "  propagation_rates=propagation_rates.append({'susceptible':SIR[0],\n",
      "C:\\Users\\navid\\AppData\\Local\\Temp\\ipykernel_12152\\3183110562.py:52: FutureWarning: The frame.append method is deprecated and will be removed from pandas in a future version. Use pandas.concat instead.\n",
      "  propagation_rates=propagation_rates.append({'susceptible':SIR[0],\n",
      "C:\\Users\\navid\\AppData\\Local\\Temp\\ipykernel_12152\\3183110562.py:52: FutureWarning: The frame.append method is deprecated and will be removed from pandas in a future version. Use pandas.concat instead.\n",
      "  propagation_rates=propagation_rates.append({'susceptible':SIR[0],\n",
      "C:\\Users\\navid\\AppData\\Local\\Temp\\ipykernel_12152\\3183110562.py:52: FutureWarning: The frame.append method is deprecated and will be removed from pandas in a future version. Use pandas.concat instead.\n",
      "  propagation_rates=propagation_rates.append({'susceptible':SIR[0],\n",
      "C:\\Users\\navid\\AppData\\Local\\Temp\\ipykernel_12152\\3183110562.py:52: FutureWarning: The frame.append method is deprecated and will be removed from pandas in a future version. Use pandas.concat instead.\n",
      "  propagation_rates=propagation_rates.append({'susceptible':SIR[0],\n",
      "C:\\Users\\navid\\AppData\\Local\\Temp\\ipykernel_12152\\3183110562.py:52: FutureWarning: The frame.append method is deprecated and will be removed from pandas in a future version. Use pandas.concat instead.\n",
      "  propagation_rates=propagation_rates.append({'susceptible':SIR[0],\n",
      "C:\\Users\\navid\\AppData\\Local\\Temp\\ipykernel_12152\\3183110562.py:52: FutureWarning: The frame.append method is deprecated and will be removed from pandas in a future version. Use pandas.concat instead.\n",
      "  propagation_rates=propagation_rates.append({'susceptible':SIR[0],\n",
      "C:\\Users\\navid\\AppData\\Local\\Temp\\ipykernel_12152\\3183110562.py:52: FutureWarning: The frame.append method is deprecated and will be removed from pandas in a future version. Use pandas.concat instead.\n",
      "  propagation_rates=propagation_rates.append({'susceptible':SIR[0],\n",
      "C:\\Users\\navid\\AppData\\Local\\Temp\\ipykernel_12152\\3183110562.py:52: FutureWarning: The frame.append method is deprecated and will be removed from pandas in a future version. Use pandas.concat instead.\n",
      "  propagation_rates=propagation_rates.append({'susceptible':SIR[0],\n",
      "C:\\Users\\navid\\AppData\\Local\\Temp\\ipykernel_12152\\3183110562.py:52: FutureWarning: The frame.append method is deprecated and will be removed from pandas in a future version. Use pandas.concat instead.\n",
      "  propagation_rates=propagation_rates.append({'susceptible':SIR[0],\n",
      "C:\\Users\\navid\\AppData\\Local\\Temp\\ipykernel_12152\\3183110562.py:52: FutureWarning: The frame.append method is deprecated and will be removed from pandas in a future version. Use pandas.concat instead.\n",
      "  propagation_rates=propagation_rates.append({'susceptible':SIR[0],\n",
      "C:\\Users\\navid\\AppData\\Local\\Temp\\ipykernel_12152\\3183110562.py:52: FutureWarning: The frame.append method is deprecated and will be removed from pandas in a future version. Use pandas.concat instead.\n",
      "  propagation_rates=propagation_rates.append({'susceptible':SIR[0],\n",
      "C:\\Users\\navid\\AppData\\Local\\Temp\\ipykernel_12152\\3183110562.py:52: FutureWarning: The frame.append method is deprecated and will be removed from pandas in a future version. Use pandas.concat instead.\n",
      "  propagation_rates=propagation_rates.append({'susceptible':SIR[0],\n",
      "C:\\Users\\navid\\AppData\\Local\\Temp\\ipykernel_12152\\3183110562.py:52: FutureWarning: The frame.append method is deprecated and will be removed from pandas in a future version. Use pandas.concat instead.\n",
      "  propagation_rates=propagation_rates.append({'susceptible':SIR[0],\n",
      "C:\\Users\\navid\\AppData\\Local\\Temp\\ipykernel_12152\\3183110562.py:52: FutureWarning: The frame.append method is deprecated and will be removed from pandas in a future version. Use pandas.concat instead.\n",
      "  propagation_rates=propagation_rates.append({'susceptible':SIR[0],\n",
      "C:\\Users\\navid\\AppData\\Local\\Temp\\ipykernel_12152\\3183110562.py:52: FutureWarning: The frame.append method is deprecated and will be removed from pandas in a future version. Use pandas.concat instead.\n",
      "  propagation_rates=propagation_rates.append({'susceptible':SIR[0],\n",
      "C:\\Users\\navid\\AppData\\Local\\Temp\\ipykernel_12152\\3183110562.py:52: FutureWarning: The frame.append method is deprecated and will be removed from pandas in a future version. Use pandas.concat instead.\n",
      "  propagation_rates=propagation_rates.append({'susceptible':SIR[0],\n",
      "C:\\Users\\navid\\AppData\\Local\\Temp\\ipykernel_12152\\3183110562.py:52: FutureWarning: The frame.append method is deprecated and will be removed from pandas in a future version. Use pandas.concat instead.\n",
      "  propagation_rates=propagation_rates.append({'susceptible':SIR[0],\n",
      "C:\\Users\\navid\\AppData\\Local\\Temp\\ipykernel_12152\\3183110562.py:52: FutureWarning: The frame.append method is deprecated and will be removed from pandas in a future version. Use pandas.concat instead.\n",
      "  propagation_rates=propagation_rates.append({'susceptible':SIR[0],\n",
      "C:\\Users\\navid\\AppData\\Local\\Temp\\ipykernel_12152\\3183110562.py:52: FutureWarning: The frame.append method is deprecated and will be removed from pandas in a future version. Use pandas.concat instead.\n",
      "  propagation_rates=propagation_rates.append({'susceptible':SIR[0],\n"
     ]
    },
    {
     "name": "stderr",
     "output_type": "stream",
     "text": [
      "C:\\Users\\navid\\AppData\\Local\\Temp\\ipykernel_12152\\3183110562.py:52: FutureWarning: The frame.append method is deprecated and will be removed from pandas in a future version. Use pandas.concat instead.\n",
      "  propagation_rates=propagation_rates.append({'susceptible':SIR[0],\n",
      "C:\\Users\\navid\\AppData\\Local\\Temp\\ipykernel_12152\\3183110562.py:52: FutureWarning: The frame.append method is deprecated and will be removed from pandas in a future version. Use pandas.concat instead.\n",
      "  propagation_rates=propagation_rates.append({'susceptible':SIR[0],\n",
      "C:\\Users\\navid\\AppData\\Local\\Temp\\ipykernel_12152\\3183110562.py:52: FutureWarning: The frame.append method is deprecated and will be removed from pandas in a future version. Use pandas.concat instead.\n",
      "  propagation_rates=propagation_rates.append({'susceptible':SIR[0],\n",
      "C:\\Users\\navid\\AppData\\Local\\Temp\\ipykernel_12152\\3183110562.py:52: FutureWarning: The frame.append method is deprecated and will be removed from pandas in a future version. Use pandas.concat instead.\n",
      "  propagation_rates=propagation_rates.append({'susceptible':SIR[0],\n",
      "C:\\Users\\navid\\AppData\\Local\\Temp\\ipykernel_12152\\3183110562.py:52: FutureWarning: The frame.append method is deprecated and will be removed from pandas in a future version. Use pandas.concat instead.\n",
      "  propagation_rates=propagation_rates.append({'susceptible':SIR[0],\n",
      "C:\\Users\\navid\\AppData\\Local\\Temp\\ipykernel_12152\\3183110562.py:52: FutureWarning: The frame.append method is deprecated and will be removed from pandas in a future version. Use pandas.concat instead.\n",
      "  propagation_rates=propagation_rates.append({'susceptible':SIR[0],\n",
      "C:\\Users\\navid\\AppData\\Local\\Temp\\ipykernel_12152\\3183110562.py:52: FutureWarning: The frame.append method is deprecated and will be removed from pandas in a future version. Use pandas.concat instead.\n",
      "  propagation_rates=propagation_rates.append({'susceptible':SIR[0],\n",
      "C:\\Users\\navid\\AppData\\Local\\Temp\\ipykernel_12152\\3183110562.py:52: FutureWarning: The frame.append method is deprecated and will be removed from pandas in a future version. Use pandas.concat instead.\n",
      "  propagation_rates=propagation_rates.append({'susceptible':SIR[0],\n",
      "C:\\Users\\navid\\AppData\\Local\\Temp\\ipykernel_12152\\3183110562.py:52: FutureWarning: The frame.append method is deprecated and will be removed from pandas in a future version. Use pandas.concat instead.\n",
      "  propagation_rates=propagation_rates.append({'susceptible':SIR[0],\n",
      "C:\\Users\\navid\\AppData\\Local\\Temp\\ipykernel_12152\\3183110562.py:52: FutureWarning: The frame.append method is deprecated and will be removed from pandas in a future version. Use pandas.concat instead.\n",
      "  propagation_rates=propagation_rates.append({'susceptible':SIR[0],\n",
      "C:\\Users\\navid\\AppData\\Local\\Temp\\ipykernel_12152\\3183110562.py:52: FutureWarning: The frame.append method is deprecated and will be removed from pandas in a future version. Use pandas.concat instead.\n",
      "  propagation_rates=propagation_rates.append({'susceptible':SIR[0],\n",
      "C:\\Users\\navid\\AppData\\Local\\Temp\\ipykernel_12152\\3183110562.py:52: FutureWarning: The frame.append method is deprecated and will be removed from pandas in a future version. Use pandas.concat instead.\n",
      "  propagation_rates=propagation_rates.append({'susceptible':SIR[0],\n",
      "C:\\Users\\navid\\AppData\\Local\\Temp\\ipykernel_12152\\3183110562.py:52: FutureWarning: The frame.append method is deprecated and will be removed from pandas in a future version. Use pandas.concat instead.\n",
      "  propagation_rates=propagation_rates.append({'susceptible':SIR[0],\n",
      "C:\\Users\\navid\\AppData\\Local\\Temp\\ipykernel_12152\\3183110562.py:52: FutureWarning: The frame.append method is deprecated and will be removed from pandas in a future version. Use pandas.concat instead.\n",
      "  propagation_rates=propagation_rates.append({'susceptible':SIR[0],\n",
      "C:\\Users\\navid\\AppData\\Local\\Temp\\ipykernel_12152\\3183110562.py:52: FutureWarning: The frame.append method is deprecated and will be removed from pandas in a future version. Use pandas.concat instead.\n",
      "  propagation_rates=propagation_rates.append({'susceptible':SIR[0],\n",
      "C:\\Users\\navid\\AppData\\Local\\Temp\\ipykernel_12152\\3183110562.py:52: FutureWarning: The frame.append method is deprecated and will be removed from pandas in a future version. Use pandas.concat instead.\n",
      "  propagation_rates=propagation_rates.append({'susceptible':SIR[0],\n",
      "C:\\Users\\navid\\AppData\\Local\\Temp\\ipykernel_12152\\3183110562.py:52: FutureWarning: The frame.append method is deprecated and will be removed from pandas in a future version. Use pandas.concat instead.\n",
      "  propagation_rates=propagation_rates.append({'susceptible':SIR[0],\n",
      "C:\\Users\\navid\\AppData\\Local\\Temp\\ipykernel_12152\\3183110562.py:52: FutureWarning: The frame.append method is deprecated and will be removed from pandas in a future version. Use pandas.concat instead.\n",
      "  propagation_rates=propagation_rates.append({'susceptible':SIR[0],\n"
     ]
    },
    {
     "name": "stdout",
     "output_type": "stream",
     "text": [
      "standard deviation errors :  [0.00092392 0.00068334]  start infect: 194.99099999999999\n",
      "Optimal parameters: beta = 0.37743483493116764  and gamma =  0.09649297277580199\n"
     ]
    },
    {
     "name": "stderr",
     "output_type": "stream",
     "text": [
      "C:\\Users\\navid\\AppData\\Local\\Temp\\ipykernel_12152\\3183110562.py:77: RuntimeWarning: overflow encountered in double_scalars\n",
      "  dS_dt=-beta*S*I/N0          #S*I is the\n",
      "C:\\Users\\navid\\AppData\\Local\\Temp\\ipykernel_12152\\3183110562.py:78: RuntimeWarning: overflow encountered in double_scalars\n",
      "  dI_dt=beta*S*I/N0-gamma*I\n",
      "C:\\Users\\navid\\AppData\\Local\\Temp\\ipykernel_12152\\3183110562.py:78: RuntimeWarning: invalid value encountered in double_scalars\n",
      "  dI_dt=beta*S*I/N0-gamma*I\n",
      "C:\\Users\\navid\\anaconda3\\lib\\site-packages\\scipy\\integrate\\odepack.py:247: ODEintWarning: Illegal input detected (internal error). Run with full_output = 1 to get quantitative information.\n",
      "  warnings.warn(warning_msg, ODEintWarning)\n"
     ]
    }
   ],
   "source": [
    "\n",
    "# set some basic parameters\n",
    "# beta/gamma is denoted as  'basic reproduction number'\n",
    "\n",
    "N0=1000000 #df2_4[df2_4.country=='Germany'].Population #max susceptible population\n",
    "beta=0.4   # infection spread dynamics\n",
    "gamma=0.1  # recovery rate\n",
    "\n",
    "## beta/gamma is the basic reproduction number, <1 means no spread virus\n",
    "\n",
    "\n",
    "# condition I0+S0+R0=N0\n",
    "I0=df_analyse.Germany[40]\n",
    "S0=N0-I0\n",
    "R0=0\n",
    "\n",
    "def SIR_model(SIR,beta,gamma):\n",
    "    ''' Simple SIR model\n",
    "        S: susceptible population\n",
    "        I: infected people\n",
    "        R: recovered people\n",
    "        beta: \n",
    "        \n",
    "        overall condition is that the sum of changes (differnces) sum up to 0\n",
    "        dS+dI+dR=0\n",
    "        S+I+R= N (constant size of population)\n",
    "    \n",
    "    '''\n",
    "    \n",
    "    S,I,R=SIR\n",
    "    dS_dt=-beta*S*I/N0          #S*I is the \n",
    "    dI_dt=beta*S*I/N0-gamma*I\n",
    "    dR_dt=gamma*I\n",
    "    return([dS_dt,dI_dt,dR_dt])\n",
    "\n",
    "\n",
    "\n",
    "\n",
    "\n",
    "SIR=np.array([S0,I0,R0])\n",
    "propagation_rates=pd.DataFrame(columns={'susceptible':S0,\n",
    "                                        'infected':I0,\n",
    "                                        'recoverd':R0})\n",
    "\n",
    "\n",
    "\n",
    "for each_t in np.arange(100):\n",
    "   \n",
    "    new_delta_vec=SIR_model(SIR,beta,gamma)\n",
    "   \n",
    "    SIR=SIR+new_delta_vec\n",
    "    \n",
    "    propagation_rates=propagation_rates.append({'susceptible':SIR[0],\n",
    "                                                'infected':SIR[1],\n",
    "                                                'recovered':SIR[2]}, ignore_index=True)\n",
    "\n",
    "\n",
    "\n",
    "\n",
    "\n",
    "\n",
    "\n",
    "def SIR_model_t(SIR,t,beta,gamma):\n",
    "    ''' Simple SIR model\n",
    "        S: susceptible population\n",
    "        t: time step, mandatory for integral.odeint\n",
    "        I: infected people\n",
    "        R: recovered people\n",
    "        beta: \n",
    "        \n",
    "        overall condition is that the sum of changes (differnces) sum up to 0\n",
    "        dS+dI+dR=0\n",
    "        S+I+R= N (constant size of population)\n",
    "    \n",
    "    '''\n",
    "    \n",
    "    S,I,R=SIR\n",
    "    dS_dt=-beta*S*I/N0          #S*I is the \n",
    "    dI_dt=beta*S*I/N0-gamma*I\n",
    "    dR_dt=gamma*I\n",
    "    return dS_dt,dI_dt,dR_dt\n",
    "\n",
    "\n",
    "\n",
    "def fit_odeint(x, beta, gamma):\n",
    "    '''\n",
    "    helper function for the integration\n",
    "    '''\n",
    "    return integrate.odeint(SIR_model_t, (S0, I0, R0), t, args=(beta, gamma))[:,1] # we only would like to get dI\n",
    "\n",
    "\n",
    "def fit_odeint2(x, beta, gamma):\n",
    "    '''\n",
    "    helper function for the integration\n",
    "    '''\n",
    "    return integrate.odeint(SIR_model_t, (S02, I02, R0), t, args=(beta, gamma))[:,1] # we only would like to get dI\n",
    "\n",
    "\n",
    "def fit_odeint3(x, beta, gamma):\n",
    "    '''\n",
    "    helper function for the integration\n",
    "    '''\n",
    "    return integrate.odeint(SIR_model_t, (S03, I03, R0), t, args=(beta, gamma))[:,1] # we only would like to get dI\n",
    "\n",
    "## fit the data set ydata, here the simulative data set of the infected curve\n",
    "\n",
    "ydata = propagation_rates.infected\n",
    "t=np.arange(len(ydata))\n",
    "\n",
    "\n",
    "popt, pcov = optimize.curve_fit(fit_odeint, t, ydata)\n",
    "perr = np.sqrt(np.diag(pcov))\n",
    "    \n",
    "print('standard deviation errors : ',str(perr), ' start infect:',ydata[0])\n",
    "print(\"Optimal parameters: beta =\", popt[0], \" and gamma = \", popt[1])"
   ]
  },
  {
   "cell_type": "code",
   "execution_count": 9,
   "id": "3a17e251",
   "metadata": {},
   "outputs": [],
   "source": [
    "# get the final fitted curve\n",
    "fitted=fit_odeint(t, *popt)"
   ]
  },
  {
   "cell_type": "code",
   "execution_count": 10,
   "id": "91e49032",
   "metadata": {},
   "outputs": [],
   "source": [
    "ydata = np.array(df_analyse.Germany[40:200])\n",
    "ydata2 = np.array(df_analyse.Iran[40:200])\n",
    "ydata3 = np.array(df_analyse.Italy[40:200])\n",
    "t=np.arange(len(ydata))"
   ]
  },
  {
   "cell_type": "markdown",
   "id": "de946e42",
   "metadata": {},
   "source": [
    "Fitting the parameters of SIR model the SIR model is assuming a very simplistic curve however we can find situations (time windows) where the model might apply"
   ]
  },
  {
   "cell_type": "code",
   "execution_count": 11,
   "id": "4434f04a",
   "metadata": {},
   "outputs": [],
   "source": [
    "ydata = np.array(df_analyse.Germany[40:200])\n",
    "ydata2 = np.array(df_analyse.Iran[40:200])\n",
    "ydata3 = np.array(df_analyse.Italy[40:200])\n",
    "t=np.arange(len(ydata))\n",
    "# ensure re-initialization \n",
    "# attenion when slicing gout only a time window \n",
    "# (one Corana wave) the overall N0 is not the full popoulation size \n",
    "N0=df2_4[df2_4.country=='Germany'].Population \n",
    "N02=df2_4[df2_4.country=='Iran'].Population \n",
    "N03=df2_4[df2_4.country=='Italy'].Population \n",
    "\n",
    "I0=ydata[0]\n",
    "S0=N0-I0\n",
    "\n",
    "I02=ydata2[0]\n",
    "S02=N02-I02\n",
    "\n",
    "I03=ydata3[0]\n",
    "S03=N03-I03\n",
    "\n",
    "R0=0\n",
    "#print('start infected:',I0)\n",
    "#print('cumulative sum of invected after period',ydata[-1])\n",
    "#print('Number of days',len(ydata))\n",
    "#print('N0',N0)"
   ]
  },
  {
   "cell_type": "code",
   "execution_count": 12,
   "id": "b985b128",
   "metadata": {},
   "outputs": [
    {
     "name": "stdout",
     "output_type": "stream",
     "text": [
      "standard deviation errors :  [0.01384003 0.01388846]  start infect: 150\n",
      "Optimal parameters: beta = 0.9136792025563819  and gamma =  0.8420755637382267\n",
      "standard deviation errors :  [0.02632319 0.02157279]  start infect: 1501\n",
      "Optimal parameters: beta = 0.9288614271845095  and gamma =  0.8835570079108895\n",
      "standard deviation errors :  [0.01587028 0.01122092]  start infect: 2036\n",
      "Optimal parameters: beta = 0.7633519156017868  and gamma =  0.49973447896186096\n"
     ]
    }
   ],
   "source": [
    "## get the model parameters / fit the model\n",
    "popt, pcov = optimize.curve_fit(fit_odeint, t, ydata)\n",
    "perr = np.sqrt(np.diag(pcov))\n",
    "\n",
    "popt2, pcov2 = optimize.curve_fit(fit_odeint2, t, ydata2)\n",
    "perr2 = np.sqrt(np.diag(pcov2))\n",
    "\n",
    "popt3, pcov3 = optimize.curve_fit(fit_odeint3, t, ydata3)\n",
    "perr3 = np.sqrt(np.diag(pcov3))\n",
    "\n",
    "print('standard deviation errors : ',str(perr), ' start infect:',ydata[0])\n",
    "print(\"Optimal parameters: beta =\", popt[0], \" and gamma = \", popt[1])\n",
    "\n",
    "print('standard deviation errors : ',str(perr2), ' start infect:',ydata2[0])\n",
    "print(\"Optimal parameters: beta =\", popt2[0], \" and gamma = \", popt2[1])\n",
    "\n",
    "print('standard deviation errors : ',str(perr3), ' start infect:',ydata3[0])\n",
    "print(\"Optimal parameters: beta =\", popt3[0], \" and gamma = \", popt3[1])\n",
    "\n",
    "# get the final fitted curve / predict the outcome \n",
    "fitted=fit_odeint(t, *popt)\n",
    "fitted2=fit_odeint(t, *popt2)\n",
    "fitted3=fit_odeint(t, *popt3)"
   ]
  },
  {
   "cell_type": "code",
   "execution_count": null,
   "id": "ca06aead",
   "metadata": {},
   "outputs": [],
   "source": []
  },
  {
   "cell_type": "code",
   "execution_count": 13,
   "id": "49b3d706",
   "metadata": {
    "scrolled": false
   },
   "outputs": [
    {
     "data": {
      "image/png": "[encoded data removed]",
      "text/plain": [
       "<Figure size 1152x648 with 1 Axes>"
      ]
     },
     "metadata": {},
     "output_type": "display_data"
    },
    {
     "name": "stdout",
     "output_type": "stream",
     "text": [
      "Optimal parameters: beta = 0.9136792025563819  and gamma =  0.8420755637382267\n",
      "Basic Reproduction Number R0  1.0850323200215966\n"
     ]
    }
   ],
   "source": [
    "plt.semilogy(t,np.ediff1d(ydata, to_begin=ydata[1]-ydata[0]), 'o')\n",
    "plt.semilogy(t, fitted)\n",
    "\n",
    "plt.title(\"Fit of SIR model for Germany cases\")\n",
    "plt.ylabel(\"New Population infected\")\n",
    "plt.xlabel(\"Days\")\n",
    "plt.show()\n",
    "print(\"Optimal parameters: beta =\", popt[0], \" and gamma = \", popt[1])\n",
    "print(\"Basic Reproduction Number R0 \" , popt[0]/ popt[1])"
   ]
  },
  {
   "cell_type": "code",
   "execution_count": 14,
   "id": "174e1797",
   "metadata": {},
   "outputs": [
    {
     "data": {
      "image/png": "[encoded data removed]",
      "text/plain": [
       "<Figure size 1152x648 with 1 Axes>"
      ]
     },
     "metadata": {},
     "output_type": "display_data"
    },
    {
     "name": "stdout",
     "output_type": "stream",
     "text": [
      "Optimal parameters: beta = 0.9288614271845095  and gamma =  0.8835570079108895\n",
      "Basic Reproduction Number R0  1.0512750381333504\n"
     ]
    }
   ],
   "source": [
    "plt.semilogy(t,np.ediff1d(ydata2, to_begin=ydata2[1]-ydata2[0]), 'o')\n",
    "plt.semilogy(t, fitted2)\n",
    "\n",
    "plt.title(\"Fit of SIR model for Iran cases\")\n",
    "plt.ylabel(\"New Population infected\")\n",
    "plt.xlabel(\"Days\")\n",
    "plt.show()\n",
    "print(\"Optimal parameters: beta =\", popt2[0], \" and gamma = \", popt2[1])\n",
    "print(\"Basic Reproduction Number R0 \" , popt2[0]/ popt2[1])"
   ]
  },
  {
   "cell_type": "code",
   "execution_count": 15,
   "id": "46972a88",
   "metadata": {},
   "outputs": [
    {
     "data": {
      "image/png": "[encoded data removed]",
      "text/plain": [
       "<Figure size 1152x648 with 1 Axes>"
      ]
     },
     "metadata": {},
     "output_type": "display_data"
    },
    {
     "name": "stdout",
     "output_type": "stream",
     "text": [
      "Optimal parameters: beta = 0.7633519156017868  and gamma =  0.49973447896186096\n",
      "Basic Reproduction Number R0  1.527515005943876\n"
     ]
    }
   ],
   "source": [
    "plt.semilogy(t,np.ediff1d(ydata3, to_begin=ydata3[1]-ydata3[0]), 'o')\n",
    "plt.semilogy(t, fitted3)\n",
    "\n",
    "plt.title(\"Fit of SIR model for Italy cases\")\n",
    "plt.ylabel(\"New Population infected\")\n",
    "plt.xlabel(\"Days\")\n",
    "plt.show()\n",
    "print(\"Optimal parameters: beta =\", popt3[0], \" and gamma = \", popt3[1])\n",
    "print(\"Basic Reproduction Number R0 \" , popt3[0]/ popt3[1])"
   ]
  },
  {
   "cell_type": "markdown",
   "id": "92ce8ae6",
   "metadata": {},
   "source": [
    "Monitoring Data on Dashboard"
   ]
  },
  {
   "cell_type": "code",
   "execution_count": 16,
   "id": "cd3d654d",
   "metadata": {},
   "outputs": [],
   "source": [
    "import plotly\n",
    "import plotly.graph_objects as go\n",
    "import dash\n",
    "from dash import dcc\n",
    "from dash import html\n",
    "fig=go.Figure()\n",
    "#import dash_core_components as dcc\n",
    "#import dash_html_components as html\n",
    "\n",
    "app = dash.Dash()\n",
    "app.layout = html.Div([\n",
    "    html.Label('Multi-Select Country'),\n",
    "    dcc.Dropdown(\n",
    "        id='country_drop_down',\n",
    "        options=[{'label': each, 'value': each} for each in country_list],\n",
    "                    \n",
    "        value=['Germany'],\n",
    "        multi=True\n",
    "    ),\n",
    "\n",
    "\n",
    "    dcc.Graph(figure=fig, id='main_window_slope')\n",
    "])"
   ]
  },
  {
   "cell_type": "code",
   "execution_count": 17,
   "id": "45a43bfa",
   "metadata": {},
   "outputs": [],
   "source": [
    "from dash.dependencies import Input, Output\n",
    "\n",
    "@app.callback(\n",
    "    Output('main_window_slope', 'figure'),\n",
    "    [Input('country_drop_down', 'value')])\n",
    "def update_figure(country_list):\n",
    "\n",
    "    traces = []\n",
    "    for each in country_list:\n",
    "        if 'Iran' in country_list:\n",
    "            traces.append(dict(x=t,\n",
    "                           y=np.ediff1d(ydata2, to_begin=ydata2[1]-ydata2[0]),\n",
    "                          mode='markers+lines',\n",
    "                           opacity=0.9,\n",
    "                           line_width=2,\n",
    "                          marker_size=4,\n",
    "                          name=each))\n",
    "        \n",
    "            traces.append(dict(x=t,\n",
    "                           y=fitted2,\n",
    "                          mode='markers+lines',\n",
    "                           opacity=0.9,\n",
    "                           line_width=2,\n",
    "                          marker_size=4,\n",
    "                          name=each))\n",
    "        \n",
    "        if 'Italy' in country_list:\n",
    "            traces.append(dict(x=t,\n",
    "                           y=np.ediff1d(ydata3, to_begin=ydata3[1]-ydata3[0]),\n",
    "                          mode='markers+lines',\n",
    "                           opacity=0.9,\n",
    "                           line_width=2,\n",
    "                          marker_size=4,\n",
    "                          name=each))\n",
    "        \n",
    "            traces.append(dict(x=t,\n",
    "                           y=fitted3,\n",
    "                          mode='markers+lines',\n",
    "                           opacity=0.9,\n",
    "                           line_width=2,\n",
    "                          marker_size=4,\n",
    "                          name=each))\n",
    "        if 'Germany' in country_list:\n",
    "            traces.append(dict(x=t,\n",
    "                           y=np.ediff1d(ydata, to_begin=ydata[1]-ydata[0]),\n",
    "                          mode='markers+lines',\n",
    "                           opacity=0.9,\n",
    "                           line_width=2,\n",
    "                          marker_size=4,\n",
    "                          name=each))\n",
    "        \n",
    "            traces.append(dict(x=t,\n",
    "                           y=fitted,\n",
    "                          mode='markers+lines',\n",
    "                           opacity=0.9,\n",
    "                           line_width=2,\n",
    "                          marker_size=4,\n",
    "                          name=each))\n",
    "\n",
    "    return {\n",
    "            'data': traces,\n",
    "            'layout':dict (\n",
    "                     width=1200,\n",
    "                     height=700,\n",
    "                \n",
    "                     xaxis={'title':'Timeline',\n",
    "                        'tickangle':-45,\n",
    "                        'nticks':20,\n",
    "                        'tickfont':dict(size=14,color=\"#7f7f7f\"),\n",
    "                      },\n",
    "\n",
    "                yaxis={'type':\"log\",\n",
    "               'title':'SIR'\n",
    "              }   \n",
    "        )\n",
    "                               \n",
    "           \n",
    "     }\n",
    "\n"
   ]
  },
  {
   "cell_type": "markdown",
   "id": "dfff16c2",
   "metadata": {},
   "source": [
    "Navid Azadegan "
   ]
  },
  {
   "cell_type": "code",
   "execution_count": null,
   "id": "0d8b1fd4",
   "metadata": {
    "scrolled": true
   },
   "outputs": [
    {
     "name": "stdout",
     "output_type": "stream",
     "text": [
      "Dash is running on http://127.0.0.1:8050/\n",
      "\n",
      " * Serving Flask app \"__main__\" (lazy loading)\n",
      " * Environment: production\n",
      "\u001b[31m   WARNING: This is a development server. Do not use it in a production deployment.\u001b[0m\n",
      "\u001b[2m   Use a production WSGI server instead.\u001b[0m\n",
      " * Debug mode: on\n"
     ]
    }
   ],
   "source": [
    "app.run_server(debug=True, use_reloader=False)"
   ]
  },
  {
   "cell_type": "code",
   "execution_count": null,
   "id": "d7d5c6a2",
   "metadata": {},
   "outputs": [],
   "source": []
  }
 ],
 "metadata": {
  "kernelspec": {
   "display_name": "Python 3 (ipykernel)",
   "language": "python",
   "name": "python3"
  },
  "language_info": {
   "codemirror_mode": {
    "name": "ipython",
    "version": 3
   },
   "file_extension": ".py",
   "mimetype": "text/x-python",
   "name": "python",
   "nbconvert_exporter": "python",
   "pygments_lexer": "ipython3",
   "version": "3.9.12"
  }
 },
 "nbformat": 4,
 "nbformat_minor": 5
}
